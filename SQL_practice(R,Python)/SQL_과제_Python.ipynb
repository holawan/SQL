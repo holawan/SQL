{
 "cells": [
  {
   "cell_type": "code",
   "execution_count": 77,
   "metadata": {},
   "outputs": [],
   "source": [
    "import sqlite3"
   ]
  },
  {
   "cell_type": "code",
   "execution_count": 107,
   "metadata": {},
   "outputs": [],
   "source": [
    "conn = sqlite3.connect(\"/Users/gimdong-wan/Desktop/김동완 수업자료/통계 데이터베이스/PythonSQL/score.db\", isolation_level=None)"
   ]
  },
  {
   "cell_type": "code",
   "execution_count": 108,
   "metadata": {},
   "outputs": [],
   "source": [
    "# 커서 생성\n",
    "c = conn.cursor()"
   ]
  },
  {
   "cell_type": "code",
   "execution_count": 109,
   "metadata": {},
   "outputs": [
    {
     "data": {
      "text/plain": [
       "(1,)"
      ]
     },
     "execution_count": 109,
     "metadata": {},
     "output_type": "execute_result"
    }
   ],
   "source": [
    "# 교수 테이블 생성하기\n",
    "sql = \"\"\"CREATE TABLE IF NOT EXISTS Prof\n",
    "( PID TEXT PRIMARY KEY, \n",
    "PName TEXT not null,\n",
    "PDept TEXT )\"\"\"\n",
    "c.execute(sql)\n",
    "# 테이블이 생성되었는지(존재하는지) 확인\n",
    "check=\"SELECT count(*) FROM sqlite_master WHERE name='Prof'\" \n",
    "c.execute(check)\n",
    "c.fetchone()"
   ]
  },
  {
   "cell_type": "code",
   "execution_count": 110,
   "metadata": {},
   "outputs": [
    {
     "data": {
      "text/plain": [
       "(1,)"
      ]
     },
     "execution_count": 110,
     "metadata": {},
     "output_type": "execute_result"
    }
   ],
   "source": [
    "#학생 테이블 생성하기\n",
    "sql = \"\"\"CREATE TABLE IF NOT EXISTS Student  \n",
    "( SID TEXT PRIMARY KEY, \n",
    "Name TEXT not null,\n",
    "Dept TEXT not null,\n",
    "Grade INTEGER not null,\n",
    "PID TEXT,\n",
    "FOREIGN KEY(PID) REFERENCES Prof(PID) ) \"\"\"\n",
    "c.execute(sql)\n",
    "# 테이블이 생성되었는지(존재하는지) 확인\n",
    "check=\"SELECT count(*) FROM sqlite_master WHERE name='Student'\" \n",
    "c.execute(check)\n",
    "c.fetchone()"
   ]
  },
  {
   "cell_type": "code",
   "execution_count": 111,
   "metadata": {},
   "outputs": [
    {
     "data": {
      "text/plain": [
       "(1,)"
      ]
     },
     "execution_count": 111,
     "metadata": {},
     "output_type": "execute_result"
    }
   ],
   "source": [
    "#교과목 테이블 생성하기\n",
    "sql = \"\"\"CREATE TABLE IF NOT EXISTS Curriculum  \n",
    "(SubjectID TEXT PRIMARY KEY, \n",
    "SubjectName TEXT not null ) \"\"\"\n",
    "c.execute(sql)\n",
    "# 테이블이 생성되었는지(존재하는지) 확인\n",
    "check=\"SELECT count(*) FROM sqlite_master WHERE name='Curriculum'\" \n",
    "c.execute(check)\n",
    "c.fetchone()"
   ]
  },
  {
   "cell_type": "code",
   "execution_count": 112,
   "metadata": {},
   "outputs": [
    {
     "data": {
      "text/plain": [
       "(1,)"
      ]
     },
     "execution_count": 112,
     "metadata": {},
     "output_type": "execute_result"
    }
   ],
   "source": [
    "#성적 테이블 생성하기\n",
    "sql = \"\"\"CREATE TABLE IF NOT EXISTS Score  \n",
    "( SID TEXT , \n",
    "SubjectID TEXT ,\n",
    "Score INTEGER default 0,\n",
    "PRIMARY KEY(SID, SubjectID)\n",
    "FOREIGN KEY(SID) REFERENCES Student(SID),\n",
    "FOREIGN KEY(SubjectID) REFERENCES Curriculum(SubjectID)) \"\"\"\n",
    "c.execute(sql)\n",
    "# 테이블이 생성되었는지(존재하는지) 확인\n",
    "check=\"SELECT count(*) FROM sqlite_master WHERE name='Score'\" \n",
    "c.execute(check)\n",
    "c.fetchone()"
   ]
  },
  {
   "cell_type": "code",
   "execution_count": 106,
   "metadata": {},
   "outputs": [
    {
     "data": {
      "text/plain": [
       "('0515', '안정용교수님', '통계학과')"
      ]
     },
     "execution_count": 106,
     "metadata": {},
     "output_type": "execute_result"
    }
   ],
   "source": [
    "# Prof 테이블에 데이터 insert\n",
    "sql = \"\"\" INSERT INTO Prof \n",
    "VALUES ('0515', '안정용교수님', '통계학과') \"\"\"\n",
    "c.execute(sql)\n",
    "\n",
    "# Prof 테이블에 데이터 삽입 결과 확인 \n",
    "check=\"SELECT * FROM Prof\" \n",
    "c.execute(check)\n",
    "c.fetchone()"
   ]
  },
  {
   "cell_type": "code",
   "execution_count": 85,
   "metadata": {},
   "outputs": [
    {
     "data": {
      "text/plain": [
       "('201616525', '김동완', '사회학과', 4, '0515')"
      ]
     },
     "execution_count": 85,
     "metadata": {},
     "output_type": "execute_result"
    }
   ],
   "source": [
    "# Student 테이블에 데이터 insert\n",
    "sql = \"\"\" INSERT INTO Student \n",
    "VALUES ('201616525', '김동완', '사회학과',4,'0515') \"\"\"\n",
    "c.execute(sql)\n",
    "\n",
    "# Student 테이블에 데이터 삽입 결과 확인 \n",
    "check=\"SELECT * FROM Student\"\n",
    "c.execute(check)\n",
    "c.fetchone()"
   ]
  },
  {
   "cell_type": "code",
   "execution_count": 86,
   "metadata": {},
   "outputs": [
    {
     "data": {
      "text/plain": [
       "('05', '통계데이터베이스')"
      ]
     },
     "execution_count": 86,
     "metadata": {},
     "output_type": "execute_result"
    }
   ],
   "source": [
    " # Curriculum 테이블에 데이터 insert\n",
    "sql = \"\"\" INSERT INTO Curriculum \n",
    "VALUES ('05', '통계데이터베이스') \"\"\"\n",
    "\n",
    "c.execute(sql)\n",
    "\n",
    "# Curriculum 테이블에 데이터 삽입 결과 확인 \n",
    "check=\"SELECT * FROM Curriculum\"\n",
    "c.execute(check)\n",
    "c.fetchone()"
   ]
  },
  {
   "cell_type": "code",
   "execution_count": 87,
   "metadata": {},
   "outputs": [
    {
     "data": {
      "text/plain": [
       "('201616525', '05', 0)"
      ]
     },
     "execution_count": 87,
     "metadata": {},
     "output_type": "execute_result"
    }
   ],
   "source": [
    "# Score 테이블에 데이터 insert\n",
    "sql = \"\"\" INSERT INTO Score \n",
    "VALUES ('201616525','05', 0) \"\"\"\n",
    "\n",
    "c.execute(sql)\n",
    "\n",
    "# Score 테이블에 데이터 삽입 결과 확인 \n",
    "check=\"SELECT * FROM Score\"\n",
    "c.execute(check)\n",
    "c.fetchone()"
   ]
  },
  {
   "cell_type": "code",
   "execution_count": 113,
   "metadata": {},
   "outputs": [
    {
     "data": {
      "text/plain": [
       "[('10001', '안정용교수님', '통계학과'),\n",
       " ('10002', '최혜미교수님', '통계학과'),\n",
       " ('10003', '김재우교수님', '사회학과'),\n",
       " ('10004', '송정기교수님', '사회학과')]"
      ]
     },
     "execution_count": 113,
     "metadata": {},
     "output_type": "execute_result"
    }
   ],
   "source": [
    "# CSV 화일의 데이터를 Prof 테이블에 삽입하기 \n",
    "import pandas as pd\n",
    "Prof = pd.read_csv('/Users/gimdong-wan/Desktop/김동완 수업자료/통계 데이터베이스/PythonSQL/Prof.csv', encoding='utf-8')\n",
    "Prof.to_sql('Prof', conn, if_exists='append', index=False)\n",
    "# Prof 테이블에 있는 데이터 확인하기 \n",
    "check=\"SELECT * FROM Prof\" \n",
    "c.execute(check)\n",
    "c.fetchall()"
   ]
  },
  {
   "cell_type": "code",
   "execution_count": 114,
   "metadata": {},
   "outputs": [
    {
     "data": {
      "text/plain": [
       "[('201616525', '김동완', '사회학과', 4, '10003'),\n",
       " ('201412323', '홍길동', '통계학과', 2, '10001'),\n",
       " ('201523293', '임꺽정', '사회학과', 3, '10003'),\n",
       " ('201212121', '박정화', '통계학과', 3, '10002'),\n",
       " ('201523233', '김삿갓', '사회학과', 1, '10004')]"
      ]
     },
     "execution_count": 114,
     "metadata": {},
     "output_type": "execute_result"
    }
   ],
   "source": [
    "# CSV 화일의 데이터를 Student 테이블에 삽입하기 \n",
    "Student = pd.read_csv('/Users/gimdong-wan/Desktop/김동완 수업자료/통계 데이터베이스/PythonSQL/Student.csv', encoding='utf-8')\n",
    "Student.to_sql('Student', conn, if_exists='append', index=False)\n",
    "# Student 테이블에 있는 데이터 확인하기 \n",
    "check=\"SELECT * FROM Student\" \n",
    "c.execute(check)\n",
    "c.fetchall()"
   ]
  },
  {
   "cell_type": "code",
   "execution_count": 115,
   "metadata": {},
   "outputs": [
    {
     "data": {
      "text/plain": [
       "[('9990', '환경과발전'),\n",
       " ('9991', '통계데이터베이스'),\n",
       " ('9992', '한국사회분석실습'),\n",
       " ('9993', '응용통계학')]"
      ]
     },
     "execution_count": 115,
     "metadata": {},
     "output_type": "execute_result"
    }
   ],
   "source": [
    "# CSV 화일의 데이터를 Curriculum 테이블에 삽입하기 \n",
    "Curriculum = pd.read_csv('/Users/gimdong-wan/Desktop/김동완 수업자료/통계 데이터베이스/PythonSQL/Curriculum.csv', encoding='utf-8')\n",
    "Curriculum.to_sql('Curriculum', conn, if_exists='append', index=False)\n",
    "# Curriculum 테이블에 있는 데이터 확인하기 \n",
    "check=\"SELECT * FROM Curriculum\" \n",
    "c.execute(check)\n",
    "c.fetchall()"
   ]
  },
  {
   "cell_type": "code",
   "execution_count": 116,
   "metadata": {},
   "outputs": [
    {
     "data": {
      "text/plain": [
       "[('201616525', '9990', 98),\n",
       " ('201412323', '9991', 65),\n",
       " ('201523233', '9992', 76),\n",
       " ('201212121', '9993', 54),\n",
       " ('201523233', '9990', 98)]"
      ]
     },
     "execution_count": 116,
     "metadata": {},
     "output_type": "execute_result"
    }
   ],
   "source": [
    "# CSV 화일의 데이터를 Score 테이블에 삽입하기 \n",
    "Score = pd.read_csv('/Users/gimdong-wan/Desktop/김동완 수업자료/통계 데이터베이스/PythonSQL/Score.csv', encoding='utf-8')\n",
    "Score.to_sql('Score', conn, if_exists='append', index=False)\n",
    "# Score 테이블에 있는 데이터 확인하기 \n",
    "check=\"SELECT * FROM Score\" \n",
    "c.execute(check)\n",
    "c.fetchall()"
   ]
  },
  {
   "cell_type": "code",
   "execution_count": 121,
   "metadata": {},
   "outputs": [
    {
     "data": {
      "text/plain": [
       "[('안정용교수님', '통계학과'),\n",
       " ('최혜미교수님', '통계학과'),\n",
       " ('김재우교수님', '사회학과'),\n",
       " ('송정기교수님', '사회학과')]"
      ]
     },
     "execution_count": 121,
     "metadata": {},
     "output_type": "execute_result"
    }
   ],
   "source": [
    "sql = \"\"\"SELECT PName,PDept FROM Prof\"\"\"\n",
    "c.execute(sql) \n",
    "c.fetchall()"
   ]
  },
  {
   "cell_type": "code",
   "execution_count": 120,
   "metadata": {},
   "outputs": [
    {
     "data": {
      "text/plain": [
       "[('201616525', '9990', 98),\n",
       " ('201412323', '9991', 65),\n",
       " ('201523233', '9992', 76),\n",
       " ('201212121', '9993', 54),\n",
       " ('201523233', '9990', 98)]"
      ]
     },
     "execution_count": 120,
     "metadata": {},
     "output_type": "execute_result"
    }
   ],
   "source": [
    "check=\"SELECT * FROM Score\" \n",
    "c.execute(check)\n",
    "c.fetchall()"
   ]
  },
  {
   "cell_type": "code",
   "execution_count": 122,
   "metadata": {},
   "outputs": [
    {
     "data": {
      "text/plain": [
       "[('201212121',), ('201412323',), ('201523233',), ('201616525',)]"
      ]
     },
     "execution_count": 122,
     "metadata": {},
     "output_type": "execute_result"
    }
   ],
   "source": [
    "sql = \"SELECT DISTINCT SID FROM SCORE\" \n",
    "c.execute(sql)\n",
    "c.fetchall()"
   ]
  },
  {
   "cell_type": "code",
   "execution_count": 124,
   "metadata": {},
   "outputs": [
    {
     "data": {
      "text/plain": [
       "[('9990', 98.0), ('9991', 65.0), ('9992', 76.0), ('9993', 54.0)]"
      ]
     },
     "execution_count": 124,
     "metadata": {},
     "output_type": "execute_result"
    }
   ],
   "source": [
    "sql = \"SELECT SubjectID, avg(Score) FROM Score GROUP BY SubjectID \" \n",
    "c.execute(sql)\n",
    "c.fetchall()"
   ]
  },
  {
   "cell_type": "code",
   "execution_count": 125,
   "metadata": {},
   "outputs": [
    {
     "data": {
      "text/plain": [
       "[('201212121', 54.0),\n",
       " ('201412323', 65.0),\n",
       " ('201523233', 87.0),\n",
       " ('201616525', 98.0)]"
      ]
     },
     "execution_count": 125,
     "metadata": {},
     "output_type": "execute_result"
    }
   ],
   "source": [
    "sql = \"SELECT SID, avg(Score) FROM Score GROUP BY SID\" \n",
    "c.execute(sql)\n",
    "c.fetchall()"
   ]
  },
  {
   "cell_type": "code",
   "execution_count": 127,
   "metadata": {},
   "outputs": [
    {
     "data": {
      "text/plain": [
       "[('201616525', '김동완', 98.0),\n",
       " ('201523233', '김삿갓', 87.0),\n",
       " ('201212121', '박정화', 54.0),\n",
       " ('201412323', '홍길동', 65.0)]"
      ]
     },
     "execution_count": 127,
     "metadata": {},
     "output_type": "execute_result"
    }
   ],
   "source": [
    "sql = \"SELECT CS.SID, C.Name, avg(Score) FROM Score CS JOIN Student C ON C.SID = CS.SID GROUP BY C.Name\"\n",
    "c.execute(sql)\n",
    "c.fetchall()"
   ]
  },
  {
   "cell_type": "code",
   "execution_count": 128,
   "metadata": {},
   "outputs": [
    {
     "data": {
      "text/plain": [
       "[('9993', '응용통계학', 54.0),\n",
       " ('9991', '통계데이터베이스', 65.0),\n",
       " ('9992', '한국사회분석실습', 76.0),\n",
       " ('9990', '환경과발전', 98.0)]"
      ]
     },
     "execution_count": 128,
     "metadata": {},
     "output_type": "execute_result"
    }
   ],
   "source": [
    "sql = \"\"\"SELECT CS.SubjectID, C.SubjectName, avg(Score)\n",
    "FROM Score CS\n",
    "JOIN Curriculum C\n",
    "ON C.SubjectID = CS.SubjectID \n",
    "GROUP BY C.SubjectName\"\"\"\n",
    "\n",
    "c.execute(sql)\n",
    "c.fetchall()"
   ]
  },
  {
   "cell_type": "code",
   "execution_count": 129,
   "metadata": {},
   "outputs": [
    {
     "data": {
      "text/plain": [
       "[('201616525', '김동완', 98.0), ('201523233', '김삿갓', 87.0)]"
      ]
     },
     "execution_count": 129,
     "metadata": {},
     "output_type": "execute_result"
    }
   ],
   "source": [
    "sql = \"\"\"SELECT CS.SID, C.Name, avg(Score)\n",
    "FROM Score CS\n",
    "JOIN Student C\n",
    "ON C.SID = CS.SID \n",
    "WHERE Score >= 70\n",
    "GROUP BY C.Name\"\"\"\n",
    "\n",
    "c.execute(sql)\n",
    "c.fetchall()"
   ]
  },
  {
   "cell_type": "code",
   "execution_count": 130,
   "metadata": {},
   "outputs": [
    {
     "data": {
      "text/plain": [
       "[('201212121', '박정화', 54.0),\n",
       " ('201412323', '홍길동', 65.0),\n",
       " ('201523233', '김삿갓', 87.0),\n",
       " ('201616525', '김동완', 98.0)]"
      ]
     },
     "execution_count": 130,
     "metadata": {},
     "output_type": "execute_result"
    }
   ],
   "source": [
    "sql = \"\"\"SELECT CS.SID, C.Name, avg(Score)\n",
    "FROM Score CS\n",
    "JOIN Student C\n",
    "ON C.SID = CS.SID \n",
    "GROUP BY C.Name\n",
    "ORDER BY avg(Score)\"\"\"\n",
    "\n",
    "c.execute(sql)\n",
    "c.fetchall()"
   ]
  },
  {
   "cell_type": "code",
   "execution_count": 132,
   "metadata": {},
   "outputs": [
    {
     "data": {
      "text/plain": [
       "[('201212121', '박정화', '통계학과', 54),\n",
       " ('201412323', '홍길동', '통계학과', 65),\n",
       " ('201523233', '김삿갓', '사회학과', 76),\n",
       " ('201616525', '김동완', '사회학과', 98),\n",
       " ('201523233', '김삿갓', '사회학과', 98)]"
      ]
     },
     "execution_count": 132,
     "metadata": {},
     "output_type": "execute_result"
    }
   ],
   "source": [
    "sql = \"\"\"SELECT CS.SID, C.Name,C.Dept, Score\n",
    "FROM Score CS\n",
    "JOIN Student C\n",
    "ON C.SID = CS.SID\n",
    "ORDER BY Score\"\"\"\n",
    "\n",
    "c.execute(sql)\n",
    "c.fetchall()"
   ]
  },
  {
   "cell_type": "code",
   "execution_count": null,
   "metadata": {},
   "outputs": [],
   "source": []
  }
 ],
 "metadata": {
  "kernelspec": {
   "display_name": "Python 3 (ipykernel)",
   "language": "python",
   "name": "python3"
  },
  "language_info": {
   "codemirror_mode": {
    "name": "ipython",
    "version": 3
   },
   "file_extension": ".py",
   "mimetype": "text/x-python",
   "name": "python",
   "nbconvert_exporter": "python",
   "pygments_lexer": "ipython3",
   "version": "3.9.9"
  },
  "toc": {
   "base_numbering": 1,
   "nav_menu": {},
   "number_sections": true,
   "sideBar": true,
   "skip_h1_title": false,
   "title_cell": "Table of Contents",
   "title_sidebar": "Contents",
   "toc_cell": false,
   "toc_position": {},
   "toc_section_display": true,
   "toc_window_display": false
  }
 },
 "nbformat": 4,
 "nbformat_minor": 4
}
