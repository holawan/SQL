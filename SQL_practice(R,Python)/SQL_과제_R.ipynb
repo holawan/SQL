{
 "cells": [
  {
   "cell_type": "code",
   "execution_count": 8,
   "metadata": {},
   "outputs": [],
   "source": [
    "setwd('/Users/gimdong-wan/Desktop/김동완 수업자료/통계 데이터베이스/Final_project')"
   ]
  },
  {
   "cell_type": "code",
   "execution_count": 9,
   "metadata": {},
   "outputs": [],
   "source": [
    "library(\"DBI\")\n",
    "library(\"RSQLite\")"
   ]
  },
  {
   "cell_type": "code",
   "execution_count": 10,
   "metadata": {},
   "outputs": [],
   "source": [
    "conn = dbConnect(SQLite(), dbname = \"/Users/gimdong-wan/Desktop/김동완 수업자료/통계 데이터베이스/RSQl/customer.sqlite\")"
   ]
  },
  {
   "cell_type": "code",
   "execution_count": 11,
   "metadata": {},
   "outputs": [
    {
     "data": {
      "text/html": [
       "0"
      ],
      "text/latex": [
       "0"
      ],
      "text/markdown": [
       "0"
      ],
      "text/plain": [
       "[1] 0"
      ]
     },
     "metadata": {},
     "output_type": "display_data"
    }
   ],
   "source": [
    "dbExecute(conn, \"PRAGMA foreign_keys=ON\")"
   ]
  },
  {
   "cell_type": "code",
   "execution_count": 12,
   "metadata": {},
   "outputs": [
    {
     "data": {
      "text/html": [
       "FALSE"
      ],
      "text/latex": [
       "FALSE"
      ],
      "text/markdown": [
       "FALSE"
      ],
      "text/plain": [
       "[1] FALSE"
      ]
     },
     "metadata": {},
     "output_type": "display_data"
    }
   ],
   "source": [
    "sql = \"CREATE TABLE IF NOT EXISTS Prof\n",
    "( PID TEXT PRIMARY KEY, \n",
    "PName TEXT not null,\n",
    "PDept Text)\"\n",
    "\n",
    "rs = dbSendQuery(conn, sql)\n",
    "\n",
    "# rs 제거\n",
    "dbClearResult(rs)\n",
    "\n",
    "# 테이블이 생성되었는지(존재하는지) 확인\n",
    "dbExistsTable(conn, \"Bicycle\")"
   ]
  },
  {
   "cell_type": "code",
   "execution_count": 13,
   "metadata": {},
   "outputs": [
    {
     "data": {
      "text/html": [
       "TRUE"
      ],
      "text/latex": [
       "TRUE"
      ],
      "text/markdown": [
       "TRUE"
      ],
      "text/plain": [
       "[1] TRUE"
      ]
     },
     "metadata": {},
     "output_type": "display_data"
    }
   ],
   "source": [
    "#학생 테이블 생성하기\n",
    "sql = \"CREATE TABLE IF NOT EXISTS Student  \n",
    "( SID TEXT PRIMARY KEY, \n",
    "Name TEXT not null,\n",
    "Dept TEXT not null,\n",
    "Grade INTEGER not null,\n",
    "PID TEXT,\n",
    "FOREIGN KEY(PID) REFERENCES Prof(PID) ) \"\n",
    "\n",
    "rs = dbSendQuery(conn, sql)\n",
    "\n",
    "# rs 제거\n",
    "\n",
    "dbClearResult(rs)\n",
    "dbExistsTable(conn, \"Student\")"
   ]
  },
  {
   "cell_type": "code",
   "execution_count": 14,
   "metadata": {},
   "outputs": [
    {
     "data": {
      "text/html": [
       "TRUE"
      ],
      "text/latex": [
       "TRUE"
      ],
      "text/markdown": [
       "TRUE"
      ],
      "text/plain": [
       "[1] TRUE"
      ]
     },
     "metadata": {},
     "output_type": "display_data"
    }
   ],
   "source": [
    "#교과목 테이블 생성하기\n",
    "\n",
    "sql = \"CREATE TABLE IF NOT EXISTS Curriculum  \n",
    "( SubjectID TEXT PRIMARY KEY, \n",
    "SubjectName TEXT not null ) \"\n",
    "\n",
    "rs = dbSendQuery(conn, sql)\n",
    "\n",
    "#rs 제거\n",
    "dbClearResult(rs)\n",
    "dbExistsTable(conn, \"Curriculum\")"
   ]
  },
  {
   "cell_type": "code",
   "execution_count": 15,
   "metadata": {},
   "outputs": [
    {
     "data": {
      "text/html": [
       "TRUE"
      ],
      "text/latex": [
       "TRUE"
      ],
      "text/markdown": [
       "TRUE"
      ],
      "text/plain": [
       "[1] TRUE"
      ]
     },
     "metadata": {},
     "output_type": "display_data"
    }
   ],
   "source": [
    "#성적 테이블 생성하기\n",
    "sql = \"CREATE TABLE IF NOT EXISTS Score  \n",
    "( SID TEXT , \n",
    "SubjectID TEXT ,\n",
    "Score INTEGER default 0,\n",
    "PRIMARY KEY(SID, SubjectID)\n",
    "FOREIGN KEY(SID) REFERENCES Student(SID),\n",
    "FOREIGN KEY(SubjectID) REFERENCES Curriculum(SubjectID)) \"\n",
    "\n",
    "rs = dbSendQuery(conn, sql)\n",
    "\n",
    "#rs 제거\n",
    "dbClearResult(rs)\n",
    "dbExistsTable(conn, \"Score\")"
   ]
  },
  {
   "cell_type": "code",
   "execution_count": 16,
   "metadata": {},
   "outputs": [
    {
     "data": {
      "text/html": [
       "<style>\n",
       ".list-inline {list-style: none; margin:0; padding: 0}\n",
       ".list-inline>li {display: inline-block}\n",
       ".list-inline>li:not(:last-child)::after {content: \"\\00b7\"; padding: 0 .5ex}\n",
       "</style>\n",
       "<ol class=list-inline><li>'Curriculum'</li><li>'Customer_Info'</li><li>'Customer_Score'</li><li>'Prof'</li><li>'Score'</li><li>'Student'</li></ol>\n"
      ],
      "text/latex": [
       "\\begin{enumerate*}\n",
       "\\item 'Curriculum'\n",
       "\\item 'Customer\\_Info'\n",
       "\\item 'Customer\\_Score'\n",
       "\\item 'Prof'\n",
       "\\item 'Score'\n",
       "\\item 'Student'\n",
       "\\end{enumerate*}\n"
      ],
      "text/markdown": [
       "1. 'Curriculum'\n",
       "2. 'Customer_Info'\n",
       "3. 'Customer_Score'\n",
       "4. 'Prof'\n",
       "5. 'Score'\n",
       "6. 'Student'\n",
       "\n",
       "\n"
      ],
      "text/plain": [
       "[1] \"Curriculum\"     \"Customer_Info\"  \"Customer_Score\" \"Prof\"          \n",
       "[5] \"Score\"          \"Student\"       "
      ]
     },
     "metadata": {},
     "output_type": "display_data"
    }
   ],
   "source": [
    "dbListTables(conn)"
   ]
  },
  {
   "cell_type": "code",
   "execution_count": 106,
   "metadata": {},
   "outputs": [
    {
     "data": {
      "text/html": [
       "TRUE"
      ],
      "text/latex": [
       "TRUE"
      ],
      "text/markdown": [
       "TRUE"
      ],
      "text/plain": [
       "[1] TRUE"
      ]
     },
     "metadata": {},
     "output_type": "display_data"
    },
    {
     "data": {
      "text/html": [
       "TRUE"
      ],
      "text/latex": [
       "TRUE"
      ],
      "text/markdown": [
       "TRUE"
      ],
      "text/plain": [
       "[1] TRUE"
      ]
     },
     "metadata": {},
     "output_type": "display_data"
    },
    {
     "data": {
      "text/html": [
       "TRUE"
      ],
      "text/latex": [
       "TRUE"
      ],
      "text/markdown": [
       "TRUE"
      ],
      "text/plain": [
       "[1] TRUE"
      ]
     },
     "metadata": {},
     "output_type": "display_data"
    },
    {
     "data": {
      "text/html": [
       "TRUE"
      ],
      "text/latex": [
       "TRUE"
      ],
      "text/markdown": [
       "TRUE"
      ],
      "text/plain": [
       "[1] TRUE"
      ]
     },
     "metadata": {},
     "output_type": "display_data"
    }
   ],
   "source": [
    "dbExistsTable(conn, \"Prof\")\n",
    "dbExistsTable(conn, \"Student\")\n",
    "dbExistsTable(conn, \"Curriculum\")\n",
    "dbExistsTable(conn, \"Score\")"
   ]
  },
  {
   "cell_type": "code",
   "execution_count": 107,
   "metadata": {},
   "outputs": [
    {
     "data": {
      "text/html": [
       "<table class=\"dataframe\">\n",
       "<caption>A data.frame: 1 × 3</caption>\n",
       "<thead>\n",
       "\t<tr><th scope=col>PID</th><th scope=col>PName</th><th scope=col>PDept</th></tr>\n",
       "\t<tr><th scope=col>&lt;chr&gt;</th><th scope=col>&lt;chr&gt;</th><th scope=col>&lt;chr&gt;</th></tr>\n",
       "</thead>\n",
       "<tbody>\n",
       "\t<tr><td>0515</td><td>안정용교수님</td><td>통계학과</td></tr>\n",
       "</tbody>\n",
       "</table>\n"
      ],
      "text/latex": [
       "A data.frame: 1 × 3\n",
       "\\begin{tabular}{lll}\n",
       " PID & PName & PDept\\\\\n",
       " <chr> & <chr> & <chr>\\\\\n",
       "\\hline\n",
       "\t 0515 & 안정용교수님 & 통계학과\\\\\n",
       "\\end{tabular}\n"
      ],
      "text/markdown": [
       "\n",
       "A data.frame: 1 × 3\n",
       "\n",
       "| PID &lt;chr&gt; | PName &lt;chr&gt; | PDept &lt;chr&gt; |\n",
       "|---|---|---|\n",
       "| 0515 | 안정용교수님 | 통계학과 |\n",
       "\n"
      ],
      "text/plain": [
       "  PID  PName        PDept   \n",
       "1 0515 안정용교수님 통계학과"
      ]
     },
     "metadata": {},
     "output_type": "display_data"
    }
   ],
   "source": [
    " # Prof 테이블에 데이터 insert\n",
    "sql = \" INSERT INTO Prof \n",
    "VALUES ('0515', '안정용교수님', '통계학과') \"\n",
    "\n",
    "rs = dbSendQuery(conn, sql)\n",
    "dbClearResult(rs)\n",
    "\n",
    "# Prof 테이블에 데이터 삽입 결과 확인\n",
    "dbGetQuery(conn, \"SELECT * FROM Prof\")"
   ]
  },
  {
   "cell_type": "code",
   "execution_count": 108,
   "metadata": {},
   "outputs": [
    {
     "data": {
      "text/html": [
       "<table class=\"dataframe\">\n",
       "<caption>A data.frame: 1 × 5</caption>\n",
       "<thead>\n",
       "\t<tr><th scope=col>SID</th><th scope=col>Name</th><th scope=col>Dept</th><th scope=col>Grade</th><th scope=col>PID</th></tr>\n",
       "\t<tr><th scope=col>&lt;chr&gt;</th><th scope=col>&lt;chr&gt;</th><th scope=col>&lt;chr&gt;</th><th scope=col>&lt;int&gt;</th><th scope=col>&lt;chr&gt;</th></tr>\n",
       "</thead>\n",
       "<tbody>\n",
       "\t<tr><td>201616525</td><td>김동완</td><td>사회학과</td><td>4</td><td>0515</td></tr>\n",
       "</tbody>\n",
       "</table>\n"
      ],
      "text/latex": [
       "A data.frame: 1 × 5\n",
       "\\begin{tabular}{lllll}\n",
       " SID & Name & Dept & Grade & PID\\\\\n",
       " <chr> & <chr> & <chr> & <int> & <chr>\\\\\n",
       "\\hline\n",
       "\t 201616525 & 김동완 & 사회학과 & 4 & 0515\\\\\n",
       "\\end{tabular}\n"
      ],
      "text/markdown": [
       "\n",
       "A data.frame: 1 × 5\n",
       "\n",
       "| SID &lt;chr&gt; | Name &lt;chr&gt; | Dept &lt;chr&gt; | Grade &lt;int&gt; | PID &lt;chr&gt; |\n",
       "|---|---|---|---|---|\n",
       "| 201616525 | 김동완 | 사회학과 | 4 | 0515 |\n",
       "\n"
      ],
      "text/plain": [
       "  SID       Name   Dept     Grade PID \n",
       "1 201616525 김동완 사회학과 4     0515"
      ]
     },
     "metadata": {},
     "output_type": "display_data"
    }
   ],
   "source": [
    " # Student 테이블에 데이터 insert\n",
    "sql = \" INSERT INTO Student \n",
    "VALUES ('201616525', '김동완', '사회학과',4,'0515') \"\n",
    "\n",
    "rs = dbSendQuery(conn, sql)\n",
    "dbClearResult(rs)\n",
    "\n",
    "# Studetn 테이블에 데이터 삽입 결과 확인\n",
    "dbGetQuery(conn, \"SELECT * FROM Student\")"
   ]
  },
  {
   "cell_type": "code",
   "execution_count": 109,
   "metadata": {},
   "outputs": [
    {
     "data": {
      "text/html": [
       "<table class=\"dataframe\">\n",
       "<caption>A data.frame: 1 × 2</caption>\n",
       "<thead>\n",
       "\t<tr><th scope=col>SubjectID</th><th scope=col>SubjectName</th></tr>\n",
       "\t<tr><th scope=col>&lt;chr&gt;</th><th scope=col>&lt;chr&gt;</th></tr>\n",
       "</thead>\n",
       "<tbody>\n",
       "\t<tr><td>05</td><td>통계데이터베이스</td></tr>\n",
       "</tbody>\n",
       "</table>\n"
      ],
      "text/latex": [
       "A data.frame: 1 × 2\n",
       "\\begin{tabular}{ll}\n",
       " SubjectID & SubjectName\\\\\n",
       " <chr> & <chr>\\\\\n",
       "\\hline\n",
       "\t 05 & 통계데이터베이스\\\\\n",
       "\\end{tabular}\n"
      ],
      "text/markdown": [
       "\n",
       "A data.frame: 1 × 2\n",
       "\n",
       "| SubjectID &lt;chr&gt; | SubjectName &lt;chr&gt; |\n",
       "|---|---|\n",
       "| 05 | 통계데이터베이스 |\n",
       "\n"
      ],
      "text/plain": [
       "  SubjectID SubjectName     \n",
       "1 05        통계데이터베이스"
      ]
     },
     "metadata": {},
     "output_type": "display_data"
    }
   ],
   "source": [
    " # Curriculum 테이블에 데이터 insert\n",
    "sql = \" INSERT INTO Curriculum \n",
    "VALUES ('05', '통계데이터베이스') \"\n",
    "\n",
    "rs = dbSendQuery(conn, sql)\n",
    "dbClearResult(rs)\n",
    "\n",
    "# Curriculum 테이블에 데이터 삽입 결과 확인\n",
    "dbGetQuery(conn, \"SELECT * FROM Curriculum\")"
   ]
  },
  {
   "cell_type": "code",
   "execution_count": 110,
   "metadata": {},
   "outputs": [
    {
     "data": {
      "text/html": [
       "<table class=\"dataframe\">\n",
       "<caption>A data.frame: 1 × 3</caption>\n",
       "<thead>\n",
       "\t<tr><th scope=col>SID</th><th scope=col>SubjectID</th><th scope=col>Score</th></tr>\n",
       "\t<tr><th scope=col>&lt;chr&gt;</th><th scope=col>&lt;chr&gt;</th><th scope=col>&lt;int&gt;</th></tr>\n",
       "</thead>\n",
       "<tbody>\n",
       "\t<tr><td>201616525</td><td>05</td><td>0</td></tr>\n",
       "</tbody>\n",
       "</table>\n"
      ],
      "text/latex": [
       "A data.frame: 1 × 3\n",
       "\\begin{tabular}{lll}\n",
       " SID & SubjectID & Score\\\\\n",
       " <chr> & <chr> & <int>\\\\\n",
       "\\hline\n",
       "\t 201616525 & 05 & 0\\\\\n",
       "\\end{tabular}\n"
      ],
      "text/markdown": [
       "\n",
       "A data.frame: 1 × 3\n",
       "\n",
       "| SID &lt;chr&gt; | SubjectID &lt;chr&gt; | Score &lt;int&gt; |\n",
       "|---|---|---|\n",
       "| 201616525 | 05 | 0 |\n",
       "\n"
      ],
      "text/plain": [
       "  SID       SubjectID Score\n",
       "1 201616525 05        0    "
      ]
     },
     "metadata": {},
     "output_type": "display_data"
    }
   ],
   "source": [
    " # Score 테이블에 데이터 insert\n",
    "sql = \" INSERT INTO Score \n",
    "VALUES ('201616525','05', 0) \"\n",
    "\n",
    "rs = dbSendQuery(conn, sql)\n",
    "dbClearResult(rs)\n",
    "\n",
    "# Score 테이블에 데이터 삽입 결과 확인\n",
    "dbGetQuery(conn, \"SELECT * FROM Score\")"
   ]
  },
  {
   "cell_type": "code",
   "execution_count": 78,
   "metadata": {},
   "outputs": [
    {
     "data": {
      "text/html": [
       "<table class=\"dataframe\">\n",
       "<caption>A data.frame: 1 × 3</caption>\n",
       "<thead>\n",
       "\t<tr><th scope=col>PID</th><th scope=col>PName</th><th scope=col>PDept</th></tr>\n",
       "\t<tr><th scope=col>&lt;chr&gt;</th><th scope=col>&lt;chr&gt;</th><th scope=col>&lt;chr&gt;</th></tr>\n",
       "</thead>\n",
       "<tbody>\n",
       "\t<tr><td>0515</td><td>안정용교수님</td><td>통계학과</td></tr>\n",
       "</tbody>\n",
       "</table>\n"
      ],
      "text/latex": [
       "A data.frame: 1 × 3\n",
       "\\begin{tabular}{lll}\n",
       " PID & PName & PDept\\\\\n",
       " <chr> & <chr> & <chr>\\\\\n",
       "\\hline\n",
       "\t 0515 & 안정용교수님 & 통계학과\\\\\n",
       "\\end{tabular}\n"
      ],
      "text/markdown": [
       "\n",
       "A data.frame: 1 × 3\n",
       "\n",
       "| PID &lt;chr&gt; | PName &lt;chr&gt; | PDept &lt;chr&gt; |\n",
       "|---|---|---|\n",
       "| 0515 | 안정용교수님 | 통계학과 |\n",
       "\n"
      ],
      "text/plain": [
       "  PID  PName        PDept   \n",
       "1 0515 안정용교수님 통계학과"
      ]
     },
     "metadata": {},
     "output_type": "display_data"
    },
    {
     "data": {
      "text/html": [
       "<table class=\"dataframe\">\n",
       "<caption>A data.frame: 1 × 5</caption>\n",
       "<thead>\n",
       "\t<tr><th scope=col>SID</th><th scope=col>Name</th><th scope=col>Dept</th><th scope=col>Grade</th><th scope=col>PID</th></tr>\n",
       "\t<tr><th scope=col>&lt;chr&gt;</th><th scope=col>&lt;chr&gt;</th><th scope=col>&lt;chr&gt;</th><th scope=col>&lt;int&gt;</th><th scope=col>&lt;chr&gt;</th></tr>\n",
       "</thead>\n",
       "<tbody>\n",
       "\t<tr><td>201616525</td><td>김동완</td><td>사회학과</td><td>4</td><td>0515</td></tr>\n",
       "</tbody>\n",
       "</table>\n"
      ],
      "text/latex": [
       "A data.frame: 1 × 5\n",
       "\\begin{tabular}{lllll}\n",
       " SID & Name & Dept & Grade & PID\\\\\n",
       " <chr> & <chr> & <chr> & <int> & <chr>\\\\\n",
       "\\hline\n",
       "\t 201616525 & 김동완 & 사회학과 & 4 & 0515\\\\\n",
       "\\end{tabular}\n"
      ],
      "text/markdown": [
       "\n",
       "A data.frame: 1 × 5\n",
       "\n",
       "| SID &lt;chr&gt; | Name &lt;chr&gt; | Dept &lt;chr&gt; | Grade &lt;int&gt; | PID &lt;chr&gt; |\n",
       "|---|---|---|---|---|\n",
       "| 201616525 | 김동완 | 사회학과 | 4 | 0515 |\n",
       "\n"
      ],
      "text/plain": [
       "  SID       Name   Dept     Grade PID \n",
       "1 201616525 김동완 사회학과 4     0515"
      ]
     },
     "metadata": {},
     "output_type": "display_data"
    },
    {
     "data": {
      "text/html": [
       "<table class=\"dataframe\">\n",
       "<caption>A data.frame: 1 × 2</caption>\n",
       "<thead>\n",
       "\t<tr><th scope=col>SubjectID</th><th scope=col>SubjectName</th></tr>\n",
       "\t<tr><th scope=col>&lt;chr&gt;</th><th scope=col>&lt;chr&gt;</th></tr>\n",
       "</thead>\n",
       "<tbody>\n",
       "\t<tr><td>05</td><td>통계데이터베이스</td></tr>\n",
       "</tbody>\n",
       "</table>\n"
      ],
      "text/latex": [
       "A data.frame: 1 × 2\n",
       "\\begin{tabular}{ll}\n",
       " SubjectID & SubjectName\\\\\n",
       " <chr> & <chr>\\\\\n",
       "\\hline\n",
       "\t 05 & 통계데이터베이스\\\\\n",
       "\\end{tabular}\n"
      ],
      "text/markdown": [
       "\n",
       "A data.frame: 1 × 2\n",
       "\n",
       "| SubjectID &lt;chr&gt; | SubjectName &lt;chr&gt; |\n",
       "|---|---|\n",
       "| 05 | 통계데이터베이스 |\n",
       "\n"
      ],
      "text/plain": [
       "  SubjectID SubjectName     \n",
       "1 05        통계데이터베이스"
      ]
     },
     "metadata": {},
     "output_type": "display_data"
    },
    {
     "data": {
      "text/html": [
       "<table class=\"dataframe\">\n",
       "<caption>A data.frame: 1 × 3</caption>\n",
       "<thead>\n",
       "\t<tr><th scope=col>SID</th><th scope=col>SubjectID</th><th scope=col>Score</th></tr>\n",
       "\t<tr><th scope=col>&lt;chr&gt;</th><th scope=col>&lt;chr&gt;</th><th scope=col>&lt;int&gt;</th></tr>\n",
       "</thead>\n",
       "<tbody>\n",
       "\t<tr><td>201616525</td><td>05</td><td>0</td></tr>\n",
       "</tbody>\n",
       "</table>\n"
      ],
      "text/latex": [
       "A data.frame: 1 × 3\n",
       "\\begin{tabular}{lll}\n",
       " SID & SubjectID & Score\\\\\n",
       " <chr> & <chr> & <int>\\\\\n",
       "\\hline\n",
       "\t 201616525 & 05 & 0\\\\\n",
       "\\end{tabular}\n"
      ],
      "text/markdown": [
       "\n",
       "A data.frame: 1 × 3\n",
       "\n",
       "| SID &lt;chr&gt; | SubjectID &lt;chr&gt; | Score &lt;int&gt; |\n",
       "|---|---|---|\n",
       "| 201616525 | 05 | 0 |\n",
       "\n"
      ],
      "text/plain": [
       "  SID       SubjectID Score\n",
       "1 201616525 05        0    "
      ]
     },
     "metadata": {},
     "output_type": "display_data"
    }
   ],
   "source": [
    "dbGetQuery(conn, \"SELECT * FROM Prof\")\n",
    "dbGetQuery(conn, \"SELECT * FROM Student\")\n",
    "dbGetQuery(conn, \"SELECT * FROM Curriculum\")\n",
    "dbGetQuery(conn, \"SELECT * FROM Score\")"
   ]
  },
  {
   "cell_type": "markdown",
   "metadata": {},
   "source": [
    "3.5절에서 예제로 제시한 성적관련 데이터베이스에서 \n",
    "    ① Prof 테이블의 교수이름, 학과 \n",
    "    ② Score 테이블의 모든 필드\n",
    "데이터를 검색하는 SQL 문을 작성하시오."
   ]
  },
  {
   "cell_type": "code",
   "execution_count": 195,
   "metadata": {},
   "outputs": [],
   "source": [
    "Prof = read.csv('RSQL/Prof.csv', encoding = \"UTF-8\",header=T)"
   ]
  },
  {
   "cell_type": "code",
   "execution_count": 196,
   "metadata": {},
   "outputs": [],
   "source": [
    "Curriculum = read.csv('RSQL/Curriculum.csv', encoding = \"UTF-8\",header=T)"
   ]
  },
  {
   "cell_type": "code",
   "execution_count": 197,
   "metadata": {},
   "outputs": [],
   "source": [
    "Score = read.csv('RSQL/Score.csv', encoding = \"UTF-8\",header=T)"
   ]
  },
  {
   "cell_type": "code",
   "execution_count": 198,
   "metadata": {},
   "outputs": [],
   "source": [
    "Student = read.csv('RSQL/Student.csv', encoding = \"UTF-8\",header=T)"
   ]
  },
  {
   "cell_type": "code",
   "execution_count": 199,
   "metadata": {},
   "outputs": [],
   "source": [
    "# CSV 화일의 데이터를 Prof 테이블에 삽입하기\n",
    "dbWriteTable(conn = conn, name = \"Prof\", Prof,\n",
    "overwrite=T, row.names=FALSE)"
   ]
  },
  {
   "cell_type": "code",
   "execution_count": 200,
   "metadata": {},
   "outputs": [],
   "source": [
    "# CSV 화일의 데이터를 Curriculumo 테이블에 삽입하기\n",
    "dbWriteTable(conn = conn, name = \"Curriculum\", Curriculum,\n",
    "overwrite=T, row.names=FALSE)"
   ]
  },
  {
   "cell_type": "code",
   "execution_count": 201,
   "metadata": {},
   "outputs": [],
   "source": [
    "# CSV 화일의 데이터를 Score 테이블에 삽입하기\n",
    "dbWriteTable(conn = conn, name = \"Score\", Score,\n",
    "overwrite=T, row.names=FALSE)"
   ]
  },
  {
   "cell_type": "code",
   "execution_count": 202,
   "metadata": {},
   "outputs": [],
   "source": [
    "# CSV 화일의 데이터를 Student 테이블에 삽입하기\n",
    "dbWriteTable(conn = conn, name = \"Student\", Student,\n",
    "overwrite=T, row.names=FALSE)"
   ]
  },
  {
   "cell_type": "code",
   "execution_count": 203,
   "metadata": {},
   "outputs": [
    {
     "data": {
      "text/html": [
       "<table class=\"dataframe\">\n",
       "<caption>A data.frame: 4 × 2</caption>\n",
       "<thead>\n",
       "\t<tr><th scope=col>Pname</th><th scope=col>Pdept</th></tr>\n",
       "\t<tr><th scope=col>&lt;chr&gt;</th><th scope=col>&lt;chr&gt;</th></tr>\n",
       "</thead>\n",
       "<tbody>\n",
       "\t<tr><td>안정용교수님</td><td>통계학과</td></tr>\n",
       "\t<tr><td>최혜미교수님</td><td>통계학과</td></tr>\n",
       "\t<tr><td>김재우교수님</td><td>사회학과</td></tr>\n",
       "\t<tr><td>송정기교수님</td><td>사회학과</td></tr>\n",
       "</tbody>\n",
       "</table>\n"
      ],
      "text/latex": [
       "A data.frame: 4 × 2\n",
       "\\begin{tabular}{ll}\n",
       " Pname & Pdept\\\\\n",
       " <chr> & <chr>\\\\\n",
       "\\hline\n",
       "\t 안정용교수님 & 통계학과\\\\\n",
       "\t 최혜미교수님 & 통계학과\\\\\n",
       "\t 김재우교수님 & 사회학과\\\\\n",
       "\t 송정기교수님 & 사회학과\\\\\n",
       "\\end{tabular}\n"
      ],
      "text/markdown": [
       "\n",
       "A data.frame: 4 × 2\n",
       "\n",
       "| Pname &lt;chr&gt; | Pdept &lt;chr&gt; |\n",
       "|---|---|\n",
       "| 안정용교수님 | 통계학과 |\n",
       "| 최혜미교수님 | 통계학과 |\n",
       "| 김재우교수님 | 사회학과 |\n",
       "| 송정기교수님 | 사회학과 |\n",
       "\n"
      ],
      "text/plain": [
       "  Pname        Pdept   \n",
       "1 안정용교수님 통계학과\n",
       "2 최혜미교수님 통계학과\n",
       "3 김재우교수님 사회학과\n",
       "4 송정기교수님 사회학과"
      ]
     },
     "metadata": {},
     "output_type": "display_data"
    }
   ],
   "source": [
    "sql = \"SELECT PName, PDept FROM Prof\" \n",
    "dbGetQuery(conn, sql)"
   ]
  },
  {
   "cell_type": "code",
   "execution_count": 204,
   "metadata": {},
   "outputs": [
    {
     "data": {
      "text/html": [
       "<table class=\"dataframe\">\n",
       "<caption>A data.frame: 10 × 3</caption>\n",
       "<thead>\n",
       "\t<tr><th scope=col>SID</th><th scope=col>SubjectID</th><th scope=col>Score</th></tr>\n",
       "\t<tr><th scope=col>&lt;int&gt;</th><th scope=col>&lt;int&gt;</th><th scope=col>&lt;int&gt;</th></tr>\n",
       "</thead>\n",
       "<tbody>\n",
       "\t<tr><td>201616525</td><td>9990</td><td>98</td></tr>\n",
       "\t<tr><td>201412323</td><td>9991</td><td>65</td></tr>\n",
       "\t<tr><td>201523233</td><td>9992</td><td>76</td></tr>\n",
       "\t<tr><td>201212121</td><td>9993</td><td>54</td></tr>\n",
       "\t<tr><td>201523233</td><td>9990</td><td>76</td></tr>\n",
       "\t<tr><td>201616525</td><td>9991</td><td>87</td></tr>\n",
       "\t<tr><td>201412323</td><td>9992</td><td>98</td></tr>\n",
       "\t<tr><td>201523233</td><td>9993</td><td>77</td></tr>\n",
       "\t<tr><td>201212121</td><td>9993</td><td>66</td></tr>\n",
       "\t<tr><td>201523233</td><td>9990</td><td>77</td></tr>\n",
       "</tbody>\n",
       "</table>\n"
      ],
      "text/latex": [
       "A data.frame: 10 × 3\n",
       "\\begin{tabular}{lll}\n",
       " SID & SubjectID & Score\\\\\n",
       " <int> & <int> & <int>\\\\\n",
       "\\hline\n",
       "\t 201616525 & 9990 & 98\\\\\n",
       "\t 201412323 & 9991 & 65\\\\\n",
       "\t 201523233 & 9992 & 76\\\\\n",
       "\t 201212121 & 9993 & 54\\\\\n",
       "\t 201523233 & 9990 & 76\\\\\n",
       "\t 201616525 & 9991 & 87\\\\\n",
       "\t 201412323 & 9992 & 98\\\\\n",
       "\t 201523233 & 9993 & 77\\\\\n",
       "\t 201212121 & 9993 & 66\\\\\n",
       "\t 201523233 & 9990 & 77\\\\\n",
       "\\end{tabular}\n"
      ],
      "text/markdown": [
       "\n",
       "A data.frame: 10 × 3\n",
       "\n",
       "| SID &lt;int&gt; | SubjectID &lt;int&gt; | Score &lt;int&gt; |\n",
       "|---|---|---|\n",
       "| 201616525 | 9990 | 98 |\n",
       "| 201412323 | 9991 | 65 |\n",
       "| 201523233 | 9992 | 76 |\n",
       "| 201212121 | 9993 | 54 |\n",
       "| 201523233 | 9990 | 76 |\n",
       "| 201616525 | 9991 | 87 |\n",
       "| 201412323 | 9992 | 98 |\n",
       "| 201523233 | 9993 | 77 |\n",
       "| 201212121 | 9993 | 66 |\n",
       "| 201523233 | 9990 | 77 |\n",
       "\n"
      ],
      "text/plain": [
       "   SID       SubjectID Score\n",
       "1  201616525 9990      98   \n",
       "2  201412323 9991      65   \n",
       "3  201523233 9992      76   \n",
       "4  201212121 9993      54   \n",
       "5  201523233 9990      76   \n",
       "6  201616525 9991      87   \n",
       "7  201412323 9992      98   \n",
       "8  201523233 9993      77   \n",
       "9  201212121 9993      66   \n",
       "10 201523233 9990      77   "
      ]
     },
     "metadata": {},
     "output_type": "display_data"
    },
    {
     "data": {
      "text/html": [
       "<table class=\"dataframe\">\n",
       "<caption>A data.frame: 4 × 2</caption>\n",
       "<thead>\n",
       "\t<tr><th scope=col>SubjectID</th><th scope=col>SubjectName</th></tr>\n",
       "\t<tr><th scope=col>&lt;int&gt;</th><th scope=col>&lt;chr&gt;</th></tr>\n",
       "</thead>\n",
       "<tbody>\n",
       "\t<tr><td>9990</td><td>환경과발전      </td></tr>\n",
       "\t<tr><td>9991</td><td>통계데이터베이스</td></tr>\n",
       "\t<tr><td>9992</td><td>한국사회분석실습</td></tr>\n",
       "\t<tr><td>9993</td><td>응용통계학      </td></tr>\n",
       "</tbody>\n",
       "</table>\n"
      ],
      "text/latex": [
       "A data.frame: 4 × 2\n",
       "\\begin{tabular}{ll}\n",
       " SubjectID & SubjectName\\\\\n",
       " <int> & <chr>\\\\\n",
       "\\hline\n",
       "\t 9990 & 환경과발전      \\\\\n",
       "\t 9991 & 통계데이터베이스\\\\\n",
       "\t 9992 & 한국사회분석실습\\\\\n",
       "\t 9993 & 응용통계학      \\\\\n",
       "\\end{tabular}\n"
      ],
      "text/markdown": [
       "\n",
       "A data.frame: 4 × 2\n",
       "\n",
       "| SubjectID &lt;int&gt; | SubjectName &lt;chr&gt; |\n",
       "|---|---|\n",
       "| 9990 | 환경과발전       |\n",
       "| 9991 | 통계데이터베이스 |\n",
       "| 9992 | 한국사회분석실습 |\n",
       "| 9993 | 응용통계학       |\n",
       "\n"
      ],
      "text/plain": [
       "  SubjectID SubjectName     \n",
       "1 9990      환경과발전      \n",
       "2 9991      통계데이터베이스\n",
       "3 9992      한국사회분석실습\n",
       "4 9993      응용통계학      "
      ]
     },
     "metadata": {},
     "output_type": "display_data"
    },
    {
     "data": {
      "text/html": [
       "<table class=\"dataframe\">\n",
       "<caption>A data.frame: 5 × 5</caption>\n",
       "<thead>\n",
       "\t<tr><th scope=col>SID</th><th scope=col>Name</th><th scope=col>Dept</th><th scope=col>Grade</th><th scope=col>PID</th></tr>\n",
       "\t<tr><th scope=col>&lt;int&gt;</th><th scope=col>&lt;chr&gt;</th><th scope=col>&lt;chr&gt;</th><th scope=col>&lt;int&gt;</th><th scope=col>&lt;int&gt;</th></tr>\n",
       "</thead>\n",
       "<tbody>\n",
       "\t<tr><td>201616525</td><td>김동완</td><td>사회학과</td><td>4</td><td>10003</td></tr>\n",
       "\t<tr><td>201412323</td><td>홍길동</td><td>통계학과</td><td>2</td><td>10001</td></tr>\n",
       "\t<tr><td>201523293</td><td>임꺽정</td><td>사회학과</td><td>3</td><td>10003</td></tr>\n",
       "\t<tr><td>201212121</td><td>박정화</td><td>통계학과</td><td>3</td><td>10002</td></tr>\n",
       "\t<tr><td>201523233</td><td>김삿갓</td><td>사회학과</td><td>1</td><td>10004</td></tr>\n",
       "</tbody>\n",
       "</table>\n"
      ],
      "text/latex": [
       "A data.frame: 5 × 5\n",
       "\\begin{tabular}{lllll}\n",
       " SID & Name & Dept & Grade & PID\\\\\n",
       " <int> & <chr> & <chr> & <int> & <int>\\\\\n",
       "\\hline\n",
       "\t 201616525 & 김동완 & 사회학과 & 4 & 10003\\\\\n",
       "\t 201412323 & 홍길동 & 통계학과 & 2 & 10001\\\\\n",
       "\t 201523293 & 임꺽정 & 사회학과 & 3 & 10003\\\\\n",
       "\t 201212121 & 박정화 & 통계학과 & 3 & 10002\\\\\n",
       "\t 201523233 & 김삿갓 & 사회학과 & 1 & 10004\\\\\n",
       "\\end{tabular}\n"
      ],
      "text/markdown": [
       "\n",
       "A data.frame: 5 × 5\n",
       "\n",
       "| SID &lt;int&gt; | Name &lt;chr&gt; | Dept &lt;chr&gt; | Grade &lt;int&gt; | PID &lt;int&gt; |\n",
       "|---|---|---|---|---|\n",
       "| 201616525 | 김동완 | 사회학과 | 4 | 10003 |\n",
       "| 201412323 | 홍길동 | 통계학과 | 2 | 10001 |\n",
       "| 201523293 | 임꺽정 | 사회학과 | 3 | 10003 |\n",
       "| 201212121 | 박정화 | 통계학과 | 3 | 10002 |\n",
       "| 201523233 | 김삿갓 | 사회학과 | 1 | 10004 |\n",
       "\n"
      ],
      "text/plain": [
       "  SID       Name   Dept     Grade PID  \n",
       "1 201616525 김동완 사회학과 4     10003\n",
       "2 201412323 홍길동 통계학과 2     10001\n",
       "3 201523293 임꺽정 사회학과 3     10003\n",
       "4 201212121 박정화 통계학과 3     10002\n",
       "5 201523233 김삿갓 사회학과 1     10004"
      ]
     },
     "metadata": {},
     "output_type": "display_data"
    },
    {
     "data": {
      "text/html": [
       "<table class=\"dataframe\">\n",
       "<caption>A data.frame: 4 × 3</caption>\n",
       "<thead>\n",
       "\t<tr><th scope=col>PID</th><th scope=col>Pname</th><th scope=col>Pdept</th></tr>\n",
       "\t<tr><th scope=col>&lt;int&gt;</th><th scope=col>&lt;chr&gt;</th><th scope=col>&lt;chr&gt;</th></tr>\n",
       "</thead>\n",
       "<tbody>\n",
       "\t<tr><td>10001</td><td>안정용교수님</td><td>통계학과</td></tr>\n",
       "\t<tr><td>10002</td><td>최혜미교수님</td><td>통계학과</td></tr>\n",
       "\t<tr><td>10003</td><td>김재우교수님</td><td>사회학과</td></tr>\n",
       "\t<tr><td>10004</td><td>송정기교수님</td><td>사회학과</td></tr>\n",
       "</tbody>\n",
       "</table>\n"
      ],
      "text/latex": [
       "A data.frame: 4 × 3\n",
       "\\begin{tabular}{lll}\n",
       " PID & Pname & Pdept\\\\\n",
       " <int> & <chr> & <chr>\\\\\n",
       "\\hline\n",
       "\t 10001 & 안정용교수님 & 통계학과\\\\\n",
       "\t 10002 & 최혜미교수님 & 통계학과\\\\\n",
       "\t 10003 & 김재우교수님 & 사회학과\\\\\n",
       "\t 10004 & 송정기교수님 & 사회학과\\\\\n",
       "\\end{tabular}\n"
      ],
      "text/markdown": [
       "\n",
       "A data.frame: 4 × 3\n",
       "\n",
       "| PID &lt;int&gt; | Pname &lt;chr&gt; | Pdept &lt;chr&gt; |\n",
       "|---|---|---|\n",
       "| 10001 | 안정용교수님 | 통계학과 |\n",
       "| 10002 | 최혜미교수님 | 통계학과 |\n",
       "| 10003 | 김재우교수님 | 사회학과 |\n",
       "| 10004 | 송정기교수님 | 사회학과 |\n",
       "\n"
      ],
      "text/plain": [
       "  PID   Pname        Pdept   \n",
       "1 10001 안정용교수님 통계학과\n",
       "2 10002 최혜미교수님 통계학과\n",
       "3 10003 김재우교수님 사회학과\n",
       "4 10004 송정기교수님 사회학과"
      ]
     },
     "metadata": {},
     "output_type": "display_data"
    }
   ],
   "source": [
    "dbReadTable(conn, \"Score\")\n",
    "dbReadTable(conn, \"Curriculum\")\n",
    "dbReadTable(conn, \"Student\")\n",
    "dbReadTable(conn, \"Prof\")"
   ]
  },
  {
   "cell_type": "code",
   "execution_count": 205,
   "metadata": {},
   "outputs": [
    {
     "data": {
      "text/html": [
       "<table class=\"dataframe\">\n",
       "<caption>A data.frame: 10 × 3</caption>\n",
       "<thead>\n",
       "\t<tr><th scope=col>SID</th><th scope=col>SubjectID</th><th scope=col>Score</th></tr>\n",
       "\t<tr><th scope=col>&lt;int&gt;</th><th scope=col>&lt;int&gt;</th><th scope=col>&lt;int&gt;</th></tr>\n",
       "</thead>\n",
       "<tbody>\n",
       "\t<tr><td>201616525</td><td>9990</td><td>98</td></tr>\n",
       "\t<tr><td>201412323</td><td>9991</td><td>65</td></tr>\n",
       "\t<tr><td>201523233</td><td>9992</td><td>76</td></tr>\n",
       "\t<tr><td>201212121</td><td>9993</td><td>54</td></tr>\n",
       "\t<tr><td>201523233</td><td>9990</td><td>76</td></tr>\n",
       "\t<tr><td>201616525</td><td>9991</td><td>87</td></tr>\n",
       "\t<tr><td>201412323</td><td>9992</td><td>98</td></tr>\n",
       "\t<tr><td>201523233</td><td>9993</td><td>77</td></tr>\n",
       "\t<tr><td>201212121</td><td>9993</td><td>66</td></tr>\n",
       "\t<tr><td>201523233</td><td>9990</td><td>77</td></tr>\n",
       "</tbody>\n",
       "</table>\n"
      ],
      "text/latex": [
       "A data.frame: 10 × 3\n",
       "\\begin{tabular}{lll}\n",
       " SID & SubjectID & Score\\\\\n",
       " <int> & <int> & <int>\\\\\n",
       "\\hline\n",
       "\t 201616525 & 9990 & 98\\\\\n",
       "\t 201412323 & 9991 & 65\\\\\n",
       "\t 201523233 & 9992 & 76\\\\\n",
       "\t 201212121 & 9993 & 54\\\\\n",
       "\t 201523233 & 9990 & 76\\\\\n",
       "\t 201616525 & 9991 & 87\\\\\n",
       "\t 201412323 & 9992 & 98\\\\\n",
       "\t 201523233 & 9993 & 77\\\\\n",
       "\t 201212121 & 9993 & 66\\\\\n",
       "\t 201523233 & 9990 & 77\\\\\n",
       "\\end{tabular}\n"
      ],
      "text/markdown": [
       "\n",
       "A data.frame: 10 × 3\n",
       "\n",
       "| SID &lt;int&gt; | SubjectID &lt;int&gt; | Score &lt;int&gt; |\n",
       "|---|---|---|\n",
       "| 201616525 | 9990 | 98 |\n",
       "| 201412323 | 9991 | 65 |\n",
       "| 201523233 | 9992 | 76 |\n",
       "| 201212121 | 9993 | 54 |\n",
       "| 201523233 | 9990 | 76 |\n",
       "| 201616525 | 9991 | 87 |\n",
       "| 201412323 | 9992 | 98 |\n",
       "| 201523233 | 9993 | 77 |\n",
       "| 201212121 | 9993 | 66 |\n",
       "| 201523233 | 9990 | 77 |\n",
       "\n"
      ],
      "text/plain": [
       "   SID       SubjectID Score\n",
       "1  201616525 9990      98   \n",
       "2  201412323 9991      65   \n",
       "3  201523233 9992      76   \n",
       "4  201212121 9993      54   \n",
       "5  201523233 9990      76   \n",
       "6  201616525 9991      87   \n",
       "7  201412323 9992      98   \n",
       "8  201523233 9993      77   \n",
       "9  201212121 9993      66   \n",
       "10 201523233 9990      77   "
      ]
     },
     "metadata": {},
     "output_type": "display_data"
    }
   ],
   "source": [
    "sql = \"SELECT all * FROM Score\" \n",
    "dbGetQuery(conn, sql)"
   ]
  },
  {
   "cell_type": "markdown",
   "metadata": {},
   "source": [
    "성적관련 데이터베이스의 성적테이블에는 학번(PID) 필드가 있다. 중복을 제거하고 학번을 검색하는 SQL 문을 작성하시오."
   ]
  },
  {
   "cell_type": "code",
   "execution_count": 206,
   "metadata": {},
   "outputs": [
    {
     "data": {
      "text/html": [
       "<table class=\"dataframe\">\n",
       "<caption>A data.frame: 4 × 1</caption>\n",
       "<thead>\n",
       "\t<tr><th scope=col>SID</th></tr>\n",
       "\t<tr><th scope=col>&lt;int&gt;</th></tr>\n",
       "</thead>\n",
       "<tbody>\n",
       "\t<tr><td>201616525</td></tr>\n",
       "\t<tr><td>201412323</td></tr>\n",
       "\t<tr><td>201523233</td></tr>\n",
       "\t<tr><td>201212121</td></tr>\n",
       "</tbody>\n",
       "</table>\n"
      ],
      "text/latex": [
       "A data.frame: 4 × 1\n",
       "\\begin{tabular}{l}\n",
       " SID\\\\\n",
       " <int>\\\\\n",
       "\\hline\n",
       "\t 201616525\\\\\n",
       "\t 201412323\\\\\n",
       "\t 201523233\\\\\n",
       "\t 201212121\\\\\n",
       "\\end{tabular}\n"
      ],
      "text/markdown": [
       "\n",
       "A data.frame: 4 × 1\n",
       "\n",
       "| SID &lt;int&gt; |\n",
       "|---|\n",
       "| 201616525 |\n",
       "| 201412323 |\n",
       "| 201523233 |\n",
       "| 201212121 |\n",
       "\n"
      ],
      "text/plain": [
       "  SID      \n",
       "1 201616525\n",
       "2 201412323\n",
       "3 201523233\n",
       "4 201212121"
      ]
     },
     "metadata": {},
     "output_type": "display_data"
    }
   ],
   "source": [
    "sql = \"SELECT DISTINCT SID FROM SCORE\" \n",
    "dbGetQuery(conn, sql)"
   ]
  },
  {
   "cell_type": "markdown",
   "metadata": {},
   "source": [
    "성적관련 데이터베이스에서 학생별, 교과목별 점수의 평균을 파악할 수 있는 SQL 문을 작성하시오."
   ]
  },
  {
   "cell_type": "code",
   "execution_count": 207,
   "metadata": {},
   "outputs": [
    {
     "data": {
      "text/html": [
       "<table class=\"dataframe\">\n",
       "<caption>A data.frame: 4 × 2</caption>\n",
       "<thead>\n",
       "\t<tr><th scope=col>SubjectID</th><th scope=col>avg(Score)</th></tr>\n",
       "\t<tr><th scope=col>&lt;int&gt;</th><th scope=col>&lt;dbl&gt;</th></tr>\n",
       "</thead>\n",
       "<tbody>\n",
       "\t<tr><td>9990</td><td>83.66667</td></tr>\n",
       "\t<tr><td>9991</td><td>76.00000</td></tr>\n",
       "\t<tr><td>9992</td><td>87.00000</td></tr>\n",
       "\t<tr><td>9993</td><td>65.66667</td></tr>\n",
       "</tbody>\n",
       "</table>\n"
      ],
      "text/latex": [
       "A data.frame: 4 × 2\n",
       "\\begin{tabular}{ll}\n",
       " SubjectID & avg(Score)\\\\\n",
       " <int> & <dbl>\\\\\n",
       "\\hline\n",
       "\t 9990 & 83.66667\\\\\n",
       "\t 9991 & 76.00000\\\\\n",
       "\t 9992 & 87.00000\\\\\n",
       "\t 9993 & 65.66667\\\\\n",
       "\\end{tabular}\n"
      ],
      "text/markdown": [
       "\n",
       "A data.frame: 4 × 2\n",
       "\n",
       "| SubjectID &lt;int&gt; | avg(Score) &lt;dbl&gt; |\n",
       "|---|---|\n",
       "| 9990 | 83.66667 |\n",
       "| 9991 | 76.00000 |\n",
       "| 9992 | 87.00000 |\n",
       "| 9993 | 65.66667 |\n",
       "\n"
      ],
      "text/plain": [
       "  SubjectID avg(Score)\n",
       "1 9990      83.66667  \n",
       "2 9991      76.00000  \n",
       "3 9992      87.00000  \n",
       "4 9993      65.66667  "
      ]
     },
     "metadata": {},
     "output_type": "display_data"
    }
   ],
   "source": [
    "sql = \"SELECT SubjectID, avg(Score) FROM Score\n",
    "GROUP BY SubjectID \" \n",
    "dbGetQuery(conn, sql)\n"
   ]
  },
  {
   "cell_type": "code",
   "execution_count": 208,
   "metadata": {},
   "outputs": [
    {
     "data": {
      "text/html": [
       "<table class=\"dataframe\">\n",
       "<caption>A data.frame: 4 × 2</caption>\n",
       "<thead>\n",
       "\t<tr><th scope=col>SID</th><th scope=col>avg(Score)</th></tr>\n",
       "\t<tr><th scope=col>&lt;int&gt;</th><th scope=col>&lt;dbl&gt;</th></tr>\n",
       "</thead>\n",
       "<tbody>\n",
       "\t<tr><td>201212121</td><td>60.0</td></tr>\n",
       "\t<tr><td>201412323</td><td>81.5</td></tr>\n",
       "\t<tr><td>201523233</td><td>76.5</td></tr>\n",
       "\t<tr><td>201616525</td><td>92.5</td></tr>\n",
       "</tbody>\n",
       "</table>\n"
      ],
      "text/latex": [
       "A data.frame: 4 × 2\n",
       "\\begin{tabular}{ll}\n",
       " SID & avg(Score)\\\\\n",
       " <int> & <dbl>\\\\\n",
       "\\hline\n",
       "\t 201212121 & 60.0\\\\\n",
       "\t 201412323 & 81.5\\\\\n",
       "\t 201523233 & 76.5\\\\\n",
       "\t 201616525 & 92.5\\\\\n",
       "\\end{tabular}\n"
      ],
      "text/markdown": [
       "\n",
       "A data.frame: 4 × 2\n",
       "\n",
       "| SID &lt;int&gt; | avg(Score) &lt;dbl&gt; |\n",
       "|---|---|\n",
       "| 201212121 | 60.0 |\n",
       "| 201412323 | 81.5 |\n",
       "| 201523233 | 76.5 |\n",
       "| 201616525 | 92.5 |\n",
       "\n"
      ],
      "text/plain": [
       "  SID       avg(Score)\n",
       "1 201212121 60.0      \n",
       "2 201412323 81.5      \n",
       "3 201523233 76.5      \n",
       "4 201616525 92.5      "
      ]
     },
     "metadata": {},
     "output_type": "display_data"
    }
   ],
   "source": [
    "sql = \"SELECT SID, avg(Score) FROM Score\n",
    "GROUP BY SID\" \n",
    "dbGetQuery(conn, sql)\n"
   ]
  },
  {
   "cell_type": "code",
   "execution_count": 225,
   "metadata": {},
   "outputs": [
    {
     "data": {
      "text/html": [
       "<table class=\"dataframe\">\n",
       "<caption>A data.frame: 4 × 3</caption>\n",
       "<thead>\n",
       "\t<tr><th scope=col>SID</th><th scope=col>Name</th><th scope=col>avg(Score)</th></tr>\n",
       "\t<tr><th scope=col>&lt;int&gt;</th><th scope=col>&lt;chr&gt;</th><th scope=col>&lt;dbl&gt;</th></tr>\n",
       "</thead>\n",
       "<tbody>\n",
       "\t<tr><td>201616525</td><td>김동완</td><td>92.5</td></tr>\n",
       "\t<tr><td>201523233</td><td>김삿갓</td><td>76.5</td></tr>\n",
       "\t<tr><td>201212121</td><td>박정화</td><td>60.0</td></tr>\n",
       "\t<tr><td>201412323</td><td>홍길동</td><td>81.5</td></tr>\n",
       "</tbody>\n",
       "</table>\n"
      ],
      "text/latex": [
       "A data.frame: 4 × 3\n",
       "\\begin{tabular}{lll}\n",
       " SID & Name & avg(Score)\\\\\n",
       " <int> & <chr> & <dbl>\\\\\n",
       "\\hline\n",
       "\t 201616525 & 김동완 & 92.5\\\\\n",
       "\t 201523233 & 김삿갓 & 76.5\\\\\n",
       "\t 201212121 & 박정화 & 60.0\\\\\n",
       "\t 201412323 & 홍길동 & 81.5\\\\\n",
       "\\end{tabular}\n"
      ],
      "text/markdown": [
       "\n",
       "A data.frame: 4 × 3\n",
       "\n",
       "| SID &lt;int&gt; | Name &lt;chr&gt; | avg(Score) &lt;dbl&gt; |\n",
       "|---|---|---|\n",
       "| 201616525 | 김동완 | 92.5 |\n",
       "| 201523233 | 김삿갓 | 76.5 |\n",
       "| 201212121 | 박정화 | 60.0 |\n",
       "| 201412323 | 홍길동 | 81.5 |\n",
       "\n"
      ],
      "text/plain": [
       "  SID       Name   avg(Score)\n",
       "1 201616525 김동완 92.5      \n",
       "2 201523233 김삿갓 76.5      \n",
       "3 201212121 박정화 60.0      \n",
       "4 201412323 홍길동 81.5      "
      ]
     },
     "metadata": {},
     "output_type": "display_data"
    }
   ],
   "source": [
    "sql = \"SELECT CS.SID, C.Name, avg(Score)\n",
    "FROM Score CS\n",
    "JOIN Student C\n",
    "ON C.SID = CS.SID \n",
    "GROUP BY C.Name\"\n",
    "dbGetQuery(conn, sql)"
   ]
  },
  {
   "cell_type": "code",
   "execution_count": 228,
   "metadata": {},
   "outputs": [
    {
     "data": {
      "text/html": [
       "<table class=\"dataframe\">\n",
       "<caption>A data.frame: 4 × 3</caption>\n",
       "<thead>\n",
       "\t<tr><th scope=col>SubjectID</th><th scope=col>SubjectName</th><th scope=col>avg(Score)</th></tr>\n",
       "\t<tr><th scope=col>&lt;int&gt;</th><th scope=col>&lt;chr&gt;</th><th scope=col>&lt;dbl&gt;</th></tr>\n",
       "</thead>\n",
       "<tbody>\n",
       "\t<tr><td>9993</td><td>응용통계학      </td><td>65.66667</td></tr>\n",
       "\t<tr><td>9991</td><td>통계데이터베이스</td><td>76.00000</td></tr>\n",
       "\t<tr><td>9992</td><td>한국사회분석실습</td><td>87.00000</td></tr>\n",
       "\t<tr><td>9990</td><td>환경과발전      </td><td>83.66667</td></tr>\n",
       "</tbody>\n",
       "</table>\n"
      ],
      "text/latex": [
       "A data.frame: 4 × 3\n",
       "\\begin{tabular}{lll}\n",
       " SubjectID & SubjectName & avg(Score)\\\\\n",
       " <int> & <chr> & <dbl>\\\\\n",
       "\\hline\n",
       "\t 9993 & 응용통계학       & 65.66667\\\\\n",
       "\t 9991 & 통계데이터베이스 & 76.00000\\\\\n",
       "\t 9992 & 한국사회분석실습 & 87.00000\\\\\n",
       "\t 9990 & 환경과발전       & 83.66667\\\\\n",
       "\\end{tabular}\n"
      ],
      "text/markdown": [
       "\n",
       "A data.frame: 4 × 3\n",
       "\n",
       "| SubjectID &lt;int&gt; | SubjectName &lt;chr&gt; | avg(Score) &lt;dbl&gt; |\n",
       "|---|---|---|\n",
       "| 9993 | 응용통계학       | 65.66667 |\n",
       "| 9991 | 통계데이터베이스 | 76.00000 |\n",
       "| 9992 | 한국사회분석실습 | 87.00000 |\n",
       "| 9990 | 환경과발전       | 83.66667 |\n",
       "\n"
      ],
      "text/plain": [
       "  SubjectID SubjectName      avg(Score)\n",
       "1 9993      응용통계학       65.66667  \n",
       "2 9991      통계데이터베이스 76.00000  \n",
       "3 9992      한국사회분석실습 87.00000  \n",
       "4 9990      환경과발전       83.66667  "
      ]
     },
     "metadata": {},
     "output_type": "display_data"
    }
   ],
   "source": [
    "sql = \"SELECT CS.SubjectID, C.SubjectName, avg(Score)\n",
    "FROM Score CS\n",
    "JOIN Curriculum C\n",
    "ON C.SubjectID = CS.SubjectID \n",
    "GROUP BY C.SubjectName\"\n",
    "dbGetQuery(conn, sql)"
   ]
  },
  {
   "cell_type": "markdown",
   "metadata": {},
   "source": [
    "과제 4.14성적관련 데이터베이스에서 학생별 점수의 평균을 파악할 수 있는 SQL 문을 작성하시오. (단, 평균 점수가 70 이상인 학생만을 검색)\n"
   ]
  },
  {
   "cell_type": "code",
   "execution_count": 232,
   "metadata": {},
   "outputs": [
    {
     "data": {
      "text/html": [
       "<table class=\"dataframe\">\n",
       "<caption>A data.frame: 3 × 3</caption>\n",
       "<thead>\n",
       "\t<tr><th scope=col>SID</th><th scope=col>Name</th><th scope=col>avg(Score)</th></tr>\n",
       "\t<tr><th scope=col>&lt;int&gt;</th><th scope=col>&lt;chr&gt;</th><th scope=col>&lt;dbl&gt;</th></tr>\n",
       "</thead>\n",
       "<tbody>\n",
       "\t<tr><td>201616525</td><td>김동완</td><td>92.5</td></tr>\n",
       "\t<tr><td>201523233</td><td>김삿갓</td><td>76.5</td></tr>\n",
       "\t<tr><td>201412323</td><td>홍길동</td><td>98.0</td></tr>\n",
       "</tbody>\n",
       "</table>\n"
      ],
      "text/latex": [
       "A data.frame: 3 × 3\n",
       "\\begin{tabular}{lll}\n",
       " SID & Name & avg(Score)\\\\\n",
       " <int> & <chr> & <dbl>\\\\\n",
       "\\hline\n",
       "\t 201616525 & 김동완 & 92.5\\\\\n",
       "\t 201523233 & 김삿갓 & 76.5\\\\\n",
       "\t 201412323 & 홍길동 & 98.0\\\\\n",
       "\\end{tabular}\n"
      ],
      "text/markdown": [
       "\n",
       "A data.frame: 3 × 3\n",
       "\n",
       "| SID &lt;int&gt; | Name &lt;chr&gt; | avg(Score) &lt;dbl&gt; |\n",
       "|---|---|---|\n",
       "| 201616525 | 김동완 | 92.5 |\n",
       "| 201523233 | 김삿갓 | 76.5 |\n",
       "| 201412323 | 홍길동 | 98.0 |\n",
       "\n"
      ],
      "text/plain": [
       "  SID       Name   avg(Score)\n",
       "1 201616525 김동완 92.5      \n",
       "2 201523233 김삿갓 76.5      \n",
       "3 201412323 홍길동 98.0      "
      ]
     },
     "metadata": {},
     "output_type": "display_data"
    }
   ],
   "source": [
    "sql = \"SELECT CS.SID, C.Name, avg(Score)\n",
    "FROM Score CS\n",
    "JOIN Student C\n",
    "ON C.SID = CS.SID \n",
    "WHERE Score >= 70\n",
    "GROUP BY C.Name\"\n",
    "dbGetQuery(conn, sql)"
   ]
  },
  {
   "cell_type": "markdown",
   "metadata": {},
   "source": [
    "과제 4.15 성적관련 데이터베이스에서 학생의 평균 점수를 오름차순으로 검색할 수 있는 SQL 문을 작성하시오.\n"
   ]
  },
  {
   "cell_type": "code",
   "execution_count": 233,
   "metadata": {},
   "outputs": [
    {
     "data": {
      "text/html": [
       "<table class=\"dataframe\">\n",
       "<caption>A data.frame: 4 × 3</caption>\n",
       "<thead>\n",
       "\t<tr><th scope=col>SID</th><th scope=col>Name</th><th scope=col>avg(Score)</th></tr>\n",
       "\t<tr><th scope=col>&lt;int&gt;</th><th scope=col>&lt;chr&gt;</th><th scope=col>&lt;dbl&gt;</th></tr>\n",
       "</thead>\n",
       "<tbody>\n",
       "\t<tr><td>201212121</td><td>박정화</td><td>60.0</td></tr>\n",
       "\t<tr><td>201523233</td><td>김삿갓</td><td>76.5</td></tr>\n",
       "\t<tr><td>201412323</td><td>홍길동</td><td>81.5</td></tr>\n",
       "\t<tr><td>201616525</td><td>김동완</td><td>92.5</td></tr>\n",
       "</tbody>\n",
       "</table>\n"
      ],
      "text/latex": [
       "A data.frame: 4 × 3\n",
       "\\begin{tabular}{lll}\n",
       " SID & Name & avg(Score)\\\\\n",
       " <int> & <chr> & <dbl>\\\\\n",
       "\\hline\n",
       "\t 201212121 & 박정화 & 60.0\\\\\n",
       "\t 201523233 & 김삿갓 & 76.5\\\\\n",
       "\t 201412323 & 홍길동 & 81.5\\\\\n",
       "\t 201616525 & 김동완 & 92.5\\\\\n",
       "\\end{tabular}\n"
      ],
      "text/markdown": [
       "\n",
       "A data.frame: 4 × 3\n",
       "\n",
       "| SID &lt;int&gt; | Name &lt;chr&gt; | avg(Score) &lt;dbl&gt; |\n",
       "|---|---|---|\n",
       "| 201212121 | 박정화 | 60.0 |\n",
       "| 201523233 | 김삿갓 | 76.5 |\n",
       "| 201412323 | 홍길동 | 81.5 |\n",
       "| 201616525 | 김동완 | 92.5 |\n",
       "\n"
      ],
      "text/plain": [
       "  SID       Name   avg(Score)\n",
       "1 201212121 박정화 60.0      \n",
       "2 201523233 김삿갓 76.5      \n",
       "3 201412323 홍길동 81.5      \n",
       "4 201616525 김동완 92.5      "
      ]
     },
     "metadata": {},
     "output_type": "display_data"
    }
   ],
   "source": [
    "sql = \"SELECT CS.SID, C.Name, avg(Score)\n",
    "FROM Score CS\n",
    "JOIN Student C\n",
    "ON C.SID = CS.SID \n",
    "GROUP BY C.Name\n",
    "ORDER BY avg(Score)\"\n",
    "dbGetQuery(conn, sql)"
   ]
  },
  {
   "cell_type": "markdown",
   "metadata": {},
   "source": [
    "테이블 Student와 Score에서 학생이름, 점수 등을 검색하는 SQL 문을 작성하시오."
   ]
  },
  {
   "cell_type": "code",
   "execution_count": 234,
   "metadata": {},
   "outputs": [
    {
     "data": {
      "text/html": [
       "<table class=\"dataframe\">\n",
       "<caption>A data.frame: 4 × 2</caption>\n",
       "<thead>\n",
       "\t<tr><th scope=col>SID</th><th scope=col>Name</th></tr>\n",
       "\t<tr><th scope=col>&lt;int&gt;</th><th scope=col>&lt;chr&gt;</th></tr>\n",
       "</thead>\n",
       "<tbody>\n",
       "\t<tr><td>201616525</td><td>김동완</td></tr>\n",
       "\t<tr><td>201412323</td><td>홍길동</td></tr>\n",
       "\t<tr><td>201212121</td><td>박정화</td></tr>\n",
       "\t<tr><td>201523233</td><td>김삿갓</td></tr>\n",
       "</tbody>\n",
       "</table>\n"
      ],
      "text/latex": [
       "A data.frame: 4 × 2\n",
       "\\begin{tabular}{ll}\n",
       " SID & Name\\\\\n",
       " <int> & <chr>\\\\\n",
       "\\hline\n",
       "\t 201616525 & 김동완\\\\\n",
       "\t 201412323 & 홍길동\\\\\n",
       "\t 201212121 & 박정화\\\\\n",
       "\t 201523233 & 김삿갓\\\\\n",
       "\\end{tabular}\n"
      ],
      "text/markdown": [
       "\n",
       "A data.frame: 4 × 2\n",
       "\n",
       "| SID &lt;int&gt; | Name &lt;chr&gt; |\n",
       "|---|---|\n",
       "| 201616525 | 김동완 |\n",
       "| 201412323 | 홍길동 |\n",
       "| 201212121 | 박정화 |\n",
       "| 201523233 | 김삿갓 |\n",
       "\n"
      ],
      "text/plain": [
       "  SID       Name  \n",
       "1 201616525 김동완\n",
       "2 201412323 홍길동\n",
       "3 201212121 박정화\n",
       "4 201523233 김삿갓"
      ]
     },
     "metadata": {},
     "output_type": "display_data"
    }
   ],
   "source": [
    "sql = \"SELECT SID, Name FROM Student\n",
    "WHERE sID IN ( SELECT SID\n",
    "FROM Score )\n",
    "\"\n",
    "\n",
    "dbGetQuery(conn, sql)\n"
   ]
  },
  {
   "cell_type": "code",
   "execution_count": 18,
   "metadata": {},
   "outputs": [
    {
     "ename": "ERROR",
     "evalue": "Error: sub-select returns 2 columns - expected 1\n",
     "output_type": "error",
     "traceback": [
      "Error: sub-select returns 2 columns - expected 1\nTraceback:\n",
      "1. dbGetQuery(conn, sql)",
      "2. dbGetQuery(conn, sql)",
      "3. .local(conn, statement, ...)",
      "4. dbSendQuery(conn, statement, ...)",
      "5. dbSendQuery(conn, statement, ...)",
      "6. .local(conn, statement, ...)",
      "7. new(\"SQLiteResult\", sql = statement, ptr = result_create(conn@ptr, \n .     statement), conn = conn, bigint = conn@bigint)",
      "8. initialize(value, ...)",
      "9. initialize(value, ...)",
      "10. result_create(conn@ptr, statement)"
     ]
    }
   ],
   "source": [
    "sql = \"SELECT SID, Score FROM Score\n",
    "WHERE SID IN ( SELECT SID,Name\n",
    "FROM Student )\n",
    "and Score > 60 \"\n",
    "dbGetQuery(conn, sql)"
   ]
  },
  {
   "cell_type": "code",
   "execution_count": 250,
   "metadata": {},
   "outputs": [
    {
     "data": {
      "text/html": [
       "<table class=\"dataframe\">\n",
       "<caption>A data.frame: 10 × 5</caption>\n",
       "<thead>\n",
       "\t<tr><th scope=col>SID</th><th scope=col>Name</th><th scope=col>Dept</th><th scope=col>Grade</th><th scope=col>Score</th></tr>\n",
       "\t<tr><th scope=col>&lt;int&gt;</th><th scope=col>&lt;chr&gt;</th><th scope=col>&lt;chr&gt;</th><th scope=col>&lt;int&gt;</th><th scope=col>&lt;int&gt;</th></tr>\n",
       "</thead>\n",
       "<tbody>\n",
       "\t<tr><td>201212121</td><td>박정화</td><td>통계학과</td><td>3</td><td>54</td></tr>\n",
       "\t<tr><td>201412323</td><td>홍길동</td><td>통계학과</td><td>2</td><td>65</td></tr>\n",
       "\t<tr><td>201212121</td><td>박정화</td><td>통계학과</td><td>3</td><td>66</td></tr>\n",
       "\t<tr><td>201523233</td><td>김삿갓</td><td>사회학과</td><td>1</td><td>76</td></tr>\n",
       "\t<tr><td>201523233</td><td>김삿갓</td><td>사회학과</td><td>1</td><td>76</td></tr>\n",
       "\t<tr><td>201523233</td><td>김삿갓</td><td>사회학과</td><td>1</td><td>77</td></tr>\n",
       "\t<tr><td>201523233</td><td>김삿갓</td><td>사회학과</td><td>1</td><td>77</td></tr>\n",
       "\t<tr><td>201616525</td><td>김동완</td><td>사회학과</td><td>4</td><td>87</td></tr>\n",
       "\t<tr><td>201616525</td><td>김동완</td><td>사회학과</td><td>4</td><td>98</td></tr>\n",
       "\t<tr><td>201412323</td><td>홍길동</td><td>통계학과</td><td>2</td><td>98</td></tr>\n",
       "</tbody>\n",
       "</table>\n"
      ],
      "text/latex": [
       "A data.frame: 10 × 5\n",
       "\\begin{tabular}{lllll}\n",
       " SID & Name & Dept & Grade & Score\\\\\n",
       " <int> & <chr> & <chr> & <int> & <int>\\\\\n",
       "\\hline\n",
       "\t 201212121 & 박정화 & 통계학과 & 3 & 54\\\\\n",
       "\t 201412323 & 홍길동 & 통계학과 & 2 & 65\\\\\n",
       "\t 201212121 & 박정화 & 통계학과 & 3 & 66\\\\\n",
       "\t 201523233 & 김삿갓 & 사회학과 & 1 & 76\\\\\n",
       "\t 201523233 & 김삿갓 & 사회학과 & 1 & 76\\\\\n",
       "\t 201523233 & 김삿갓 & 사회학과 & 1 & 77\\\\\n",
       "\t 201523233 & 김삿갓 & 사회학과 & 1 & 77\\\\\n",
       "\t 201616525 & 김동완 & 사회학과 & 4 & 87\\\\\n",
       "\t 201616525 & 김동완 & 사회학과 & 4 & 98\\\\\n",
       "\t 201412323 & 홍길동 & 통계학과 & 2 & 98\\\\\n",
       "\\end{tabular}\n"
      ],
      "text/markdown": [
       "\n",
       "A data.frame: 10 × 5\n",
       "\n",
       "| SID &lt;int&gt; | Name &lt;chr&gt; | Dept &lt;chr&gt; | Grade &lt;int&gt; | Score &lt;int&gt; |\n",
       "|---|---|---|---|---|\n",
       "| 201212121 | 박정화 | 통계학과 | 3 | 54 |\n",
       "| 201412323 | 홍길동 | 통계학과 | 2 | 65 |\n",
       "| 201212121 | 박정화 | 통계학과 | 3 | 66 |\n",
       "| 201523233 | 김삿갓 | 사회학과 | 1 | 76 |\n",
       "| 201523233 | 김삿갓 | 사회학과 | 1 | 76 |\n",
       "| 201523233 | 김삿갓 | 사회학과 | 1 | 77 |\n",
       "| 201523233 | 김삿갓 | 사회학과 | 1 | 77 |\n",
       "| 201616525 | 김동완 | 사회학과 | 4 | 87 |\n",
       "| 201616525 | 김동완 | 사회학과 | 4 | 98 |\n",
       "| 201412323 | 홍길동 | 통계학과 | 2 | 98 |\n",
       "\n"
      ],
      "text/plain": [
       "   SID       Name   Dept     Grade Score\n",
       "1  201212121 박정화 통계학과 3     54   \n",
       "2  201412323 홍길동 통계학과 2     65   \n",
       "3  201212121 박정화 통계학과 3     66   \n",
       "4  201523233 김삿갓 사회학과 1     76   \n",
       "5  201523233 김삿갓 사회학과 1     76   \n",
       "6  201523233 김삿갓 사회학과 1     77   \n",
       "7  201523233 김삿갓 사회학과 1     77   \n",
       "8  201616525 김동완 사회학과 4     87   \n",
       "9  201616525 김동완 사회학과 4     98   \n",
       "10 201412323 홍길동 통계학과 2     98   "
      ]
     },
     "metadata": {},
     "output_type": "display_data"
    }
   ],
   "source": [
    "sql = \"SELECT CS.SID, C.Name,C.Dept,Grade, Score\n",
    "FROM Score CS\n",
    "JOIN Student C\n",
    "ON C.SID = CS.SID\n",
    "ORDER BY Score\"\n",
    "dbGetQuery(conn, sql)"
   ]
  },
  {
   "cell_type": "code",
   "execution_count": null,
   "metadata": {},
   "outputs": [],
   "source": []
  }
 ],
 "metadata": {
  "kernelspec": {
   "display_name": "R",
   "language": "R",
   "name": "ir"
  },
  "language_info": {
   "codemirror_mode": "r",
   "file_extension": ".r",
   "mimetype": "text/x-r-source",
   "name": "R",
   "pygments_lexer": "r",
   "version": "4.0.2"
  }
 },
 "nbformat": 4,
 "nbformat_minor": 4
}
