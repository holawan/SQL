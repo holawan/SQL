{
 "cells": [
  {
   "cell_type": "code",
   "execution_count": 99,
   "metadata": {},
   "outputs": [],
   "source": [
    "setwd(\"/Users/gimdong-wan/Desktop/김동완 수업자료/통계 데이터베이스\")"
   ]
  },
  {
   "cell_type": "code",
   "execution_count": 100,
   "metadata": {},
   "outputs": [],
   "source": [
    "library(\"DBI\")\n",
    "library(\"RSQLite\")"
   ]
  },
  {
   "cell_type": "code",
   "execution_count": 101,
   "metadata": {},
   "outputs": [],
   "source": [
    "# Customer 데이터베이스 연결\n",
    "conn = dbConnect(SQLite(), dbname = \"RSQL/customer.sqlite\")"
   ]
  },
  {
   "cell_type": "code",
   "execution_count": 102,
   "metadata": {},
   "outputs": [
    {
     "data": {
      "text/html": [
       "0"
      ],
      "text/latex": [
       "0"
      ],
      "text/markdown": [
       "0"
      ],
      "text/plain": [
       "[1] 0"
      ]
     },
     "metadata": {},
     "output_type": "display_data"
    }
   ],
   "source": [
    "##### PRAGMA statement : SQLite에 특정된 SQL 확장\n",
    "### sqlite에서 외래 키를 설정하기 위해서는 다음 문장을 실행해야 함\n",
    "dbExecute(conn, \"PRAGMA foreign_keys=ON\")"
   ]
  },
  {
   "cell_type": "code",
   "execution_count": 103,
   "metadata": {},
   "outputs": [],
   "source": [
    "sql = \"CREATE TABLE IF NOT EXISTS Customer_Info\n",
    "( CID TEXT PRIMARY KEY, Name TEXT,\n",
    "Address TEXT, Tel TEXT, BDay TEXT, SID TEXT,\n",
    "Job TEXT,\n",
    "Sex TEXT, Married TEXT )\"\n"
   ]
  },
  {
   "cell_type": "code",
   "execution_count": 104,
   "metadata": {},
   "outputs": [],
   "source": [
    "rs = dbSendQuery(conn, sql)"
   ]
  },
  {
   "cell_type": "code",
   "execution_count": 105,
   "metadata": {},
   "outputs": [],
   "source": [
    "# rs 제거\n",
    "dbClearResult(rs)"
   ]
  },
  {
   "cell_type": "code",
   "execution_count": 106,
   "metadata": {},
   "outputs": [
    {
     "data": {
      "text/html": [
       "TRUE"
      ],
      "text/latex": [
       "TRUE"
      ],
      "text/markdown": [
       "TRUE"
      ],
      "text/plain": [
       "[1] TRUE"
      ]
     },
     "metadata": {},
     "output_type": "display_data"
    }
   ],
   "source": [
    "# 테이블이 생성되었는지(존재하는지) 확인 \n",
    "dbExistsTable(conn, \"Customer_Info\")"
   ]
  },
  {
   "cell_type": "code",
   "execution_count": 112,
   "metadata": {},
   "outputs": [
    {
     "data": {
      "text/html": [
       "TRUE"
      ],
      "text/latex": [
       "TRUE"
      ],
      "text/markdown": [
       "TRUE"
      ],
      "text/plain": [
       "[1] TRUE"
      ]
     },
     "metadata": {},
     "output_type": "display_data"
    }
   ],
   "source": [
    "# Customer_Score 테이블 생성하기\n",
    "sql = \"CREATE TABLE IF NOT EXISTS Customer_Score\n",
    "( CID TEXT,\n",
    "Year TEXT not null,\n",
    "On_Score INTEGER default 0,\n",
    "Off_Score INTEGER default 0,\n",
    "PRIMARY KEY (CID, Year),\n",
    "FOREIGN KEY(CID) REFERENCES Customer_Info(CID) )\"\n",
    "rs = dbSendQuery(conn, sql)\n",
    "# rs 제거 \n",
    "dbClearResult(rs)\n",
    "# 테이블이 생성되었는지(존재하는지) 확인 \n",
    "dbExistsTable(conn, \"Customer_Score\")"
   ]
  },
  {
   "cell_type": "code",
   "execution_count": 108,
   "metadata": {},
   "outputs": [
    {
     "data": {
      "text/html": [
       "FALSE"
      ],
      "text/latex": [
       "FALSE"
      ],
      "text/markdown": [
       "FALSE"
      ],
      "text/plain": [
       "[1] FALSE"
      ]
     },
     "metadata": {},
     "output_type": "display_data"
    }
   ],
   "source": [
    "# Customer_Score 테이블 삭제하기\n",
    "rs = dbSendQuery(conn, \"DROP TABLE Customer_Score\")\n",
    "# rs 제거 \n",
    "dbClearResult(rs)\n",
    "# 테이블이 존재하는지(삭제되었는지) 확인 \n",
    "dbExistsTable(conn, \"Customer_Score\")\n"
   ]
  },
  {
   "cell_type": "code",
   "execution_count": 109,
   "metadata": {},
   "outputs": [],
   "source": [
    "# Customer_Info 테이블에 데이터 insert \n",
    "sql = \" INSERT INTO Customer_Info\n",
    "VALUES ('100001', '김민지', '서울시 광진구', '423-8627', '1975-07-01', '750701-2534218', '공무원', '1', '0') \"\n",
    "rs = dbSendQuery(conn, sql) \n",
    "dbClearResult(rs)"
   ]
  },
  {
   "cell_type": "code",
   "execution_count": 110,
   "metadata": {},
   "outputs": [
    {
     "data": {
      "text/html": [
       "<table class=\"dataframe\">\n",
       "<caption>A data.frame: 1 × 9</caption>\n",
       "<thead>\n",
       "\t<tr><th scope=col>CID</th><th scope=col>Name</th><th scope=col>Address</th><th scope=col>Tel</th><th scope=col>BDay</th><th scope=col>SID</th><th scope=col>Job</th><th scope=col>Sex</th><th scope=col>Married</th></tr>\n",
       "\t<tr><th scope=col>&lt;chr&gt;</th><th scope=col>&lt;chr&gt;</th><th scope=col>&lt;chr&gt;</th><th scope=col>&lt;chr&gt;</th><th scope=col>&lt;chr&gt;</th><th scope=col>&lt;chr&gt;</th><th scope=col>&lt;chr&gt;</th><th scope=col>&lt;chr&gt;</th><th scope=col>&lt;chr&gt;</th></tr>\n",
       "</thead>\n",
       "<tbody>\n",
       "\t<tr><td>100001</td><td>김민지</td><td>서울시 광진구</td><td>423-8627</td><td>1975-07-01</td><td>750701-2534218</td><td>공무원</td><td>1</td><td>0</td></tr>\n",
       "</tbody>\n",
       "</table>\n"
      ],
      "text/latex": [
       "A data.frame: 1 × 9\n",
       "\\begin{tabular}{lllllllll}\n",
       " CID & Name & Address & Tel & BDay & SID & Job & Sex & Married\\\\\n",
       " <chr> & <chr> & <chr> & <chr> & <chr> & <chr> & <chr> & <chr> & <chr>\\\\\n",
       "\\hline\n",
       "\t 100001 & 김민지 & 서울시 광진구 & 423-8627 & 1975-07-01 & 750701-2534218 & 공무원 & 1 & 0\\\\\n",
       "\\end{tabular}\n"
      ],
      "text/markdown": [
       "\n",
       "A data.frame: 1 × 9\n",
       "\n",
       "| CID &lt;chr&gt; | Name &lt;chr&gt; | Address &lt;chr&gt; | Tel &lt;chr&gt; | BDay &lt;chr&gt; | SID &lt;chr&gt; | Job &lt;chr&gt; | Sex &lt;chr&gt; | Married &lt;chr&gt; |\n",
       "|---|---|---|---|---|---|---|---|---|\n",
       "| 100001 | 김민지 | 서울시 광진구 | 423-8627 | 1975-07-01 | 750701-2534218 | 공무원 | 1 | 0 |\n",
       "\n"
      ],
      "text/plain": [
       "  CID    Name   Address       Tel      BDay       SID            Job    Sex\n",
       "1 100001 김민지 서울시 광진구 423-8627 1975-07-01 750701-2534218 공무원 1  \n",
       "  Married\n",
       "1 0      "
      ]
     },
     "metadata": {},
     "output_type": "display_data"
    }
   ],
   "source": [
    "# Customer_Info 테이블에 데이터 삽입 결과 확인 \n",
    "dbGetQuery(conn, \"SELECT * FROM Customer_Info\")"
   ]
  },
  {
   "cell_type": "code",
   "execution_count": 113,
   "metadata": {},
   "outputs": [],
   "source": [
    "# Customer_Score 테이블에 데이터 insert \n",
    "sql = \" INSERT INTO Customer_Score VALUES ('100001', '2012', 42, 111) \" \n",
    "rs = dbSendQuery(conn, sql)\n",
    "dbClearResult(rs)"
   ]
  },
  {
   "cell_type": "code",
   "execution_count": 114,
   "metadata": {},
   "outputs": [],
   "source": [
    "sql = \" INSERT INTO Customer_Score VALUES ('100001', '2013', 58, 89) \"\n",
    "rs = dbSendQuery(conn, sql) \n",
    "dbClearResult(rs)"
   ]
  },
  {
   "cell_type": "code",
   "execution_count": 115,
   "metadata": {},
   "outputs": [
    {
     "data": {
      "text/html": [
       "<table class=\"dataframe\">\n",
       "<caption>A data.frame: 2 × 4</caption>\n",
       "<thead>\n",
       "\t<tr><th scope=col>CID</th><th scope=col>Year</th><th scope=col>On_Score</th><th scope=col>Off_Score</th></tr>\n",
       "\t<tr><th scope=col>&lt;chr&gt;</th><th scope=col>&lt;chr&gt;</th><th scope=col>&lt;int&gt;</th><th scope=col>&lt;int&gt;</th></tr>\n",
       "</thead>\n",
       "<tbody>\n",
       "\t<tr><td>100001</td><td>2012</td><td>42</td><td>111</td></tr>\n",
       "\t<tr><td>100001</td><td>2013</td><td>58</td><td> 89</td></tr>\n",
       "</tbody>\n",
       "</table>\n"
      ],
      "text/latex": [
       "A data.frame: 2 × 4\n",
       "\\begin{tabular}{llll}\n",
       " CID & Year & On\\_Score & Off\\_Score\\\\\n",
       " <chr> & <chr> & <int> & <int>\\\\\n",
       "\\hline\n",
       "\t 100001 & 2012 & 42 & 111\\\\\n",
       "\t 100001 & 2013 & 58 &  89\\\\\n",
       "\\end{tabular}\n"
      ],
      "text/markdown": [
       "\n",
       "A data.frame: 2 × 4\n",
       "\n",
       "| CID &lt;chr&gt; | Year &lt;chr&gt; | On_Score &lt;int&gt; | Off_Score &lt;int&gt; |\n",
       "|---|---|---|---|\n",
       "| 100001 | 2012 | 42 | 111 |\n",
       "| 100001 | 2013 | 58 |  89 |\n",
       "\n"
      ],
      "text/plain": [
       "  CID    Year On_Score Off_Score\n",
       "1 100001 2012 42       111      \n",
       "2 100001 2013 58        89      "
      ]
     },
     "metadata": {},
     "output_type": "display_data"
    }
   ],
   "source": [
    " # Customer_Score 테이블에 데이터 삽입 결과 확인 \n",
    "dbGetQuery(conn, \"SELECT * FROM Customer_Score \")\n"
   ]
  },
  {
   "cell_type": "code",
   "execution_count": 118,
   "metadata": {},
   "outputs": [],
   "source": [
    "# Customer_Info 테이블에 있는 데이터 update\n",
    "sql = \"UPDATE Customer_Info SET Address = '서울시 영등포구'\n",
    "    WHERE CID = '100001' \" \n",
    "rs = dbSendQuery(conn, sql)\n",
    "dbClearResult(rs)"
   ]
  },
  {
   "cell_type": "code",
   "execution_count": 119,
   "metadata": {},
   "outputs": [
    {
     "data": {
      "text/html": [
       "<table class=\"dataframe\">\n",
       "<caption>A data.frame: 1 × 9</caption>\n",
       "<thead>\n",
       "\t<tr><th scope=col>CID</th><th scope=col>Name</th><th scope=col>Address</th><th scope=col>Tel</th><th scope=col>BDay</th><th scope=col>SID</th><th scope=col>Job</th><th scope=col>Sex</th><th scope=col>Married</th></tr>\n",
       "\t<tr><th scope=col>&lt;chr&gt;</th><th scope=col>&lt;chr&gt;</th><th scope=col>&lt;chr&gt;</th><th scope=col>&lt;chr&gt;</th><th scope=col>&lt;chr&gt;</th><th scope=col>&lt;chr&gt;</th><th scope=col>&lt;chr&gt;</th><th scope=col>&lt;chr&gt;</th><th scope=col>&lt;chr&gt;</th></tr>\n",
       "</thead>\n",
       "<tbody>\n",
       "\t<tr><td>100001</td><td>김민지</td><td>서울시 영등포구</td><td>423-8627</td><td>1975-07-01</td><td>750701-2534218</td><td>공무원</td><td>1</td><td>0</td></tr>\n",
       "</tbody>\n",
       "</table>\n"
      ],
      "text/latex": [
       "A data.frame: 1 × 9\n",
       "\\begin{tabular}{lllllllll}\n",
       " CID & Name & Address & Tel & BDay & SID & Job & Sex & Married\\\\\n",
       " <chr> & <chr> & <chr> & <chr> & <chr> & <chr> & <chr> & <chr> & <chr>\\\\\n",
       "\\hline\n",
       "\t 100001 & 김민지 & 서울시 영등포구 & 423-8627 & 1975-07-01 & 750701-2534218 & 공무원 & 1 & 0\\\\\n",
       "\\end{tabular}\n"
      ],
      "text/markdown": [
       "\n",
       "A data.frame: 1 × 9\n",
       "\n",
       "| CID &lt;chr&gt; | Name &lt;chr&gt; | Address &lt;chr&gt; | Tel &lt;chr&gt; | BDay &lt;chr&gt; | SID &lt;chr&gt; | Job &lt;chr&gt; | Sex &lt;chr&gt; | Married &lt;chr&gt; |\n",
       "|---|---|---|---|---|---|---|---|---|\n",
       "| 100001 | 김민지 | 서울시 영등포구 | 423-8627 | 1975-07-01 | 750701-2534218 | 공무원 | 1 | 0 |\n",
       "\n"
      ],
      "text/plain": [
       "  CID    Name   Address         Tel      BDay       SID            Job    Sex\n",
       "1 100001 김민지 서울시 영등포구 423-8627 1975-07-01 750701-2534218 공무원 1  \n",
       "  Married\n",
       "1 0      "
      ]
     },
     "metadata": {},
     "output_type": "display_data"
    }
   ],
   "source": [
    "# Customer_Info 테이블에 있는 데이터 갱신 결과 확인 \n",
    "dbGetQuery(conn, \"SELECT * FROM Customer_Info\")"
   ]
  },
  {
   "cell_type": "code",
   "execution_count": 120,
   "metadata": {},
   "outputs": [],
   "source": [
    "# Customer_Score 테이블에 있는 데이터 update\n",
    "sql = \"UPDATE Customer_Score SET Off_Score = 98\n",
    "WHERE CID = '100001' and Year='2013' \" \n",
    "rs = dbSendQuery(conn, sql)\n",
    "dbClearResult(rs)"
   ]
  },
  {
   "cell_type": "code",
   "execution_count": 121,
   "metadata": {},
   "outputs": [
    {
     "data": {
      "text/html": [
       "<table class=\"dataframe\">\n",
       "<caption>A data.frame: 2 × 4</caption>\n",
       "<thead>\n",
       "\t<tr><th scope=col>CID</th><th scope=col>Year</th><th scope=col>On_Score</th><th scope=col>Off_Score</th></tr>\n",
       "\t<tr><th scope=col>&lt;chr&gt;</th><th scope=col>&lt;chr&gt;</th><th scope=col>&lt;int&gt;</th><th scope=col>&lt;int&gt;</th></tr>\n",
       "</thead>\n",
       "<tbody>\n",
       "\t<tr><td>100001</td><td>2012</td><td>42</td><td>111</td></tr>\n",
       "\t<tr><td>100001</td><td>2013</td><td>58</td><td> 98</td></tr>\n",
       "</tbody>\n",
       "</table>\n"
      ],
      "text/latex": [
       "A data.frame: 2 × 4\n",
       "\\begin{tabular}{llll}\n",
       " CID & Year & On\\_Score & Off\\_Score\\\\\n",
       " <chr> & <chr> & <int> & <int>\\\\\n",
       "\\hline\n",
       "\t 100001 & 2012 & 42 & 111\\\\\n",
       "\t 100001 & 2013 & 58 &  98\\\\\n",
       "\\end{tabular}\n"
      ],
      "text/markdown": [
       "\n",
       "A data.frame: 2 × 4\n",
       "\n",
       "| CID &lt;chr&gt; | Year &lt;chr&gt; | On_Score &lt;int&gt; | Off_Score &lt;int&gt; |\n",
       "|---|---|---|---|\n",
       "| 100001 | 2012 | 42 | 111 |\n",
       "| 100001 | 2013 | 58 |  98 |\n",
       "\n"
      ],
      "text/plain": [
       "  CID    Year On_Score Off_Score\n",
       "1 100001 2012 42       111      \n",
       "2 100001 2013 58        98      "
      ]
     },
     "metadata": {},
     "output_type": "display_data"
    }
   ],
   "source": [
    "dbGetQuery(conn, \"SELECT * FROM Customer_Score \")"
   ]
  },
  {
   "cell_type": "code",
   "execution_count": 122,
   "metadata": {},
   "outputs": [],
   "source": [
    "# Customer_Score 테이블에 있는 특정 데이터 delete \n",
    "sql = \"DELETE FROM Customer_Score\n",
    "    WHERE CID = '100001' and Year='2013' \" \n",
    "rs = dbSendQuery(conn, sql)\n",
    "dbClearResult(rs)"
   ]
  },
  {
   "cell_type": "code",
   "execution_count": 123,
   "metadata": {},
   "outputs": [
    {
     "data": {
      "text/html": [
       "<table class=\"dataframe\">\n",
       "<caption>A data.frame: 1 × 4</caption>\n",
       "<thead>\n",
       "\t<tr><th scope=col>CID</th><th scope=col>Year</th><th scope=col>On_Score</th><th scope=col>Off_Score</th></tr>\n",
       "\t<tr><th scope=col>&lt;chr&gt;</th><th scope=col>&lt;chr&gt;</th><th scope=col>&lt;int&gt;</th><th scope=col>&lt;int&gt;</th></tr>\n",
       "</thead>\n",
       "<tbody>\n",
       "\t<tr><td>100001</td><td>2012</td><td>42</td><td>111</td></tr>\n",
       "</tbody>\n",
       "</table>\n"
      ],
      "text/latex": [
       "A data.frame: 1 × 4\n",
       "\\begin{tabular}{llll}\n",
       " CID & Year & On\\_Score & Off\\_Score\\\\\n",
       " <chr> & <chr> & <int> & <int>\\\\\n",
       "\\hline\n",
       "\t 100001 & 2012 & 42 & 111\\\\\n",
       "\\end{tabular}\n"
      ],
      "text/markdown": [
       "\n",
       "A data.frame: 1 × 4\n",
       "\n",
       "| CID &lt;chr&gt; | Year &lt;chr&gt; | On_Score &lt;int&gt; | Off_Score &lt;int&gt; |\n",
       "|---|---|---|---|\n",
       "| 100001 | 2012 | 42 | 111 |\n",
       "\n"
      ],
      "text/plain": [
       "  CID    Year On_Score Off_Score\n",
       "1 100001 2012 42       111      "
      ]
     },
     "metadata": {},
     "output_type": "display_data"
    }
   ],
   "source": [
    "# Customer_Score 테이블에 있는 특정 데이터 삭제 결과 확인 \n",
    "dbGetQuery(conn, \"SELECT * FROM Customer_Score\")"
   ]
  },
  {
   "cell_type": "code",
   "execution_count": 124,
   "metadata": {},
   "outputs": [],
   "source": [
    "# Customer_Score 테이블에 있는 전체 데이터 delete \n",
    "sql = \"DELETE FROM Customer_Score \"\n",
    "rs = dbSendQuery(conn, sql)\n",
    "dbClearResult(rs)"
   ]
  },
  {
   "cell_type": "code",
   "execution_count": 125,
   "metadata": {},
   "outputs": [
    {
     "data": {
      "text/html": [
       "<table class=\"dataframe\">\n",
       "<caption>A data.frame: 0 × 4</caption>\n",
       "<thead>\n",
       "\t<tr><th scope=col>CID</th><th scope=col>Year</th><th scope=col>On_Score</th><th scope=col>Off_Score</th></tr>\n",
       "\t<tr><th scope=col>&lt;chr&gt;</th><th scope=col>&lt;chr&gt;</th><th scope=col>&lt;int&gt;</th><th scope=col>&lt;int&gt;</th></tr>\n",
       "</thead>\n",
       "<tbody>\n",
       "</tbody>\n",
       "</table>\n"
      ],
      "text/latex": [
       "A data.frame: 0 × 4\n",
       "\\begin{tabular}{llll}\n",
       " CID & Year & On\\_Score & Off\\_Score\\\\\n",
       " <chr> & <chr> & <int> & <int>\\\\\n",
       "\\hline\n",
       "\\end{tabular}\n"
      ],
      "text/markdown": [
       "\n",
       "A data.frame: 0 × 4\n",
       "\n",
       "| CID &lt;chr&gt; | Year &lt;chr&gt; | On_Score &lt;int&gt; | Off_Score &lt;int&gt; |\n",
       "|---|---|---|---|\n",
       "\n"
      ],
      "text/plain": [
       "     CID Year On_Score Off_Score"
      ]
     },
     "metadata": {},
     "output_type": "display_data"
    }
   ],
   "source": [
    "# Customer_Score 테이블에 있는 전체 데이터 삭제 결과 확인 \n",
    "dbGetQuery(conn, \"SELECT * FROM Customer_Score \")"
   ]
  },
  {
   "cell_type": "code",
   "execution_count": 128,
   "metadata": {},
   "outputs": [],
   "source": [
    "# Customer 데이터베이스 연결\n",
    "conn = dbConnect(SQLite(), dbname = \"RSQL/Customer.sqlite\")"
   ]
  },
  {
   "cell_type": "code",
   "execution_count": 129,
   "metadata": {},
   "outputs": [
    {
     "data": {
      "text/html": [
       "<style>\n",
       ".list-inline {list-style: none; margin:0; padding: 0}\n",
       ".list-inline>li {display: inline-block}\n",
       ".list-inline>li:not(:last-child)::after {content: \"\\00b7\"; padding: 0 .5ex}\n",
       "</style>\n",
       "<ol class=list-inline><li>'Customer_Info'</li><li>'Customer_Score'</li></ol>\n"
      ],
      "text/latex": [
       "\\begin{enumerate*}\n",
       "\\item 'Customer\\_Info'\n",
       "\\item 'Customer\\_Score'\n",
       "\\end{enumerate*}\n"
      ],
      "text/markdown": [
       "1. 'Customer_Info'\n",
       "2. 'Customer_Score'\n",
       "\n",
       "\n"
      ],
      "text/plain": [
       "[1] \"Customer_Info\"  \"Customer_Score\""
      ]
     },
     "metadata": {},
     "output_type": "display_data"
    }
   ],
   "source": [
    "dbListTables(conn)"
   ]
  },
  {
   "cell_type": "code",
   "execution_count": 131,
   "metadata": {},
   "outputs": [],
   "source": [
    "customer_data = read.csv('RSQL/customer_data.csv',fileEncoding = \"CP949\", encoding = \"UTF-8\",header=T)"
   ]
  },
  {
   "cell_type": "code",
   "execution_count": 132,
   "metadata": {},
   "outputs": [],
   "source": [
    "# CSV 화일의 데이터를 Customer_Info 테이블에 삽입하기\n",
    "dbWriteTable(conn = conn, name = \"Customer_Info\", customer_data,\n",
    "overwrite=T, row.names=FALSE)"
   ]
  },
  {
   "cell_type": "code",
   "execution_count": 133,
   "metadata": {},
   "outputs": [
    {
     "data": {
      "text/html": [
       "<table class=\"dataframe\">\n",
       "<caption>A data.frame: 11 × 9</caption>\n",
       "<thead>\n",
       "\t<tr><th scope=col>CID</th><th scope=col>Name</th><th scope=col>Address</th><th scope=col>Tel</th><th scope=col>Bday</th><th scope=col>SID</th><th scope=col>Job</th><th scope=col>Sex</th><th scope=col>Married</th></tr>\n",
       "\t<tr><th scope=col>&lt;int&gt;</th><th scope=col>&lt;chr&gt;</th><th scope=col>&lt;chr&gt;</th><th scope=col>&lt;chr&gt;</th><th scope=col>&lt;chr&gt;</th><th scope=col>&lt;chr&gt;</th><th scope=col>&lt;chr&gt;</th><th scope=col>&lt;int&gt;</th><th scope=col>&lt;int&gt;</th></tr>\n",
       "</thead>\n",
       "<tbody>\n",
       "\t<tr><td>100001</td><td>김민주</td><td>서울시 광진구  </td><td>423-8627</td><td>1975-07-01</td><td>750701-2534218</td><td>공무원</td><td>1</td><td>0</td></tr>\n",
       "\t<tr><td>100002</td><td>정영미</td><td>경기도 수원시  </td><td>321-4568</td><td>1977-02-01</td><td>770201-2834721</td><td>회사원</td><td>1</td><td>1</td></tr>\n",
       "\t<tr><td>100003</td><td>최소영</td><td>제주도 서귀포시</td><td>624-2172</td><td>1980-01-25</td><td>800125-2432712</td><td>학생  </td><td>1</td><td>0</td></tr>\n",
       "\t<tr><td>100004</td><td>박진재</td><td>강원도 속초시  </td><td>543-9467</td><td>1960-05-02</td><td>600502-1645394</td><td>공무원</td><td>0</td><td>1</td></tr>\n",
       "\t<tr><td>100005</td><td>이순석</td><td>충남 보령시    </td><td>254-9124</td><td>1982-06-01</td><td>820601-1543714</td><td>회사원</td><td>0</td><td>0</td></tr>\n",
       "\t<tr><td>100006</td><td>박선희</td><td>서울시 강남구  </td><td>459-2187</td><td>1975-04-05</td><td>801220-2487416</td><td>회사원</td><td>1</td><td>0</td></tr>\n",
       "\t<tr><td>100007</td><td>김화연</td><td>경남 경주시    </td><td>284-8147</td><td>1980-01-04</td><td>790221-2482217</td><td>학생  </td><td>1</td><td>0</td></tr>\n",
       "\t<tr><td>100008</td><td>박민선</td><td>부산시 해운대구</td><td>347-9124</td><td>1985-04-04</td><td>850527-2123827</td><td>학생  </td><td>1</td><td>0</td></tr>\n",
       "\t<tr><td>100009</td><td>노상수</td><td>전북 군산시    </td><td>547-2984</td><td>1981-01-30</td><td>741025-1441282</td><td>공무원</td><td>0</td><td>1</td></tr>\n",
       "\t<tr><td>100010</td><td>이민석</td><td>경기도 수원시  </td><td>354-2723</td><td>1972-08-02</td><td>720802-1481395</td><td>회사원</td><td>0</td><td>1</td></tr>\n",
       "\t<tr><td>100011</td><td>정영미</td><td>서울시 관악구  </td><td>272-6745</td><td>1974-09-21</td><td>740921-2782216</td><td>주부  </td><td>1</td><td>1</td></tr>\n",
       "</tbody>\n",
       "</table>\n"
      ],
      "text/latex": [
       "A data.frame: 11 × 9\n",
       "\\begin{tabular}{lllllllll}\n",
       " CID & Name & Address & Tel & Bday & SID & Job & Sex & Married\\\\\n",
       " <int> & <chr> & <chr> & <chr> & <chr> & <chr> & <chr> & <int> & <int>\\\\\n",
       "\\hline\n",
       "\t 100001 & 김민주 & 서울시 광진구   & 423-8627 & 1975-07-01 & 750701-2534218 & 공무원 & 1 & 0\\\\\n",
       "\t 100002 & 정영미 & 경기도 수원시   & 321-4568 & 1977-02-01 & 770201-2834721 & 회사원 & 1 & 1\\\\\n",
       "\t 100003 & 최소영 & 제주도 서귀포시 & 624-2172 & 1980-01-25 & 800125-2432712 & 학생   & 1 & 0\\\\\n",
       "\t 100004 & 박진재 & 강원도 속초시   & 543-9467 & 1960-05-02 & 600502-1645394 & 공무원 & 0 & 1\\\\\n",
       "\t 100005 & 이순석 & 충남 보령시     & 254-9124 & 1982-06-01 & 820601-1543714 & 회사원 & 0 & 0\\\\\n",
       "\t 100006 & 박선희 & 서울시 강남구   & 459-2187 & 1975-04-05 & 801220-2487416 & 회사원 & 1 & 0\\\\\n",
       "\t 100007 & 김화연 & 경남 경주시     & 284-8147 & 1980-01-04 & 790221-2482217 & 학생   & 1 & 0\\\\\n",
       "\t 100008 & 박민선 & 부산시 해운대구 & 347-9124 & 1985-04-04 & 850527-2123827 & 학생   & 1 & 0\\\\\n",
       "\t 100009 & 노상수 & 전북 군산시     & 547-2984 & 1981-01-30 & 741025-1441282 & 공무원 & 0 & 1\\\\\n",
       "\t 100010 & 이민석 & 경기도 수원시   & 354-2723 & 1972-08-02 & 720802-1481395 & 회사원 & 0 & 1\\\\\n",
       "\t 100011 & 정영미 & 서울시 관악구   & 272-6745 & 1974-09-21 & 740921-2782216 & 주부   & 1 & 1\\\\\n",
       "\\end{tabular}\n"
      ],
      "text/markdown": [
       "\n",
       "A data.frame: 11 × 9\n",
       "\n",
       "| CID &lt;int&gt; | Name &lt;chr&gt; | Address &lt;chr&gt; | Tel &lt;chr&gt; | Bday &lt;chr&gt; | SID &lt;chr&gt; | Job &lt;chr&gt; | Sex &lt;int&gt; | Married &lt;int&gt; |\n",
       "|---|---|---|---|---|---|---|---|---|\n",
       "| 100001 | 김민주 | 서울시 광진구   | 423-8627 | 1975-07-01 | 750701-2534218 | 공무원 | 1 | 0 |\n",
       "| 100002 | 정영미 | 경기도 수원시   | 321-4568 | 1977-02-01 | 770201-2834721 | 회사원 | 1 | 1 |\n",
       "| 100003 | 최소영 | 제주도 서귀포시 | 624-2172 | 1980-01-25 | 800125-2432712 | 학생   | 1 | 0 |\n",
       "| 100004 | 박진재 | 강원도 속초시   | 543-9467 | 1960-05-02 | 600502-1645394 | 공무원 | 0 | 1 |\n",
       "| 100005 | 이순석 | 충남 보령시     | 254-9124 | 1982-06-01 | 820601-1543714 | 회사원 | 0 | 0 |\n",
       "| 100006 | 박선희 | 서울시 강남구   | 459-2187 | 1975-04-05 | 801220-2487416 | 회사원 | 1 | 0 |\n",
       "| 100007 | 김화연 | 경남 경주시     | 284-8147 | 1980-01-04 | 790221-2482217 | 학생   | 1 | 0 |\n",
       "| 100008 | 박민선 | 부산시 해운대구 | 347-9124 | 1985-04-04 | 850527-2123827 | 학생   | 1 | 0 |\n",
       "| 100009 | 노상수 | 전북 군산시     | 547-2984 | 1981-01-30 | 741025-1441282 | 공무원 | 0 | 1 |\n",
       "| 100010 | 이민석 | 경기도 수원시   | 354-2723 | 1972-08-02 | 720802-1481395 | 회사원 | 0 | 1 |\n",
       "| 100011 | 정영미 | 서울시 관악구   | 272-6745 | 1974-09-21 | 740921-2782216 | 주부   | 1 | 1 |\n",
       "\n"
      ],
      "text/plain": [
       "   CID    Name   Address         Tel      Bday       SID            Job    Sex\n",
       "1  100001 김민주 서울시 광진구   423-8627 1975-07-01 750701-2534218 공무원 1  \n",
       "2  100002 정영미 경기도 수원시   321-4568 1977-02-01 770201-2834721 회사원 1  \n",
       "3  100003 최소영 제주도 서귀포시 624-2172 1980-01-25 800125-2432712 학생   1  \n",
       "4  100004 박진재 강원도 속초시   543-9467 1960-05-02 600502-1645394 공무원 0  \n",
       "5  100005 이순석 충남 보령시     254-9124 1982-06-01 820601-1543714 회사원 0  \n",
       "6  100006 박선희 서울시 강남구   459-2187 1975-04-05 801220-2487416 회사원 1  \n",
       "7  100007 김화연 경남 경주시     284-8147 1980-01-04 790221-2482217 학생   1  \n",
       "8  100008 박민선 부산시 해운대구 347-9124 1985-04-04 850527-2123827 학생   1  \n",
       "9  100009 노상수 전북 군산시     547-2984 1981-01-30 741025-1441282 공무원 0  \n",
       "10 100010 이민석 경기도 수원시   354-2723 1972-08-02 720802-1481395 회사원 0  \n",
       "11 100011 정영미 서울시 관악구   272-6745 1974-09-21 740921-2782216 주부   1  \n",
       "   Married\n",
       "1  0      \n",
       "2  1      \n",
       "3  0      \n",
       "4  1      \n",
       "5  0      \n",
       "6  0      \n",
       "7  0      \n",
       "8  0      \n",
       "9  1      \n",
       "10 1      \n",
       "11 1      "
      ]
     },
     "metadata": {},
     "output_type": "display_data"
    }
   ],
   "source": [
    "# Customer_Info 테이블에 있는 데이터 확인하기 \n",
    "dbReadTable(conn, \"Customer_Info\")"
   ]
  },
  {
   "cell_type": "code",
   "execution_count": 135,
   "metadata": {},
   "outputs": [],
   "source": [
    "# CSV 화일의 데이터를 Customer_Score 테이블에 삽입하기\n",
    "customer_score = read.csv('RSQL/customer_score.csv')\n",
    "dbWriteTable(conn = conn, name = \"Customer_Score\", customer_score,\n",
    "overwrite=T, row.names=FALSE)"
   ]
  },
  {
   "cell_type": "code",
   "execution_count": 136,
   "metadata": {},
   "outputs": [
    {
     "data": {
      "text/html": [
       "<table class=\"dataframe\">\n",
       "<caption>A data.frame: 22 × 4</caption>\n",
       "<thead>\n",
       "\t<tr><th scope=col>CID</th><th scope=col>Year</th><th scope=col>On_Score</th><th scope=col>Off_Score</th></tr>\n",
       "\t<tr><th scope=col>&lt;int&gt;</th><th scope=col>&lt;int&gt;</th><th scope=col>&lt;int&gt;</th><th scope=col>&lt;int&gt;</th></tr>\n",
       "</thead>\n",
       "<tbody>\n",
       "\t<tr><td>100001</td><td>2012</td><td> 42</td><td>111</td></tr>\n",
       "\t<tr><td>100002</td><td>2012</td><td> 12</td><td> 30</td></tr>\n",
       "\t<tr><td>100003</td><td>2012</td><td> 86</td><td>128</td></tr>\n",
       "\t<tr><td>100004</td><td>2012</td><td>  0</td><td> 87</td></tr>\n",
       "\t<tr><td>100005</td><td>2012</td><td>122</td><td> 56</td></tr>\n",
       "\t<tr><td>100006</td><td>2012</td><td> 98</td><td> 17</td></tr>\n",
       "\t<tr><td>100007</td><td>2012</td><td>  0</td><td>  0</td></tr>\n",
       "\t<tr><td>100008</td><td>2012</td><td> 56</td><td>172</td></tr>\n",
       "\t<tr><td>100009</td><td>2012</td><td> 24</td><td> 45</td></tr>\n",
       "\t<tr><td>100010</td><td>2012</td><td>  0</td><td> 21</td></tr>\n",
       "\t<tr><td>100011</td><td>2012</td><td>  0</td><td> 39</td></tr>\n",
       "\t<tr><td>100001</td><td>2013</td><td> 58</td><td> 89</td></tr>\n",
       "\t<tr><td>100002</td><td>2013</td><td> 98</td><td> 40</td></tr>\n",
       "\t<tr><td>100003</td><td>2013</td><td>402</td><td>128</td></tr>\n",
       "\t<tr><td>100004</td><td>2013</td><td>  0</td><td> 74</td></tr>\n",
       "\t<tr><td>100005</td><td>2013</td><td>356</td><td>132</td></tr>\n",
       "\t<tr><td>100006</td><td>2013</td><td> 66</td><td> 12</td></tr>\n",
       "\t<tr><td>100007</td><td>2013</td><td>  0</td><td>  5</td></tr>\n",
       "\t<tr><td>100008</td><td>2013</td><td> 44</td><td> 98</td></tr>\n",
       "\t<tr><td>100009</td><td>2013</td><td>  2</td><td>  6</td></tr>\n",
       "\t<tr><td>100010</td><td>2013</td><td>  0</td><td>  0</td></tr>\n",
       "\t<tr><td>100011</td><td>2013</td><td>  0</td><td> 48</td></tr>\n",
       "</tbody>\n",
       "</table>\n"
      ],
      "text/latex": [
       "A data.frame: 22 × 4\n",
       "\\begin{tabular}{llll}\n",
       " CID & Year & On\\_Score & Off\\_Score\\\\\n",
       " <int> & <int> & <int> & <int>\\\\\n",
       "\\hline\n",
       "\t 100001 & 2012 &  42 & 111\\\\\n",
       "\t 100002 & 2012 &  12 &  30\\\\\n",
       "\t 100003 & 2012 &  86 & 128\\\\\n",
       "\t 100004 & 2012 &   0 &  87\\\\\n",
       "\t 100005 & 2012 & 122 &  56\\\\\n",
       "\t 100006 & 2012 &  98 &  17\\\\\n",
       "\t 100007 & 2012 &   0 &   0\\\\\n",
       "\t 100008 & 2012 &  56 & 172\\\\\n",
       "\t 100009 & 2012 &  24 &  45\\\\\n",
       "\t 100010 & 2012 &   0 &  21\\\\\n",
       "\t 100011 & 2012 &   0 &  39\\\\\n",
       "\t 100001 & 2013 &  58 &  89\\\\\n",
       "\t 100002 & 2013 &  98 &  40\\\\\n",
       "\t 100003 & 2013 & 402 & 128\\\\\n",
       "\t 100004 & 2013 &   0 &  74\\\\\n",
       "\t 100005 & 2013 & 356 & 132\\\\\n",
       "\t 100006 & 2013 &  66 &  12\\\\\n",
       "\t 100007 & 2013 &   0 &   5\\\\\n",
       "\t 100008 & 2013 &  44 &  98\\\\\n",
       "\t 100009 & 2013 &   2 &   6\\\\\n",
       "\t 100010 & 2013 &   0 &   0\\\\\n",
       "\t 100011 & 2013 &   0 &  48\\\\\n",
       "\\end{tabular}\n"
      ],
      "text/markdown": [
       "\n",
       "A data.frame: 22 × 4\n",
       "\n",
       "| CID &lt;int&gt; | Year &lt;int&gt; | On_Score &lt;int&gt; | Off_Score &lt;int&gt; |\n",
       "|---|---|---|---|\n",
       "| 100001 | 2012 |  42 | 111 |\n",
       "| 100002 | 2012 |  12 |  30 |\n",
       "| 100003 | 2012 |  86 | 128 |\n",
       "| 100004 | 2012 |   0 |  87 |\n",
       "| 100005 | 2012 | 122 |  56 |\n",
       "| 100006 | 2012 |  98 |  17 |\n",
       "| 100007 | 2012 |   0 |   0 |\n",
       "| 100008 | 2012 |  56 | 172 |\n",
       "| 100009 | 2012 |  24 |  45 |\n",
       "| 100010 | 2012 |   0 |  21 |\n",
       "| 100011 | 2012 |   0 |  39 |\n",
       "| 100001 | 2013 |  58 |  89 |\n",
       "| 100002 | 2013 |  98 |  40 |\n",
       "| 100003 | 2013 | 402 | 128 |\n",
       "| 100004 | 2013 |   0 |  74 |\n",
       "| 100005 | 2013 | 356 | 132 |\n",
       "| 100006 | 2013 |  66 |  12 |\n",
       "| 100007 | 2013 |   0 |   5 |\n",
       "| 100008 | 2013 |  44 |  98 |\n",
       "| 100009 | 2013 |   2 |   6 |\n",
       "| 100010 | 2013 |   0 |   0 |\n",
       "| 100011 | 2013 |   0 |  48 |\n",
       "\n"
      ],
      "text/plain": [
       "   CID    Year On_Score Off_Score\n",
       "1  100001 2012  42      111      \n",
       "2  100002 2012  12       30      \n",
       "3  100003 2012  86      128      \n",
       "4  100004 2012   0       87      \n",
       "5  100005 2012 122       56      \n",
       "6  100006 2012  98       17      \n",
       "7  100007 2012   0        0      \n",
       "8  100008 2012  56      172      \n",
       "9  100009 2012  24       45      \n",
       "10 100010 2012   0       21      \n",
       "11 100011 2012   0       39      \n",
       "12 100001 2013  58       89      \n",
       "13 100002 2013  98       40      \n",
       "14 100003 2013 402      128      \n",
       "15 100004 2013   0       74      \n",
       "16 100005 2013 356      132      \n",
       "17 100006 2013  66       12      \n",
       "18 100007 2013   0        5      \n",
       "19 100008 2013  44       98      \n",
       "20 100009 2013   2        6      \n",
       "21 100010 2013   0        0      \n",
       "22 100011 2013   0       48      "
      ]
     },
     "metadata": {},
     "output_type": "display_data"
    }
   ],
   "source": [
    " # Customer_Score 테이블에 있는 데이터 확인하기 \n",
    "dbReadTable(conn, \"Customer_Score\")\n"
   ]
  },
  {
   "cell_type": "code",
   "execution_count": 137,
   "metadata": {},
   "outputs": [
    {
     "data": {
      "text/html": [
       "<table class=\"dataframe\">\n",
       "<caption>A data.frame: 11 × 3</caption>\n",
       "<thead>\n",
       "\t<tr><th scope=col>CID</th><th scope=col>Name</th><th scope=col>Job</th></tr>\n",
       "\t<tr><th scope=col>&lt;int&gt;</th><th scope=col>&lt;chr&gt;</th><th scope=col>&lt;chr&gt;</th></tr>\n",
       "</thead>\n",
       "<tbody>\n",
       "\t<tr><td>100001</td><td>김민주</td><td>공무원</td></tr>\n",
       "\t<tr><td>100002</td><td>정영미</td><td>회사원</td></tr>\n",
       "\t<tr><td>100003</td><td>최소영</td><td>학생  </td></tr>\n",
       "\t<tr><td>100004</td><td>박진재</td><td>공무원</td></tr>\n",
       "\t<tr><td>100005</td><td>이순석</td><td>회사원</td></tr>\n",
       "\t<tr><td>100006</td><td>박선희</td><td>회사원</td></tr>\n",
       "\t<tr><td>100007</td><td>김화연</td><td>학생  </td></tr>\n",
       "\t<tr><td>100008</td><td>박민선</td><td>학생  </td></tr>\n",
       "\t<tr><td>100009</td><td>노상수</td><td>공무원</td></tr>\n",
       "\t<tr><td>100010</td><td>이민석</td><td>회사원</td></tr>\n",
       "\t<tr><td>100011</td><td>정영미</td><td>주부  </td></tr>\n",
       "</tbody>\n",
       "</table>\n"
      ],
      "text/latex": [
       "A data.frame: 11 × 3\n",
       "\\begin{tabular}{lll}\n",
       " CID & Name & Job\\\\\n",
       " <int> & <chr> & <chr>\\\\\n",
       "\\hline\n",
       "\t 100001 & 김민주 & 공무원\\\\\n",
       "\t 100002 & 정영미 & 회사원\\\\\n",
       "\t 100003 & 최소영 & 학생  \\\\\n",
       "\t 100004 & 박진재 & 공무원\\\\\n",
       "\t 100005 & 이순석 & 회사원\\\\\n",
       "\t 100006 & 박선희 & 회사원\\\\\n",
       "\t 100007 & 김화연 & 학생  \\\\\n",
       "\t 100008 & 박민선 & 학생  \\\\\n",
       "\t 100009 & 노상수 & 공무원\\\\\n",
       "\t 100010 & 이민석 & 회사원\\\\\n",
       "\t 100011 & 정영미 & 주부  \\\\\n",
       "\\end{tabular}\n"
      ],
      "text/markdown": [
       "\n",
       "A data.frame: 11 × 3\n",
       "\n",
       "| CID &lt;int&gt; | Name &lt;chr&gt; | Job &lt;chr&gt; |\n",
       "|---|---|---|\n",
       "| 100001 | 김민주 | 공무원 |\n",
       "| 100002 | 정영미 | 회사원 |\n",
       "| 100003 | 최소영 | 학생   |\n",
       "| 100004 | 박진재 | 공무원 |\n",
       "| 100005 | 이순석 | 회사원 |\n",
       "| 100006 | 박선희 | 회사원 |\n",
       "| 100007 | 김화연 | 학생   |\n",
       "| 100008 | 박민선 | 학생   |\n",
       "| 100009 | 노상수 | 공무원 |\n",
       "| 100010 | 이민석 | 회사원 |\n",
       "| 100011 | 정영미 | 주부   |\n",
       "\n"
      ],
      "text/plain": [
       "   CID    Name   Job   \n",
       "1  100001 김민주 공무원\n",
       "2  100002 정영미 회사원\n",
       "3  100003 최소영 학생  \n",
       "4  100004 박진재 공무원\n",
       "5  100005 이순석 회사원\n",
       "6  100006 박선희 회사원\n",
       "7  100007 김화연 학생  \n",
       "8  100008 박민선 학생  \n",
       "9  100009 노상수 공무원\n",
       "10 100010 이민석 회사원\n",
       "11 100011 정영미 주부  "
      ]
     },
     "metadata": {},
     "output_type": "display_data"
    }
   ],
   "source": [
    "sql = \"SELECT CID, Name, Job FROM Customer_Info\" \n",
    "dbGetQuery(conn, sql)"
   ]
  },
  {
   "cell_type": "code",
   "execution_count": 138,
   "metadata": {},
   "outputs": [
    {
     "data": {
      "text/html": [
       "<table class=\"dataframe\">\n",
       "<caption>A data.frame: 11 × 9</caption>\n",
       "<thead>\n",
       "\t<tr><th scope=col>CID</th><th scope=col>Name</th><th scope=col>Address</th><th scope=col>Tel</th><th scope=col>Bday</th><th scope=col>SID</th><th scope=col>Job</th><th scope=col>Sex</th><th scope=col>Married</th></tr>\n",
       "\t<tr><th scope=col>&lt;int&gt;</th><th scope=col>&lt;chr&gt;</th><th scope=col>&lt;chr&gt;</th><th scope=col>&lt;chr&gt;</th><th scope=col>&lt;chr&gt;</th><th scope=col>&lt;chr&gt;</th><th scope=col>&lt;chr&gt;</th><th scope=col>&lt;int&gt;</th><th scope=col>&lt;int&gt;</th></tr>\n",
       "</thead>\n",
       "<tbody>\n",
       "\t<tr><td>100001</td><td>김민주</td><td>서울시 광진구  </td><td>423-8627</td><td>1975-07-01</td><td>750701-2534218</td><td>공무원</td><td>1</td><td>0</td></tr>\n",
       "\t<tr><td>100002</td><td>정영미</td><td>경기도 수원시  </td><td>321-4568</td><td>1977-02-01</td><td>770201-2834721</td><td>회사원</td><td>1</td><td>1</td></tr>\n",
       "\t<tr><td>100003</td><td>최소영</td><td>제주도 서귀포시</td><td>624-2172</td><td>1980-01-25</td><td>800125-2432712</td><td>학생  </td><td>1</td><td>0</td></tr>\n",
       "\t<tr><td>100004</td><td>박진재</td><td>강원도 속초시  </td><td>543-9467</td><td>1960-05-02</td><td>600502-1645394</td><td>공무원</td><td>0</td><td>1</td></tr>\n",
       "\t<tr><td>100005</td><td>이순석</td><td>충남 보령시    </td><td>254-9124</td><td>1982-06-01</td><td>820601-1543714</td><td>회사원</td><td>0</td><td>0</td></tr>\n",
       "\t<tr><td>100006</td><td>박선희</td><td>서울시 강남구  </td><td>459-2187</td><td>1975-04-05</td><td>801220-2487416</td><td>회사원</td><td>1</td><td>0</td></tr>\n",
       "\t<tr><td>100007</td><td>김화연</td><td>경남 경주시    </td><td>284-8147</td><td>1980-01-04</td><td>790221-2482217</td><td>학생  </td><td>1</td><td>0</td></tr>\n",
       "\t<tr><td>100008</td><td>박민선</td><td>부산시 해운대구</td><td>347-9124</td><td>1985-04-04</td><td>850527-2123827</td><td>학생  </td><td>1</td><td>0</td></tr>\n",
       "\t<tr><td>100009</td><td>노상수</td><td>전북 군산시    </td><td>547-2984</td><td>1981-01-30</td><td>741025-1441282</td><td>공무원</td><td>0</td><td>1</td></tr>\n",
       "\t<tr><td>100010</td><td>이민석</td><td>경기도 수원시  </td><td>354-2723</td><td>1972-08-02</td><td>720802-1481395</td><td>회사원</td><td>0</td><td>1</td></tr>\n",
       "\t<tr><td>100011</td><td>정영미</td><td>서울시 관악구  </td><td>272-6745</td><td>1974-09-21</td><td>740921-2782216</td><td>주부  </td><td>1</td><td>1</td></tr>\n",
       "</tbody>\n",
       "</table>\n"
      ],
      "text/latex": [
       "A data.frame: 11 × 9\n",
       "\\begin{tabular}{lllllllll}\n",
       " CID & Name & Address & Tel & Bday & SID & Job & Sex & Married\\\\\n",
       " <int> & <chr> & <chr> & <chr> & <chr> & <chr> & <chr> & <int> & <int>\\\\\n",
       "\\hline\n",
       "\t 100001 & 김민주 & 서울시 광진구   & 423-8627 & 1975-07-01 & 750701-2534218 & 공무원 & 1 & 0\\\\\n",
       "\t 100002 & 정영미 & 경기도 수원시   & 321-4568 & 1977-02-01 & 770201-2834721 & 회사원 & 1 & 1\\\\\n",
       "\t 100003 & 최소영 & 제주도 서귀포시 & 624-2172 & 1980-01-25 & 800125-2432712 & 학생   & 1 & 0\\\\\n",
       "\t 100004 & 박진재 & 강원도 속초시   & 543-9467 & 1960-05-02 & 600502-1645394 & 공무원 & 0 & 1\\\\\n",
       "\t 100005 & 이순석 & 충남 보령시     & 254-9124 & 1982-06-01 & 820601-1543714 & 회사원 & 0 & 0\\\\\n",
       "\t 100006 & 박선희 & 서울시 강남구   & 459-2187 & 1975-04-05 & 801220-2487416 & 회사원 & 1 & 0\\\\\n",
       "\t 100007 & 김화연 & 경남 경주시     & 284-8147 & 1980-01-04 & 790221-2482217 & 학생   & 1 & 0\\\\\n",
       "\t 100008 & 박민선 & 부산시 해운대구 & 347-9124 & 1985-04-04 & 850527-2123827 & 학생   & 1 & 0\\\\\n",
       "\t 100009 & 노상수 & 전북 군산시     & 547-2984 & 1981-01-30 & 741025-1441282 & 공무원 & 0 & 1\\\\\n",
       "\t 100010 & 이민석 & 경기도 수원시   & 354-2723 & 1972-08-02 & 720802-1481395 & 회사원 & 0 & 1\\\\\n",
       "\t 100011 & 정영미 & 서울시 관악구   & 272-6745 & 1974-09-21 & 740921-2782216 & 주부   & 1 & 1\\\\\n",
       "\\end{tabular}\n"
      ],
      "text/markdown": [
       "\n",
       "A data.frame: 11 × 9\n",
       "\n",
       "| CID &lt;int&gt; | Name &lt;chr&gt; | Address &lt;chr&gt; | Tel &lt;chr&gt; | Bday &lt;chr&gt; | SID &lt;chr&gt; | Job &lt;chr&gt; | Sex &lt;int&gt; | Married &lt;int&gt; |\n",
       "|---|---|---|---|---|---|---|---|---|\n",
       "| 100001 | 김민주 | 서울시 광진구   | 423-8627 | 1975-07-01 | 750701-2534218 | 공무원 | 1 | 0 |\n",
       "| 100002 | 정영미 | 경기도 수원시   | 321-4568 | 1977-02-01 | 770201-2834721 | 회사원 | 1 | 1 |\n",
       "| 100003 | 최소영 | 제주도 서귀포시 | 624-2172 | 1980-01-25 | 800125-2432712 | 학생   | 1 | 0 |\n",
       "| 100004 | 박진재 | 강원도 속초시   | 543-9467 | 1960-05-02 | 600502-1645394 | 공무원 | 0 | 1 |\n",
       "| 100005 | 이순석 | 충남 보령시     | 254-9124 | 1982-06-01 | 820601-1543714 | 회사원 | 0 | 0 |\n",
       "| 100006 | 박선희 | 서울시 강남구   | 459-2187 | 1975-04-05 | 801220-2487416 | 회사원 | 1 | 0 |\n",
       "| 100007 | 김화연 | 경남 경주시     | 284-8147 | 1980-01-04 | 790221-2482217 | 학생   | 1 | 0 |\n",
       "| 100008 | 박민선 | 부산시 해운대구 | 347-9124 | 1985-04-04 | 850527-2123827 | 학생   | 1 | 0 |\n",
       "| 100009 | 노상수 | 전북 군산시     | 547-2984 | 1981-01-30 | 741025-1441282 | 공무원 | 0 | 1 |\n",
       "| 100010 | 이민석 | 경기도 수원시   | 354-2723 | 1972-08-02 | 720802-1481395 | 회사원 | 0 | 1 |\n",
       "| 100011 | 정영미 | 서울시 관악구   | 272-6745 | 1974-09-21 | 740921-2782216 | 주부   | 1 | 1 |\n",
       "\n"
      ],
      "text/plain": [
       "   CID    Name   Address         Tel      Bday       SID            Job    Sex\n",
       "1  100001 김민주 서울시 광진구   423-8627 1975-07-01 750701-2534218 공무원 1  \n",
       "2  100002 정영미 경기도 수원시   321-4568 1977-02-01 770201-2834721 회사원 1  \n",
       "3  100003 최소영 제주도 서귀포시 624-2172 1980-01-25 800125-2432712 학생   1  \n",
       "4  100004 박진재 강원도 속초시   543-9467 1960-05-02 600502-1645394 공무원 0  \n",
       "5  100005 이순석 충남 보령시     254-9124 1982-06-01 820601-1543714 회사원 0  \n",
       "6  100006 박선희 서울시 강남구   459-2187 1975-04-05 801220-2487416 회사원 1  \n",
       "7  100007 김화연 경남 경주시     284-8147 1980-01-04 790221-2482217 학생   1  \n",
       "8  100008 박민선 부산시 해운대구 347-9124 1985-04-04 850527-2123827 학생   1  \n",
       "9  100009 노상수 전북 군산시     547-2984 1981-01-30 741025-1441282 공무원 0  \n",
       "10 100010 이민석 경기도 수원시   354-2723 1972-08-02 720802-1481395 회사원 0  \n",
       "11 100011 정영미 서울시 관악구   272-6745 1974-09-21 740921-2782216 주부   1  \n",
       "   Married\n",
       "1  0      \n",
       "2  1      \n",
       "3  0      \n",
       "4  1      \n",
       "5  0      \n",
       "6  0      \n",
       "7  0      \n",
       "8  0      \n",
       "9  1      \n",
       "10 1      \n",
       "11 1      "
      ]
     },
     "metadata": {},
     "output_type": "display_data"
    }
   ],
   "source": [
    "sql = \"SELECT all * FROM Customer_Info\" \n",
    "dbGetQuery(conn, sql)"
   ]
  },
  {
   "cell_type": "code",
   "execution_count": 140,
   "metadata": {},
   "outputs": [
    {
     "data": {
      "text/html": [
       "<table class=\"dataframe\">\n",
       "<caption>A data.frame: 11 × 9</caption>\n",
       "<thead>\n",
       "\t<tr><th scope=col>CID</th><th scope=col>Name</th><th scope=col>Address</th><th scope=col>Tel</th><th scope=col>Bday</th><th scope=col>SID</th><th scope=col>Job</th><th scope=col>Sex</th><th scope=col>Married</th></tr>\n",
       "\t<tr><th scope=col>&lt;int&gt;</th><th scope=col>&lt;chr&gt;</th><th scope=col>&lt;chr&gt;</th><th scope=col>&lt;chr&gt;</th><th scope=col>&lt;chr&gt;</th><th scope=col>&lt;chr&gt;</th><th scope=col>&lt;chr&gt;</th><th scope=col>&lt;int&gt;</th><th scope=col>&lt;int&gt;</th></tr>\n",
       "</thead>\n",
       "<tbody>\n",
       "\t<tr><td>100001</td><td>김민주</td><td>서울시 광진구  </td><td>423-8627</td><td>1975-07-01</td><td>750701-2534218</td><td>공무원</td><td>1</td><td>0</td></tr>\n",
       "\t<tr><td>100002</td><td>정영미</td><td>경기도 수원시  </td><td>321-4568</td><td>1977-02-01</td><td>770201-2834721</td><td>회사원</td><td>1</td><td>1</td></tr>\n",
       "\t<tr><td>100003</td><td>최소영</td><td>제주도 서귀포시</td><td>624-2172</td><td>1980-01-25</td><td>800125-2432712</td><td>학생  </td><td>1</td><td>0</td></tr>\n",
       "\t<tr><td>100004</td><td>박진재</td><td>강원도 속초시  </td><td>543-9467</td><td>1960-05-02</td><td>600502-1645394</td><td>공무원</td><td>0</td><td>1</td></tr>\n",
       "\t<tr><td>100005</td><td>이순석</td><td>충남 보령시    </td><td>254-9124</td><td>1982-06-01</td><td>820601-1543714</td><td>회사원</td><td>0</td><td>0</td></tr>\n",
       "\t<tr><td>100006</td><td>박선희</td><td>서울시 강남구  </td><td>459-2187</td><td>1975-04-05</td><td>801220-2487416</td><td>회사원</td><td>1</td><td>0</td></tr>\n",
       "\t<tr><td>100007</td><td>김화연</td><td>경남 경주시    </td><td>284-8147</td><td>1980-01-04</td><td>790221-2482217</td><td>학생  </td><td>1</td><td>0</td></tr>\n",
       "\t<tr><td>100008</td><td>박민선</td><td>부산시 해운대구</td><td>347-9124</td><td>1985-04-04</td><td>850527-2123827</td><td>학생  </td><td>1</td><td>0</td></tr>\n",
       "\t<tr><td>100009</td><td>노상수</td><td>전북 군산시    </td><td>547-2984</td><td>1981-01-30</td><td>741025-1441282</td><td>공무원</td><td>0</td><td>1</td></tr>\n",
       "\t<tr><td>100010</td><td>이민석</td><td>경기도 수원시  </td><td>354-2723</td><td>1972-08-02</td><td>720802-1481395</td><td>회사원</td><td>0</td><td>1</td></tr>\n",
       "\t<tr><td>100011</td><td>정영미</td><td>서울시 관악구  </td><td>272-6745</td><td>1974-09-21</td><td>740921-2782216</td><td>주부  </td><td>1</td><td>1</td></tr>\n",
       "</tbody>\n",
       "</table>\n"
      ],
      "text/latex": [
       "A data.frame: 11 × 9\n",
       "\\begin{tabular}{lllllllll}\n",
       " CID & Name & Address & Tel & Bday & SID & Job & Sex & Married\\\\\n",
       " <int> & <chr> & <chr> & <chr> & <chr> & <chr> & <chr> & <int> & <int>\\\\\n",
       "\\hline\n",
       "\t 100001 & 김민주 & 서울시 광진구   & 423-8627 & 1975-07-01 & 750701-2534218 & 공무원 & 1 & 0\\\\\n",
       "\t 100002 & 정영미 & 경기도 수원시   & 321-4568 & 1977-02-01 & 770201-2834721 & 회사원 & 1 & 1\\\\\n",
       "\t 100003 & 최소영 & 제주도 서귀포시 & 624-2172 & 1980-01-25 & 800125-2432712 & 학생   & 1 & 0\\\\\n",
       "\t 100004 & 박진재 & 강원도 속초시   & 543-9467 & 1960-05-02 & 600502-1645394 & 공무원 & 0 & 1\\\\\n",
       "\t 100005 & 이순석 & 충남 보령시     & 254-9124 & 1982-06-01 & 820601-1543714 & 회사원 & 0 & 0\\\\\n",
       "\t 100006 & 박선희 & 서울시 강남구   & 459-2187 & 1975-04-05 & 801220-2487416 & 회사원 & 1 & 0\\\\\n",
       "\t 100007 & 김화연 & 경남 경주시     & 284-8147 & 1980-01-04 & 790221-2482217 & 학생   & 1 & 0\\\\\n",
       "\t 100008 & 박민선 & 부산시 해운대구 & 347-9124 & 1985-04-04 & 850527-2123827 & 학생   & 1 & 0\\\\\n",
       "\t 100009 & 노상수 & 전북 군산시     & 547-2984 & 1981-01-30 & 741025-1441282 & 공무원 & 0 & 1\\\\\n",
       "\t 100010 & 이민석 & 경기도 수원시   & 354-2723 & 1972-08-02 & 720802-1481395 & 회사원 & 0 & 1\\\\\n",
       "\t 100011 & 정영미 & 서울시 관악구   & 272-6745 & 1974-09-21 & 740921-2782216 & 주부   & 1 & 1\\\\\n",
       "\\end{tabular}\n"
      ],
      "text/markdown": [
       "\n",
       "A data.frame: 11 × 9\n",
       "\n",
       "| CID &lt;int&gt; | Name &lt;chr&gt; | Address &lt;chr&gt; | Tel &lt;chr&gt; | Bday &lt;chr&gt; | SID &lt;chr&gt; | Job &lt;chr&gt; | Sex &lt;int&gt; | Married &lt;int&gt; |\n",
       "|---|---|---|---|---|---|---|---|---|\n",
       "| 100001 | 김민주 | 서울시 광진구   | 423-8627 | 1975-07-01 | 750701-2534218 | 공무원 | 1 | 0 |\n",
       "| 100002 | 정영미 | 경기도 수원시   | 321-4568 | 1977-02-01 | 770201-2834721 | 회사원 | 1 | 1 |\n",
       "| 100003 | 최소영 | 제주도 서귀포시 | 624-2172 | 1980-01-25 | 800125-2432712 | 학생   | 1 | 0 |\n",
       "| 100004 | 박진재 | 강원도 속초시   | 543-9467 | 1960-05-02 | 600502-1645394 | 공무원 | 0 | 1 |\n",
       "| 100005 | 이순석 | 충남 보령시     | 254-9124 | 1982-06-01 | 820601-1543714 | 회사원 | 0 | 0 |\n",
       "| 100006 | 박선희 | 서울시 강남구   | 459-2187 | 1975-04-05 | 801220-2487416 | 회사원 | 1 | 0 |\n",
       "| 100007 | 김화연 | 경남 경주시     | 284-8147 | 1980-01-04 | 790221-2482217 | 학생   | 1 | 0 |\n",
       "| 100008 | 박민선 | 부산시 해운대구 | 347-9124 | 1985-04-04 | 850527-2123827 | 학생   | 1 | 0 |\n",
       "| 100009 | 노상수 | 전북 군산시     | 547-2984 | 1981-01-30 | 741025-1441282 | 공무원 | 0 | 1 |\n",
       "| 100010 | 이민석 | 경기도 수원시   | 354-2723 | 1972-08-02 | 720802-1481395 | 회사원 | 0 | 1 |\n",
       "| 100011 | 정영미 | 서울시 관악구   | 272-6745 | 1974-09-21 | 740921-2782216 | 주부   | 1 | 1 |\n",
       "\n"
      ],
      "text/plain": [
       "   CID    Name   Address         Tel      Bday       SID            Job    Sex\n",
       "1  100001 김민주 서울시 광진구   423-8627 1975-07-01 750701-2534218 공무원 1  \n",
       "2  100002 정영미 경기도 수원시   321-4568 1977-02-01 770201-2834721 회사원 1  \n",
       "3  100003 최소영 제주도 서귀포시 624-2172 1980-01-25 800125-2432712 학생   1  \n",
       "4  100004 박진재 강원도 속초시   543-9467 1960-05-02 600502-1645394 공무원 0  \n",
       "5  100005 이순석 충남 보령시     254-9124 1982-06-01 820601-1543714 회사원 0  \n",
       "6  100006 박선희 서울시 강남구   459-2187 1975-04-05 801220-2487416 회사원 1  \n",
       "7  100007 김화연 경남 경주시     284-8147 1980-01-04 790221-2482217 학생   1  \n",
       "8  100008 박민선 부산시 해운대구 347-9124 1985-04-04 850527-2123827 학생   1  \n",
       "9  100009 노상수 전북 군산시     547-2984 1981-01-30 741025-1441282 공무원 0  \n",
       "10 100010 이민석 경기도 수원시   354-2723 1972-08-02 720802-1481395 회사원 0  \n",
       "11 100011 정영미 서울시 관악구   272-6745 1974-09-21 740921-2782216 주부   1  \n",
       "   Married\n",
       "1  0      \n",
       "2  1      \n",
       "3  0      \n",
       "4  1      \n",
       "5  0      \n",
       "6  0      \n",
       "7  0      \n",
       "8  0      \n",
       "9  1      \n",
       "10 1      \n",
       "11 1      "
      ]
     },
     "metadata": {},
     "output_type": "display_data"
    }
   ],
   "source": [
    "sql = \"SELECT * from Customer_Info\"\n",
    "dbGetQuery(conn, sql)"
   ]
  },
  {
   "cell_type": "code",
   "execution_count": 141,
   "metadata": {},
   "outputs": [
    {
     "data": {
      "text/html": [
       "<table class=\"dataframe\">\n",
       "<caption>A data.frame: 11 × 9</caption>\n",
       "<thead>\n",
       "\t<tr><th scope=col>CID</th><th scope=col>Name</th><th scope=col>Address</th><th scope=col>Tel</th><th scope=col>Bday</th><th scope=col>SID</th><th scope=col>Job</th><th scope=col>Sex</th><th scope=col>Married</th></tr>\n",
       "\t<tr><th scope=col>&lt;int&gt;</th><th scope=col>&lt;chr&gt;</th><th scope=col>&lt;chr&gt;</th><th scope=col>&lt;chr&gt;</th><th scope=col>&lt;chr&gt;</th><th scope=col>&lt;chr&gt;</th><th scope=col>&lt;chr&gt;</th><th scope=col>&lt;int&gt;</th><th scope=col>&lt;int&gt;</th></tr>\n",
       "</thead>\n",
       "<tbody>\n",
       "\t<tr><td>100001</td><td>김민주</td><td>서울시 광진구  </td><td>423-8627</td><td>1975-07-01</td><td>750701-2534218</td><td>공무원</td><td>1</td><td>0</td></tr>\n",
       "\t<tr><td>100002</td><td>정영미</td><td>경기도 수원시  </td><td>321-4568</td><td>1977-02-01</td><td>770201-2834721</td><td>회사원</td><td>1</td><td>1</td></tr>\n",
       "\t<tr><td>100003</td><td>최소영</td><td>제주도 서귀포시</td><td>624-2172</td><td>1980-01-25</td><td>800125-2432712</td><td>학생  </td><td>1</td><td>0</td></tr>\n",
       "\t<tr><td>100004</td><td>박진재</td><td>강원도 속초시  </td><td>543-9467</td><td>1960-05-02</td><td>600502-1645394</td><td>공무원</td><td>0</td><td>1</td></tr>\n",
       "\t<tr><td>100005</td><td>이순석</td><td>충남 보령시    </td><td>254-9124</td><td>1982-06-01</td><td>820601-1543714</td><td>회사원</td><td>0</td><td>0</td></tr>\n",
       "\t<tr><td>100006</td><td>박선희</td><td>서울시 강남구  </td><td>459-2187</td><td>1975-04-05</td><td>801220-2487416</td><td>회사원</td><td>1</td><td>0</td></tr>\n",
       "\t<tr><td>100007</td><td>김화연</td><td>경남 경주시    </td><td>284-8147</td><td>1980-01-04</td><td>790221-2482217</td><td>학생  </td><td>1</td><td>0</td></tr>\n",
       "\t<tr><td>100008</td><td>박민선</td><td>부산시 해운대구</td><td>347-9124</td><td>1985-04-04</td><td>850527-2123827</td><td>학생  </td><td>1</td><td>0</td></tr>\n",
       "\t<tr><td>100009</td><td>노상수</td><td>전북 군산시    </td><td>547-2984</td><td>1981-01-30</td><td>741025-1441282</td><td>공무원</td><td>0</td><td>1</td></tr>\n",
       "\t<tr><td>100010</td><td>이민석</td><td>경기도 수원시  </td><td>354-2723</td><td>1972-08-02</td><td>720802-1481395</td><td>회사원</td><td>0</td><td>1</td></tr>\n",
       "\t<tr><td>100011</td><td>정영미</td><td>서울시 관악구  </td><td>272-6745</td><td>1974-09-21</td><td>740921-2782216</td><td>주부  </td><td>1</td><td>1</td></tr>\n",
       "</tbody>\n",
       "</table>\n"
      ],
      "text/latex": [
       "A data.frame: 11 × 9\n",
       "\\begin{tabular}{lllllllll}\n",
       " CID & Name & Address & Tel & Bday & SID & Job & Sex & Married\\\\\n",
       " <int> & <chr> & <chr> & <chr> & <chr> & <chr> & <chr> & <int> & <int>\\\\\n",
       "\\hline\n",
       "\t 100001 & 김민주 & 서울시 광진구   & 423-8627 & 1975-07-01 & 750701-2534218 & 공무원 & 1 & 0\\\\\n",
       "\t 100002 & 정영미 & 경기도 수원시   & 321-4568 & 1977-02-01 & 770201-2834721 & 회사원 & 1 & 1\\\\\n",
       "\t 100003 & 최소영 & 제주도 서귀포시 & 624-2172 & 1980-01-25 & 800125-2432712 & 학생   & 1 & 0\\\\\n",
       "\t 100004 & 박진재 & 강원도 속초시   & 543-9467 & 1960-05-02 & 600502-1645394 & 공무원 & 0 & 1\\\\\n",
       "\t 100005 & 이순석 & 충남 보령시     & 254-9124 & 1982-06-01 & 820601-1543714 & 회사원 & 0 & 0\\\\\n",
       "\t 100006 & 박선희 & 서울시 강남구   & 459-2187 & 1975-04-05 & 801220-2487416 & 회사원 & 1 & 0\\\\\n",
       "\t 100007 & 김화연 & 경남 경주시     & 284-8147 & 1980-01-04 & 790221-2482217 & 학생   & 1 & 0\\\\\n",
       "\t 100008 & 박민선 & 부산시 해운대구 & 347-9124 & 1985-04-04 & 850527-2123827 & 학생   & 1 & 0\\\\\n",
       "\t 100009 & 노상수 & 전북 군산시     & 547-2984 & 1981-01-30 & 741025-1441282 & 공무원 & 0 & 1\\\\\n",
       "\t 100010 & 이민석 & 경기도 수원시   & 354-2723 & 1972-08-02 & 720802-1481395 & 회사원 & 0 & 1\\\\\n",
       "\t 100011 & 정영미 & 서울시 관악구   & 272-6745 & 1974-09-21 & 740921-2782216 & 주부   & 1 & 1\\\\\n",
       "\\end{tabular}\n"
      ],
      "text/markdown": [
       "\n",
       "A data.frame: 11 × 9\n",
       "\n",
       "| CID &lt;int&gt; | Name &lt;chr&gt; | Address &lt;chr&gt; | Tel &lt;chr&gt; | Bday &lt;chr&gt; | SID &lt;chr&gt; | Job &lt;chr&gt; | Sex &lt;int&gt; | Married &lt;int&gt; |\n",
       "|---|---|---|---|---|---|---|---|---|\n",
       "| 100001 | 김민주 | 서울시 광진구   | 423-8627 | 1975-07-01 | 750701-2534218 | 공무원 | 1 | 0 |\n",
       "| 100002 | 정영미 | 경기도 수원시   | 321-4568 | 1977-02-01 | 770201-2834721 | 회사원 | 1 | 1 |\n",
       "| 100003 | 최소영 | 제주도 서귀포시 | 624-2172 | 1980-01-25 | 800125-2432712 | 학생   | 1 | 0 |\n",
       "| 100004 | 박진재 | 강원도 속초시   | 543-9467 | 1960-05-02 | 600502-1645394 | 공무원 | 0 | 1 |\n",
       "| 100005 | 이순석 | 충남 보령시     | 254-9124 | 1982-06-01 | 820601-1543714 | 회사원 | 0 | 0 |\n",
       "| 100006 | 박선희 | 서울시 강남구   | 459-2187 | 1975-04-05 | 801220-2487416 | 회사원 | 1 | 0 |\n",
       "| 100007 | 김화연 | 경남 경주시     | 284-8147 | 1980-01-04 | 790221-2482217 | 학생   | 1 | 0 |\n",
       "| 100008 | 박민선 | 부산시 해운대구 | 347-9124 | 1985-04-04 | 850527-2123827 | 학생   | 1 | 0 |\n",
       "| 100009 | 노상수 | 전북 군산시     | 547-2984 | 1981-01-30 | 741025-1441282 | 공무원 | 0 | 1 |\n",
       "| 100010 | 이민석 | 경기도 수원시   | 354-2723 | 1972-08-02 | 720802-1481395 | 회사원 | 0 | 1 |\n",
       "| 100011 | 정영미 | 서울시 관악구   | 272-6745 | 1974-09-21 | 740921-2782216 | 주부   | 1 | 1 |\n",
       "\n"
      ],
      "text/plain": [
       "   CID    Name   Address         Tel      Bday       SID            Job    Sex\n",
       "1  100001 김민주 서울시 광진구   423-8627 1975-07-01 750701-2534218 공무원 1  \n",
       "2  100002 정영미 경기도 수원시   321-4568 1977-02-01 770201-2834721 회사원 1  \n",
       "3  100003 최소영 제주도 서귀포시 624-2172 1980-01-25 800125-2432712 학생   1  \n",
       "4  100004 박진재 강원도 속초시   543-9467 1960-05-02 600502-1645394 공무원 0  \n",
       "5  100005 이순석 충남 보령시     254-9124 1982-06-01 820601-1543714 회사원 0  \n",
       "6  100006 박선희 서울시 강남구   459-2187 1975-04-05 801220-2487416 회사원 1  \n",
       "7  100007 김화연 경남 경주시     284-8147 1980-01-04 790221-2482217 학생   1  \n",
       "8  100008 박민선 부산시 해운대구 347-9124 1985-04-04 850527-2123827 학생   1  \n",
       "9  100009 노상수 전북 군산시     547-2984 1981-01-30 741025-1441282 공무원 0  \n",
       "10 100010 이민석 경기도 수원시   354-2723 1972-08-02 720802-1481395 회사원 0  \n",
       "11 100011 정영미 서울시 관악구   272-6745 1974-09-21 740921-2782216 주부   1  \n",
       "   Married\n",
       "1  0      \n",
       "2  1      \n",
       "3  0      \n",
       "4  1      \n",
       "5  0      \n",
       "6  0      \n",
       "7  0      \n",
       "8  0      \n",
       "9  1      \n",
       "10 1      \n",
       "11 1      "
      ]
     },
     "metadata": {},
     "output_type": "display_data"
    }
   ],
   "source": [
    "sql = \"SELECT CID, Name, Address, Tel, Bday, SID, Job, Sex, Married FROM\n",
    "    Customer_Info\"\n",
    "dbGetQuery(conn, sql)"
   ]
  },
  {
   "cell_type": "code",
   "execution_count": 142,
   "metadata": {},
   "outputs": [
    {
     "data": {
      "text/html": [
       "<table class=\"dataframe\">\n",
       "<caption>A data.frame: 4 × 1</caption>\n",
       "<thead>\n",
       "\t<tr><th scope=col>Job</th></tr>\n",
       "\t<tr><th scope=col>&lt;chr&gt;</th></tr>\n",
       "</thead>\n",
       "<tbody>\n",
       "\t<tr><td>공무원</td></tr>\n",
       "\t<tr><td>회사원</td></tr>\n",
       "\t<tr><td>학생  </td></tr>\n",
       "\t<tr><td>주부  </td></tr>\n",
       "</tbody>\n",
       "</table>\n"
      ],
      "text/latex": [
       "A data.frame: 4 × 1\n",
       "\\begin{tabular}{l}\n",
       " Job\\\\\n",
       " <chr>\\\\\n",
       "\\hline\n",
       "\t 공무원\\\\\n",
       "\t 회사원\\\\\n",
       "\t 학생  \\\\\n",
       "\t 주부  \\\\\n",
       "\\end{tabular}\n"
      ],
      "text/markdown": [
       "\n",
       "A data.frame: 4 × 1\n",
       "\n",
       "| Job &lt;chr&gt; |\n",
       "|---|\n",
       "| 공무원 |\n",
       "| 회사원 |\n",
       "| 학생   |\n",
       "| 주부   |\n",
       "\n"
      ],
      "text/plain": [
       "  Job   \n",
       "1 공무원\n",
       "2 회사원\n",
       "3 학생  \n",
       "4 주부  "
      ]
     },
     "metadata": {},
     "output_type": "display_data"
    }
   ],
   "source": [
    "sql <- \"SELECT DISTINCT Job FROM Customer_Info\" \n",
    "dbGetQuery(conn, sql)"
   ]
  },
  {
   "cell_type": "code",
   "execution_count": 143,
   "metadata": {},
   "outputs": [
    {
     "data": {
      "text/html": [
       "<table class=\"dataframe\">\n",
       "<caption>A data.frame: 6 × 2</caption>\n",
       "<thead>\n",
       "\t<tr><th scope=col>Job</th><th scope=col>Sex</th></tr>\n",
       "\t<tr><th scope=col>&lt;chr&gt;</th><th scope=col>&lt;int&gt;</th></tr>\n",
       "</thead>\n",
       "<tbody>\n",
       "\t<tr><td>공무원</td><td>1</td></tr>\n",
       "\t<tr><td>회사원</td><td>1</td></tr>\n",
       "\t<tr><td>학생  </td><td>1</td></tr>\n",
       "\t<tr><td>공무원</td><td>0</td></tr>\n",
       "\t<tr><td>회사원</td><td>0</td></tr>\n",
       "\t<tr><td>주부  </td><td>1</td></tr>\n",
       "</tbody>\n",
       "</table>\n"
      ],
      "text/latex": [
       "A data.frame: 6 × 2\n",
       "\\begin{tabular}{ll}\n",
       " Job & Sex\\\\\n",
       " <chr> & <int>\\\\\n",
       "\\hline\n",
       "\t 공무원 & 1\\\\\n",
       "\t 회사원 & 1\\\\\n",
       "\t 학생   & 1\\\\\n",
       "\t 공무원 & 0\\\\\n",
       "\t 회사원 & 0\\\\\n",
       "\t 주부   & 1\\\\\n",
       "\\end{tabular}\n"
      ],
      "text/markdown": [
       "\n",
       "A data.frame: 6 × 2\n",
       "\n",
       "| Job &lt;chr&gt; | Sex &lt;int&gt; |\n",
       "|---|---|\n",
       "| 공무원 | 1 |\n",
       "| 회사원 | 1 |\n",
       "| 학생   | 1 |\n",
       "| 공무원 | 0 |\n",
       "| 회사원 | 0 |\n",
       "| 주부   | 1 |\n",
       "\n"
      ],
      "text/plain": [
       "  Job    Sex\n",
       "1 공무원 1  \n",
       "2 회사원 1  \n",
       "3 학생   1  \n",
       "4 공무원 0  \n",
       "5 회사원 0  \n",
       "6 주부   1  "
      ]
     },
     "metadata": {},
     "output_type": "display_data"
    }
   ],
   "source": [
    "sql <- \"SELECT DISTINCT Job, Sex FROM Customer_Info\" \n",
    "dbGetQuery(conn, sql)"
   ]
  },
  {
   "cell_type": "code",
   "execution_count": 144,
   "metadata": {},
   "outputs": [
    {
     "data": {
      "text/html": [
       "<table class=\"dataframe\">\n",
       "<caption>A data.frame: 4 × 4</caption>\n",
       "<thead>\n",
       "\t<tr><th scope=col>CID</th><th scope=col>Name</th><th scope=col>Job</th><th scope=col>Married</th></tr>\n",
       "\t<tr><th scope=col>&lt;int&gt;</th><th scope=col>&lt;chr&gt;</th><th scope=col>&lt;chr&gt;</th><th scope=col>&lt;int&gt;</th></tr>\n",
       "</thead>\n",
       "<tbody>\n",
       "\t<tr><td>100002</td><td>정영미</td><td>회사원</td><td>1</td></tr>\n",
       "\t<tr><td>100005</td><td>이순석</td><td>회사원</td><td>0</td></tr>\n",
       "\t<tr><td>100006</td><td>박선희</td><td>회사원</td><td>0</td></tr>\n",
       "\t<tr><td>100010</td><td>이민석</td><td>회사원</td><td>1</td></tr>\n",
       "</tbody>\n",
       "</table>\n"
      ],
      "text/latex": [
       "A data.frame: 4 × 4\n",
       "\\begin{tabular}{llll}\n",
       " CID & Name & Job & Married\\\\\n",
       " <int> & <chr> & <chr> & <int>\\\\\n",
       "\\hline\n",
       "\t 100002 & 정영미 & 회사원 & 1\\\\\n",
       "\t 100005 & 이순석 & 회사원 & 0\\\\\n",
       "\t 100006 & 박선희 & 회사원 & 0\\\\\n",
       "\t 100010 & 이민석 & 회사원 & 1\\\\\n",
       "\\end{tabular}\n"
      ],
      "text/markdown": [
       "\n",
       "A data.frame: 4 × 4\n",
       "\n",
       "| CID &lt;int&gt; | Name &lt;chr&gt; | Job &lt;chr&gt; | Married &lt;int&gt; |\n",
       "|---|---|---|---|\n",
       "| 100002 | 정영미 | 회사원 | 1 |\n",
       "| 100005 | 이순석 | 회사원 | 0 |\n",
       "| 100006 | 박선희 | 회사원 | 0 |\n",
       "| 100010 | 이민석 | 회사원 | 1 |\n",
       "\n"
      ],
      "text/plain": [
       "  CID    Name   Job    Married\n",
       "1 100002 정영미 회사원 1      \n",
       "2 100005 이순석 회사원 0      \n",
       "3 100006 박선희 회사원 0      \n",
       "4 100010 이민석 회사원 1      "
      ]
     },
     "metadata": {},
     "output_type": "display_data"
    }
   ],
   "source": [
    "sql = \"SELECT CID, Name, Job, Married FROM Customer_Info\n",
    "    WHERE Job = '회사원' \" \n",
    "dbGetQuery(conn, sql)"
   ]
  },
  {
   "cell_type": "code",
   "execution_count": 145,
   "metadata": {},
   "outputs": [
    {
     "data": {
      "text/html": [
       "<table class=\"dataframe\">\n",
       "<caption>A data.frame: 7 × 4</caption>\n",
       "<thead>\n",
       "\t<tr><th scope=col>CID</th><th scope=col>Name</th><th scope=col>Job</th><th scope=col>Married</th></tr>\n",
       "\t<tr><th scope=col>&lt;int&gt;</th><th scope=col>&lt;chr&gt;</th><th scope=col>&lt;chr&gt;</th><th scope=col>&lt;int&gt;</th></tr>\n",
       "</thead>\n",
       "<tbody>\n",
       "\t<tr><td>100001</td><td>김민주</td><td>공무원</td><td>0</td></tr>\n",
       "\t<tr><td>100003</td><td>최소영</td><td>학생  </td><td>0</td></tr>\n",
       "\t<tr><td>100004</td><td>박진재</td><td>공무원</td><td>1</td></tr>\n",
       "\t<tr><td>100007</td><td>김화연</td><td>학생  </td><td>0</td></tr>\n",
       "\t<tr><td>100008</td><td>박민선</td><td>학생  </td><td>0</td></tr>\n",
       "\t<tr><td>100009</td><td>노상수</td><td>공무원</td><td>1</td></tr>\n",
       "\t<tr><td>100011</td><td>정영미</td><td>주부  </td><td>1</td></tr>\n",
       "</tbody>\n",
       "</table>\n"
      ],
      "text/latex": [
       "A data.frame: 7 × 4\n",
       "\\begin{tabular}{llll}\n",
       " CID & Name & Job & Married\\\\\n",
       " <int> & <chr> & <chr> & <int>\\\\\n",
       "\\hline\n",
       "\t 100001 & 김민주 & 공무원 & 0\\\\\n",
       "\t 100003 & 최소영 & 학생   & 0\\\\\n",
       "\t 100004 & 박진재 & 공무원 & 1\\\\\n",
       "\t 100007 & 김화연 & 학생   & 0\\\\\n",
       "\t 100008 & 박민선 & 학생   & 0\\\\\n",
       "\t 100009 & 노상수 & 공무원 & 1\\\\\n",
       "\t 100011 & 정영미 & 주부   & 1\\\\\n",
       "\\end{tabular}\n"
      ],
      "text/markdown": [
       "\n",
       "A data.frame: 7 × 4\n",
       "\n",
       "| CID &lt;int&gt; | Name &lt;chr&gt; | Job &lt;chr&gt; | Married &lt;int&gt; |\n",
       "|---|---|---|---|\n",
       "| 100001 | 김민주 | 공무원 | 0 |\n",
       "| 100003 | 최소영 | 학생   | 0 |\n",
       "| 100004 | 박진재 | 공무원 | 1 |\n",
       "| 100007 | 김화연 | 학생   | 0 |\n",
       "| 100008 | 박민선 | 학생   | 0 |\n",
       "| 100009 | 노상수 | 공무원 | 1 |\n",
       "| 100011 | 정영미 | 주부   | 1 |\n",
       "\n"
      ],
      "text/plain": [
       "  CID    Name   Job    Married\n",
       "1 100001 김민주 공무원 0      \n",
       "2 100003 최소영 학생   0      \n",
       "3 100004 박진재 공무원 1      \n",
       "4 100007 김화연 학생   0      \n",
       "5 100008 박민선 학생   0      \n",
       "6 100009 노상수 공무원 1      \n",
       "7 100011 정영미 주부   1      "
      ]
     },
     "metadata": {},
     "output_type": "display_data"
    }
   ],
   "source": [
    "sql = \"SELECT CID, Name, Job, Married FROM Customer_Info\n",
    "    WHERE Job != '회사원' \" \n",
    "dbGetQuery(conn, sql)"
   ]
  },
  {
   "cell_type": "code",
   "execution_count": 146,
   "metadata": {},
   "outputs": [
    {
     "data": {
      "text/html": [
       "<table class=\"dataframe\">\n",
       "<caption>A data.frame: 2 × 4</caption>\n",
       "<thead>\n",
       "\t<tr><th scope=col>CID</th><th scope=col>Name</th><th scope=col>Sex</th><th scope=col>Married</th></tr>\n",
       "\t<tr><th scope=col>&lt;int&gt;</th><th scope=col>&lt;chr&gt;</th><th scope=col>&lt;int&gt;</th><th scope=col>&lt;int&gt;</th></tr>\n",
       "</thead>\n",
       "<tbody>\n",
       "\t<tr><td>100002</td><td>정영미</td><td>1</td><td>1</td></tr>\n",
       "\t<tr><td>100011</td><td>정영미</td><td>1</td><td>1</td></tr>\n",
       "</tbody>\n",
       "</table>\n"
      ],
      "text/latex": [
       "A data.frame: 2 × 4\n",
       "\\begin{tabular}{llll}\n",
       " CID & Name & Sex & Married\\\\\n",
       " <int> & <chr> & <int> & <int>\\\\\n",
       "\\hline\n",
       "\t 100002 & 정영미 & 1 & 1\\\\\n",
       "\t 100011 & 정영미 & 1 & 1\\\\\n",
       "\\end{tabular}\n"
      ],
      "text/markdown": [
       "\n",
       "A data.frame: 2 × 4\n",
       "\n",
       "| CID &lt;int&gt; | Name &lt;chr&gt; | Sex &lt;int&gt; | Married &lt;int&gt; |\n",
       "|---|---|---|---|\n",
       "| 100002 | 정영미 | 1 | 1 |\n",
       "| 100011 | 정영미 | 1 | 1 |\n",
       "\n"
      ],
      "text/plain": [
       "  CID    Name   Sex Married\n",
       "1 100002 정영미 1   1      \n",
       "2 100011 정영미 1   1      "
      ]
     },
     "metadata": {},
     "output_type": "display_data"
    }
   ],
   "source": [
    "sql = \"SELECT CID, Name, Sex, Married FROM Customer_Info\n",
    "    WHERE Sex='1' and Married='1' \" \n",
    "dbGetQuery(conn, sql)"
   ]
  },
  {
   "cell_type": "code",
   "execution_count": 147,
   "metadata": {},
   "outputs": [
    {
     "data": {
      "text/html": [
       "<table class=\"dataframe\">\n",
       "<caption>A data.frame: 3 × 3</caption>\n",
       "<thead>\n",
       "\t<tr><th scope=col>CID</th><th scope=col>Year</th><th scope=col>On_Score</th></tr>\n",
       "\t<tr><th scope=col>&lt;int&gt;</th><th scope=col>&lt;int&gt;</th><th scope=col>&lt;int&gt;</th></tr>\n",
       "</thead>\n",
       "<tbody>\n",
       "\t<tr><td>100001</td><td>2013</td><td>58</td></tr>\n",
       "\t<tr><td>100002</td><td>2013</td><td>98</td></tr>\n",
       "\t<tr><td>100006</td><td>2013</td><td>66</td></tr>\n",
       "</tbody>\n",
       "</table>\n"
      ],
      "text/latex": [
       "A data.frame: 3 × 3\n",
       "\\begin{tabular}{lll}\n",
       " CID & Year & On\\_Score\\\\\n",
       " <int> & <int> & <int>\\\\\n",
       "\\hline\n",
       "\t 100001 & 2013 & 58\\\\\n",
       "\t 100002 & 2013 & 98\\\\\n",
       "\t 100006 & 2013 & 66\\\\\n",
       "\\end{tabular}\n"
      ],
      "text/markdown": [
       "\n",
       "A data.frame: 3 × 3\n",
       "\n",
       "| CID &lt;int&gt; | Year &lt;int&gt; | On_Score &lt;int&gt; |\n",
       "|---|---|---|\n",
       "| 100001 | 2013 | 58 |\n",
       "| 100002 | 2013 | 98 |\n",
       "| 100006 | 2013 | 66 |\n",
       "\n"
      ],
      "text/plain": [
       "  CID    Year On_Score\n",
       "1 100001 2013 58      \n",
       "2 100002 2013 98      \n",
       "3 100006 2013 66      "
      ]
     },
     "metadata": {},
     "output_type": "display_data"
    }
   ],
   "source": [
    "sql = \"SELECT CID, Year, On_Score FROM Customer_Score\n",
    "    WHERE Year=2013 and On_Score>=50 and On_Score<=100 \"\n",
    "dbGetQuery(conn, sql)"
   ]
  },
  {
   "cell_type": "code",
   "execution_count": 148,
   "metadata": {},
   "outputs": [
    {
     "data": {
      "text/html": [
       "<table class=\"dataframe\">\n",
       "<caption>A data.frame: 11 × 3</caption>\n",
       "<thead>\n",
       "\t<tr><th scope=col>CID</th><th scope=col>Year</th><th scope=col>TotalScore</th></tr>\n",
       "\t<tr><th scope=col>&lt;int&gt;</th><th scope=col>&lt;int&gt;</th><th scope=col>&lt;int&gt;</th></tr>\n",
       "</thead>\n",
       "<tbody>\n",
       "\t<tr><td>100001</td><td>2013</td><td>147</td></tr>\n",
       "\t<tr><td>100002</td><td>2013</td><td>138</td></tr>\n",
       "\t<tr><td>100003</td><td>2013</td><td>530</td></tr>\n",
       "\t<tr><td>100004</td><td>2013</td><td> 74</td></tr>\n",
       "\t<tr><td>100005</td><td>2013</td><td>488</td></tr>\n",
       "\t<tr><td>100006</td><td>2013</td><td> 78</td></tr>\n",
       "\t<tr><td>100007</td><td>2013</td><td>  5</td></tr>\n",
       "\t<tr><td>100008</td><td>2013</td><td>142</td></tr>\n",
       "\t<tr><td>100009</td><td>2013</td><td>  8</td></tr>\n",
       "\t<tr><td>100010</td><td>2013</td><td>  0</td></tr>\n",
       "\t<tr><td>100011</td><td>2013</td><td> 48</td></tr>\n",
       "</tbody>\n",
       "</table>\n"
      ],
      "text/latex": [
       "A data.frame: 11 × 3\n",
       "\\begin{tabular}{lll}\n",
       " CID & Year & TotalScore\\\\\n",
       " <int> & <int> & <int>\\\\\n",
       "\\hline\n",
       "\t 100001 & 2013 & 147\\\\\n",
       "\t 100002 & 2013 & 138\\\\\n",
       "\t 100003 & 2013 & 530\\\\\n",
       "\t 100004 & 2013 &  74\\\\\n",
       "\t 100005 & 2013 & 488\\\\\n",
       "\t 100006 & 2013 &  78\\\\\n",
       "\t 100007 & 2013 &   5\\\\\n",
       "\t 100008 & 2013 & 142\\\\\n",
       "\t 100009 & 2013 &   8\\\\\n",
       "\t 100010 & 2013 &   0\\\\\n",
       "\t 100011 & 2013 &  48\\\\\n",
       "\\end{tabular}\n"
      ],
      "text/markdown": [
       "\n",
       "A data.frame: 11 × 3\n",
       "\n",
       "| CID &lt;int&gt; | Year &lt;int&gt; | TotalScore &lt;int&gt; |\n",
       "|---|---|---|\n",
       "| 100001 | 2013 | 147 |\n",
       "| 100002 | 2013 | 138 |\n",
       "| 100003 | 2013 | 530 |\n",
       "| 100004 | 2013 |  74 |\n",
       "| 100005 | 2013 | 488 |\n",
       "| 100006 | 2013 |  78 |\n",
       "| 100007 | 2013 |   5 |\n",
       "| 100008 | 2013 | 142 |\n",
       "| 100009 | 2013 |   8 |\n",
       "| 100010 | 2013 |   0 |\n",
       "| 100011 | 2013 |  48 |\n",
       "\n"
      ],
      "text/plain": [
       "   CID    Year TotalScore\n",
       "1  100001 2013 147       \n",
       "2  100002 2013 138       \n",
       "3  100003 2013 530       \n",
       "4  100004 2013  74       \n",
       "5  100005 2013 488       \n",
       "6  100006 2013  78       \n",
       "7  100007 2013   5       \n",
       "8  100008 2013 142       \n",
       "9  100009 2013   8       \n",
       "10 100010 2013   0       \n",
       "11 100011 2013  48       "
      ]
     },
     "metadata": {},
     "output_type": "display_data"
    }
   ],
   "source": [
    "sql = \"SELECT CID, Year, On_Score+Off_Score TotalScore FROM Customer_Score\n",
    "    WHERE Year=2013 \" \n",
    "dbGetQuery(conn, sql)"
   ]
  },
  {
   "cell_type": "code",
   "execution_count": 149,
   "metadata": {},
   "outputs": [
    {
     "data": {
      "text/html": [
       "<table class=\"dataframe\">\n",
       "<caption>A data.frame: 5 × 3</caption>\n",
       "<thead>\n",
       "\t<tr><th scope=col>CID</th><th scope=col>Year</th><th scope=col>TotalScore</th></tr>\n",
       "\t<tr><th scope=col>&lt;int&gt;</th><th scope=col>&lt;int&gt;</th><th scope=col>&lt;int&gt;</th></tr>\n",
       "</thead>\n",
       "<tbody>\n",
       "\t<tr><td>100001</td><td>2013</td><td>147</td></tr>\n",
       "\t<tr><td>100002</td><td>2013</td><td>138</td></tr>\n",
       "\t<tr><td>100003</td><td>2013</td><td>530</td></tr>\n",
       "\t<tr><td>100005</td><td>2013</td><td>488</td></tr>\n",
       "\t<tr><td>100008</td><td>2013</td><td>142</td></tr>\n",
       "</tbody>\n",
       "</table>\n"
      ],
      "text/latex": [
       "A data.frame: 5 × 3\n",
       "\\begin{tabular}{lll}\n",
       " CID & Year & TotalScore\\\\\n",
       " <int> & <int> & <int>\\\\\n",
       "\\hline\n",
       "\t 100001 & 2013 & 147\\\\\n",
       "\t 100002 & 2013 & 138\\\\\n",
       "\t 100003 & 2013 & 530\\\\\n",
       "\t 100005 & 2013 & 488\\\\\n",
       "\t 100008 & 2013 & 142\\\\\n",
       "\\end{tabular}\n"
      ],
      "text/markdown": [
       "\n",
       "A data.frame: 5 × 3\n",
       "\n",
       "| CID &lt;int&gt; | Year &lt;int&gt; | TotalScore &lt;int&gt; |\n",
       "|---|---|---|\n",
       "| 100001 | 2013 | 147 |\n",
       "| 100002 | 2013 | 138 |\n",
       "| 100003 | 2013 | 530 |\n",
       "| 100005 | 2013 | 488 |\n",
       "| 100008 | 2013 | 142 |\n",
       "\n"
      ],
      "text/plain": [
       "  CID    Year TotalScore\n",
       "1 100001 2013 147       \n",
       "2 100002 2013 138       \n",
       "3 100003 2013 530       \n",
       "4 100005 2013 488       \n",
       "5 100008 2013 142       "
      ]
     },
     "metadata": {},
     "output_type": "display_data"
    }
   ],
   "source": [
    "sql = \"SELECT CID, Year, On_Score+Off_Score TotalScore FROM Customer_Score\n",
    "    WHERE Year=2013 and TotalScore>100 \"\n",
    "dbGetQuery(conn, sql)"
   ]
  },
  {
   "cell_type": "code",
   "execution_count": null,
   "metadata": {},
   "outputs": [],
   "source": []
  }
 ],
 "metadata": {
  "kernelspec": {
   "display_name": "R",
   "language": "R",
   "name": "ir"
  },
  "language_info": {
   "codemirror_mode": "r",
   "file_extension": ".r",
   "mimetype": "text/x-r-source",
   "name": "R",
   "pygments_lexer": "r",
   "version": "4.0.2"
  }
 },
 "nbformat": 4,
 "nbformat_minor": 4
}
