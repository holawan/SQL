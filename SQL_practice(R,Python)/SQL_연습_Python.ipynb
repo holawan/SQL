{
 "cells": [
  {
   "cell_type": "code",
   "execution_count": 1,
   "metadata": {},
   "outputs": [],
   "source": [
    "import sqlite3"
   ]
  },
  {
   "cell_type": "code",
   "execution_count": 3,
   "metadata": {},
   "outputs": [],
   "source": [
    "conn = sqlite3.connect(\"/Users/gimdong-wan/Desktop/김동완 수업자료/통계 데이터베이스/PythonSQL/Customer.db\", isolation_level=None)"
   ]
  },
  {
   "cell_type": "markdown",
   "metadata": {},
   "source": [
    "※ commit & rollback\n",
    "sqlite3.connect() 괄호 안에 isolation_level=None이라고 명시했는데 이는 (실습을 위해) 쿼리문을 실행하여 DB에 즉시 반영, 즉시 자동 커밋을 하기 위함이다. commit(커밋)은 “변경사항을 DB에 반 영한다”는 뜻이며 commit을 하지 않으면 수정(추가/갱신/삭제 등) 작업에 대한 기록을 컴퓨터 메모 리 같은 데 임시로 가지고 있을 뿐 실제로 DB에는 반영하지 않는다. 최종적으로 DB를 수정을 하려 면 마지막에 반드시 conn.commit()이라는 명령을 실행해주어야 한다.\n",
    "참고로 commit과 반대되는 개념으로 rollback(롤백)이 있다. 이전 이력으로 되돌린다는 뜻으로 conn.rollback() 으로 실행한다."
   ]
  },
  {
   "cell_type": "code",
   "execution_count": 4,
   "metadata": {},
   "outputs": [],
   "source": [
    "conn.close()"
   ]
  },
  {
   "cell_type": "code",
   "execution_count": 6,
   "metadata": {},
   "outputs": [],
   "source": [
    "# Customer 데이터베이스 연결\n",
    "conn = sqlite3.connect(\"/Users/gimdong-wan/Desktop/김동완 수업자료/통계 데이터베이스/PythonSQL/Customer.db\", isolation_level=None)"
   ]
  },
  {
   "cell_type": "code",
   "execution_count": 7,
   "metadata": {},
   "outputs": [],
   "source": [
    "# 커서 생성\n",
    "c = conn.cursor()"
   ]
  },
  {
   "cell_type": "markdown",
   "metadata": {},
   "source": [
    "※ cursor\n",
    "파이썬에서 파일을 읽고 쓰려면 커서를 가져와야 한다. 그래서 conn.cursor()로 일단 커서를 생성 한다."
   ]
  },
  {
   "cell_type": "code",
   "execution_count": 8,
   "metadata": {},
   "outputs": [],
   "source": [
    "# Customer_Info 테이블 생성하기\n",
    "sql = \"\"\"CREATE TABLE IF NOT EXISTS Customer_Info\n",
    "( CID TEXT PRIMARY KEY, \n",
    "Name TEXT,\n",
    "Address TEXT, Tel TEXT, BDay TEXT, SID TEXT,\n",
    "Job TEXT,\n",
    "Sex TEXT,\n",
    "Married TEXT )\"\"\""
   ]
  },
  {
   "cell_type": "markdown",
   "metadata": {},
   "source": [
    "※ \"\"\"...\"\"\" 또는'''...''' multiline 문자열을 변수에 저장하는 방법\n"
   ]
  },
  {
   "cell_type": "code",
   "execution_count": 9,
   "metadata": {},
   "outputs": [
    {
     "data": {
      "text/plain": [
       "<sqlite3.Cursor at 0x7fac20413f80>"
      ]
     },
     "execution_count": 9,
     "metadata": {},
     "output_type": "execute_result"
    }
   ],
   "source": [
    "c.execute(sql)"
   ]
  },
  {
   "cell_type": "code",
   "execution_count": 11,
   "metadata": {},
   "outputs": [
    {
     "data": {
      "text/plain": [
       "(1,)"
      ]
     },
     "execution_count": 11,
     "metadata": {},
     "output_type": "execute_result"
    }
   ],
   "source": [
    "# 테이블이 생성되었는지(존재하는지) 확인\n",
    "check=\"SELECT count(*) FROM sqlite_master WHERE name='Customer_Info'\" \n",
    "c.execute(check)\n",
    "c.fetchone()"
   ]
  },
  {
   "cell_type": "markdown",
   "metadata": {},
   "source": [
    "※ fetchone(), fetchall()\n",
    "c.fetchone()을 사용하면 한 줄씩 출력하는 걸 알 수 있다. 커서가 이동하기 때문이다. 그리고 이후 에 c.fetchall()이라는 걸 사용해서 전체를 가져와서 출력하더라도 이미 읽은 지점 이후에 있는 것 들만 출력된다. (참고로 fetch는 “가져오다”라는 뜻)"
   ]
  },
  {
   "cell_type": "code",
   "execution_count": 21,
   "metadata": {},
   "outputs": [
    {
     "data": {
      "text/plain": [
       "<sqlite3.Cursor at 0x7fac20413f80>"
      ]
     },
     "execution_count": 21,
     "metadata": {},
     "output_type": "execute_result"
    }
   ],
   "source": [
    "#[예제 4-4] 코드 : Customer 데이터베이스에 Customer_Score 테이블을 생성하는 다음과 같다.\n",
    "# Customer_Score 테이블 생성하기\n",
    "sql = \"\"\"CREATE TABLE IF NOT EXISTS Customer_Score\n",
    "( CID TEXT,\n",
    "Year TEXT not null,\n",
    "On_Score INTEGER default 0,\n",
    "Off_Score INTEGER default 0,\n",
    "PRIMARY KEY (CID, Year),\n",
    "FOREIGN KEY(CID) REFERENCES Customer_Info(CID) )\"\"\"\n",
    "c.execute(sql)\n"
   ]
  },
  {
   "cell_type": "code",
   "execution_count": 22,
   "metadata": {},
   "outputs": [
    {
     "data": {
      "text/plain": [
       "(1,)"
      ]
     },
     "execution_count": 22,
     "metadata": {},
     "output_type": "execute_result"
    }
   ],
   "source": [
    "# 테이블이 생성되었는지(존재하는지) 확인\n",
    "check=\"SELECT count(*) FROM sqlite_master WHERE name='Customer_Score'\" \n",
    "c.execute(check)\n",
    "c.fetchone()"
   ]
  },
  {
   "cell_type": "code",
   "execution_count": 20,
   "metadata": {},
   "outputs": [
    {
     "data": {
      "text/plain": [
       "'\\n# Customer_Score 테이블 삭제하기\\nsql = \"DROP TABLE Customer_Score\" \\nc.execute(sql)\\n# 테이블이 삭제되었는지 확인\\ncheck=\"SELECT count(*) FROM sqlite_master WHERE name=\\'Customer_Score\\'\" \\nc.execute(check)\\nc.fetchone()\\n'"
      ]
     },
     "execution_count": 20,
     "metadata": {},
     "output_type": "execute_result"
    }
   ],
   "source": [
    "'''\n",
    "# Customer_Score 테이블 삭제하기\n",
    "sql = \"DROP TABLE Customer_Score\" \n",
    "c.execute(sql)\n",
    "# 테이블이 삭제되었는지 확인\n",
    "check=\"SELECT count(*) FROM sqlite_master WHERE name='Customer_Score'\" \n",
    "c.execute(check)\n",
    "c.fetchone()\n",
    "'''"
   ]
  },
  {
   "cell_type": "code",
   "execution_count": 17,
   "metadata": {},
   "outputs": [
    {
     "data": {
      "text/plain": [
       "<sqlite3.Cursor at 0x7fac20413f80>"
      ]
     },
     "execution_count": 17,
     "metadata": {},
     "output_type": "execute_result"
    }
   ],
   "source": [
    "# Customer_Info 테이블에 데이터 insert \n",
    "sql = \"\"\" INSERT INTO Customer_Info\n",
    "VALUES ('100001', '김민지', '서울시 광진구', '423-8627', '1975-07-01', '750701-2534218', '공무원', '1', '0') \"\"\"\n",
    "c.execute(sql)\n"
   ]
  },
  {
   "cell_type": "code",
   "execution_count": 18,
   "metadata": {},
   "outputs": [
    {
     "data": {
      "text/plain": [
       "('100001',\n",
       " '김민지',\n",
       " '서울시 광진구',\n",
       " '423-8627',\n",
       " '1975-07-01',\n",
       " '750701-2534218',\n",
       " '공무원',\n",
       " '1',\n",
       " '0')"
      ]
     },
     "execution_count": 18,
     "metadata": {},
     "output_type": "execute_result"
    }
   ],
   "source": [
    "# Customer_Info 테이블에 데이터 삽입 결과 확인 \n",
    "check=\"SELECT * FROM Customer_Info\" \n",
    "c.execute(check)\n",
    "c.fetchone()\n"
   ]
  },
  {
   "cell_type": "code",
   "execution_count": 24,
   "metadata": {},
   "outputs": [
    {
     "data": {
      "text/plain": [
       "<sqlite3.Cursor at 0x7fac20413f80>"
      ]
     },
     "execution_count": 24,
     "metadata": {},
     "output_type": "execute_result"
    }
   ],
   "source": [
    "# Customer_Score 테이블에 데이터 insert \n",
    "sql = \"\"\" INSERT INTO Customer_Score\n",
    "VALUES ('100001', '2012', 42, 111) \"\"\" \n",
    "c.execute(sql)\n"
   ]
  },
  {
   "cell_type": "code",
   "execution_count": 25,
   "metadata": {},
   "outputs": [
    {
     "data": {
      "text/plain": [
       "<sqlite3.Cursor at 0x7fac20413f80>"
      ]
     },
     "execution_count": 25,
     "metadata": {},
     "output_type": "execute_result"
    }
   ],
   "source": [
    "sql = \"\"\" INSERT INTO Customer_Score VALUES ('100001', '2013', 58, 89) \"\"\"\n",
    "c.execute(sql)\n"
   ]
  },
  {
   "cell_type": "code",
   "execution_count": 27,
   "metadata": {},
   "outputs": [
    {
     "data": {
      "text/plain": [
       "[('100001', '2012', 42, 111), ('100001', '2013', 58, 89)]"
      ]
     },
     "execution_count": 27,
     "metadata": {},
     "output_type": "execute_result"
    }
   ],
   "source": [
    "# Customer_Score 테이블에 데이터 삽입 결과 확인 \n",
    "check=\"SELECT * FROM Customer_Score\" \n",
    "c.execute(check)\n",
    "c.fetchall()"
   ]
  },
  {
   "cell_type": "code",
   "execution_count": 31,
   "metadata": {},
   "outputs": [
    {
     "data": {
      "text/plain": [
       "<sqlite3.Cursor at 0x7fac20413f80>"
      ]
     },
     "execution_count": 31,
     "metadata": {},
     "output_type": "execute_result"
    }
   ],
   "source": [
    "#[예제 4-7] Customer_Info 테이블과 Customer_Score 테이블에 있는 특정 데이터를 갱신하는 코드는 다음과 같다.\n",
    "# Customer_Info 테이블에 있는 데이터 update\n",
    "sql = \"UPDATE Customer_Info SET Address = '서울시 영등포구' WHERE CID = '100001' \"\n",
    "c.execute(sql)"
   ]
  },
  {
   "cell_type": "code",
   "execution_count": 34,
   "metadata": {},
   "outputs": [
    {
     "data": {
      "text/plain": [
       "<sqlite3.Cursor at 0x7fac20413f80>"
      ]
     },
     "execution_count": 34,
     "metadata": {},
     "output_type": "execute_result"
    }
   ],
   "source": [
    "# Customer_Score 테이블에 있는 데이터 update\n",
    "sql = \"UPDATE Customer_Score SET Off_Score = 98 WHERE CID = '100001' and Year='2013' \" \n",
    "c.execute(sql)"
   ]
  },
  {
   "cell_type": "code",
   "execution_count": 35,
   "metadata": {},
   "outputs": [
    {
     "data": {
      "text/plain": [
       "('100001',\n",
       " '김민지',\n",
       " '서울시 영등포구',\n",
       " '423-8627',\n",
       " '1975-07-01',\n",
       " '750701-2534218',\n",
       " '공무원',\n",
       " '1',\n",
       " '0')"
      ]
     },
     "execution_count": 35,
     "metadata": {},
     "output_type": "execute_result"
    }
   ],
   "source": [
    "# Customer_Info 테이블에 있는 데이터 갱신 결과 확인 \n",
    "check=\"SELECT * FROM Customer_Info\" \n",
    "c.execute(check)\n",
    "c.fetchone()\n"
   ]
  },
  {
   "cell_type": "code",
   "execution_count": 36,
   "metadata": {},
   "outputs": [
    {
     "data": {
      "text/plain": [
       "[('100001', '2012', 42, 111), ('100001', '2013', 58, 98)]"
      ]
     },
     "execution_count": 36,
     "metadata": {},
     "output_type": "execute_result"
    }
   ],
   "source": [
    "# Customer_Score 테이블에 있는 데이터 갱신 결과 확인 \n",
    "check=\"SELECT * FROM Customer_Score\" \n",
    "c.execute(check)\n",
    "c.fetchall()"
   ]
  },
  {
   "cell_type": "code",
   "execution_count": 38,
   "metadata": {},
   "outputs": [
    {
     "data": {
      "text/plain": [
       "[]"
      ]
     },
     "execution_count": 38,
     "metadata": {},
     "output_type": "execute_result"
    }
   ],
   "source": [
    "#[예제 4-8] Customer_Info 테이블과 Customer_Score 테이블에 있는 데이터를 삭제하는 코드는 다음 과 같다.\n",
    "# Customer_Score 테이블에 있는 특정 데이터 delete\n",
    "sql = \"DELETE FROM Customer_Score WHERE CID = '100001' and Year='2013' \" \n",
    "c.execute(sql)\n",
    "# Customer_Score 테이블에 있는 특정 데이터 삭제 결과 확인 \n",
    "check=\"SELECT * FROM Customer_Score\"\n",
    "c.execute(check)\n",
    "c.fetchall()\n",
    "# Customer_Score 테이블에 있는 전체 데이터 delete \n",
    "sql = \"DELETE FROM Customer_Score \" \n",
    "c.execute(sql)\n",
    "# Customer_Score 테이블에 있는 전체 데이터 삭제 결과 확인 \n",
    "check=\"SELECT * FROM Customer_Score\"\n",
    "c.execute(check)\n",
    "c.fetchall()"
   ]
  },
  {
   "cell_type": "code",
   "execution_count": 41,
   "metadata": {},
   "outputs": [
    {
     "data": {
      "text/plain": [
       "<sqlite3.Cursor at 0x7fac20456d50>"
      ]
     },
     "execution_count": 41,
     "metadata": {},
     "output_type": "execute_result"
    }
   ],
   "source": [
    "#[예제 4-9] customer_data.csv 화일에 있는 데이터를 Customer_Info 테이블에 삽입하는 코드는 다음 과 같다.\n",
    "# Customer 데이터베이스 연결\n",
    "conn = sqlite3.connect(\"/Users/gimdong-wan/Desktop/김동완 수업자료/통계 데이터베이스/PythonSQL/Customer.db\", isolation_level=None) \n",
    "c = conn.cursor()\n",
    "sql = \"DELETE FROM Customer_Info \" \n",
    "c.execute(sql)"
   ]
  },
  {
   "cell_type": "code",
   "execution_count": 44,
   "metadata": {},
   "outputs": [],
   "source": [
    "# CSV 화일의 데이터를 Customer_Info 테이블에 삽입하기 \n",
    "import pandas as pd\n",
    "customer_data = pd.read_csv('/Users/gimdong-wan/Desktop/김동완 수업자료/통계 데이터베이스/PythonSQL/customer_data.csv', encoding='euc-kr')\n",
    "customer_data.to_sql('Customer_Info', conn, if_exists='append', index=False)"
   ]
  },
  {
   "cell_type": "code",
   "execution_count": 47,
   "metadata": {},
   "outputs": [
    {
     "data": {
      "text/plain": [
       "[('100001',\n",
       "  '김민주',\n",
       "  '서울시 광진구',\n",
       "  '423-8627',\n",
       "  '1975-07-01',\n",
       "  '750701-2534218',\n",
       "  '공무원',\n",
       "  '1',\n",
       "  '0'),\n",
       " ('100002',\n",
       "  '정영미',\n",
       "  '경기도 수원시',\n",
       "  '321-4568',\n",
       "  '1977-02-01',\n",
       "  '770201-2834721',\n",
       "  '회사원',\n",
       "  '1',\n",
       "  '1'),\n",
       " ('100003',\n",
       "  '최소영',\n",
       "  '제주도 서귀포시',\n",
       "  '624-2172',\n",
       "  '1980-01-25',\n",
       "  '800125-2432712',\n",
       "  '학생',\n",
       "  '1',\n",
       "  '0'),\n",
       " ('100004',\n",
       "  '박진재',\n",
       "  '강원도 속초시',\n",
       "  '543-9467',\n",
       "  '1960-05-02',\n",
       "  '600502-1645394',\n",
       "  '공무원',\n",
       "  '0',\n",
       "  '1'),\n",
       " ('100005',\n",
       "  '이순석',\n",
       "  '충남 보령시',\n",
       "  '254-9124',\n",
       "  '1982-06-01',\n",
       "  '820601-1543714',\n",
       "  '회사원',\n",
       "  '0',\n",
       "  '0'),\n",
       " ('100006',\n",
       "  '박선희',\n",
       "  '서울시 강남구',\n",
       "  '459-2187',\n",
       "  '1975-04-05',\n",
       "  '801220-2487416',\n",
       "  '회사원',\n",
       "  '1',\n",
       "  '0'),\n",
       " ('100007',\n",
       "  '김화연',\n",
       "  '경남 경주시',\n",
       "  '284-8147',\n",
       "  '1980-01-04',\n",
       "  '790221-2482217',\n",
       "  '학생',\n",
       "  '1',\n",
       "  '0'),\n",
       " ('100008',\n",
       "  '박민선',\n",
       "  '부산시 해운대구',\n",
       "  '347-9124',\n",
       "  '1985-04-04',\n",
       "  '850527-2123827',\n",
       "  '학생',\n",
       "  '1',\n",
       "  '0'),\n",
       " ('100009',\n",
       "  '노상수',\n",
       "  '전북 군산시',\n",
       "  '547-2984',\n",
       "  '1981-01-30',\n",
       "  '741025-1441282',\n",
       "  '공무원',\n",
       "  '0',\n",
       "  '1'),\n",
       " ('100010',\n",
       "  '이민석',\n",
       "  '경기도 수원시',\n",
       "  '354-2723',\n",
       "  '1972-08-02',\n",
       "  '720802-1481395',\n",
       "  '회사원',\n",
       "  '0',\n",
       "  '1'),\n",
       " ('100011',\n",
       "  '정영미',\n",
       "  '서울시 관악구',\n",
       "  '272-6745',\n",
       "  '1974-09-21',\n",
       "  '740921-2782216',\n",
       "  '주부',\n",
       "  '1',\n",
       "  '1')]"
      ]
     },
     "execution_count": 47,
     "metadata": {},
     "output_type": "execute_result"
    }
   ],
   "source": [
    "# Customer_Info 테이블에 있는 데이터 확인하기 \n",
    "check=\"SELECT * FROM Customer_Info\" \n",
    "c.execute(check)\n",
    "c.fetchall()\n"
   ]
  },
  {
   "cell_type": "code",
   "execution_count": 48,
   "metadata": {},
   "outputs": [
    {
     "data": {
      "text/plain": [
       "[('100001', '2012', 42, 111),\n",
       " ('100002', '2012', 12, 30),\n",
       " ('100003', '2012', 86, 128),\n",
       " ('100004', '2012', 0, 87),\n",
       " ('100005', '2012', 122, 56),\n",
       " ('100006', '2012', 98, 17),\n",
       " ('100007', '2012', 0, 0),\n",
       " ('100008', '2012', 56, 172),\n",
       " ('100009', '2012', 24, 45),\n",
       " ('100010', '2012', 0, 21),\n",
       " ('100011', '2012', 0, 39),\n",
       " ('100001', '2013', 58, 89),\n",
       " ('100002', '2013', 98, 40),\n",
       " ('100003', '2013', 402, 128),\n",
       " ('100004', '2013', 0, 74),\n",
       " ('100005', '2013', 356, 132),\n",
       " ('100006', '2013', 66, 12),\n",
       " ('100007', '2013', 0, 5),\n",
       " ('100008', '2013', 44, 98),\n",
       " ('100009', '2013', 2, 6),\n",
       " ('100010', '2013', 0, 0),\n",
       " ('100011', '2013', 0, 48)]"
      ]
     },
     "execution_count": 48,
     "metadata": {},
     "output_type": "execute_result"
    }
   ],
   "source": [
    "#[예제 4-10] customer_score.csv 화일에 있는 데이터를 Customer_Score 테이블에 삽입하는 코드는 다 음과 같다.\n",
    "# CSV 화일의 데이터를 Customer_Score 테이블에 삽입하기\n",
    "customer_score = pd.read_csv('/Users/gimdong-wan/Desktop/김동완 수업자료/통계 데이터베이스/PythonSQL/customer_score.csv', encoding='euc-kr') \n",
    "customer_score.to_sql('Customer_Score', conn, if_exists='append', index=False)\n",
    "# Customer_Score 테이블에 있는 데이터 확인하기 \n",
    "check=\"SELECT * FROM Customer_Score\" \n",
    "c.execute(check)\n",
    "c.fetchall()"
   ]
  },
  {
   "cell_type": "code",
   "execution_count": 49,
   "metadata": {},
   "outputs": [
    {
     "data": {
      "text/plain": [
       "[('100001', '김민주', '공무원'),\n",
       " ('100002', '정영미', '회사원'),\n",
       " ('100003', '최소영', '학생'),\n",
       " ('100004', '박진재', '공무원'),\n",
       " ('100005', '이순석', '회사원'),\n",
       " ('100006', '박선희', '회사원'),\n",
       " ('100007', '김화연', '학생'),\n",
       " ('100008', '박민선', '학생'),\n",
       " ('100009', '노상수', '공무원'),\n",
       " ('100010', '이민석', '회사원'),\n",
       " ('100011', '정영미', '주부')]"
      ]
     },
     "execution_count": 49,
     "metadata": {},
     "output_type": "execute_result"
    }
   ],
   "source": [
    "#[예제 4-11] 테이블 Customer_Info에서 고객의 직업에 대해 살펴보고자 한다. \n",
    "#고객번호(CID)와 이름 (Name), 직업(Job) 필드의 데이터를 검색해 보아라(일부 필드 검색).\n",
    "#테이블의 일부 또는 전체 필드 검색 \n",
    "sql = \"\"\" SELECT CID, Name, Job\n",
    "FROM Customer_Info\"\"\" \n",
    "c.execute(sql)\n",
    "c.fetchall()"
   ]
  },
  {
   "cell_type": "code",
   "execution_count": 50,
   "metadata": {},
   "outputs": [
    {
     "data": {
      "text/plain": [
       "[('100001',\n",
       "  '김민주',\n",
       "  '서울시 광진구',\n",
       "  '423-8627',\n",
       "  '1975-07-01',\n",
       "  '750701-2534218',\n",
       "  '공무원',\n",
       "  '1',\n",
       "  '0'),\n",
       " ('100002',\n",
       "  '정영미',\n",
       "  '경기도 수원시',\n",
       "  '321-4568',\n",
       "  '1977-02-01',\n",
       "  '770201-2834721',\n",
       "  '회사원',\n",
       "  '1',\n",
       "  '1'),\n",
       " ('100003',\n",
       "  '최소영',\n",
       "  '제주도 서귀포시',\n",
       "  '624-2172',\n",
       "  '1980-01-25',\n",
       "  '800125-2432712',\n",
       "  '학생',\n",
       "  '1',\n",
       "  '0'),\n",
       " ('100004',\n",
       "  '박진재',\n",
       "  '강원도 속초시',\n",
       "  '543-9467',\n",
       "  '1960-05-02',\n",
       "  '600502-1645394',\n",
       "  '공무원',\n",
       "  '0',\n",
       "  '1'),\n",
       " ('100005',\n",
       "  '이순석',\n",
       "  '충남 보령시',\n",
       "  '254-9124',\n",
       "  '1982-06-01',\n",
       "  '820601-1543714',\n",
       "  '회사원',\n",
       "  '0',\n",
       "  '0'),\n",
       " ('100006',\n",
       "  '박선희',\n",
       "  '서울시 강남구',\n",
       "  '459-2187',\n",
       "  '1975-04-05',\n",
       "  '801220-2487416',\n",
       "  '회사원',\n",
       "  '1',\n",
       "  '0'),\n",
       " ('100007',\n",
       "  '김화연',\n",
       "  '경남 경주시',\n",
       "  '284-8147',\n",
       "  '1980-01-04',\n",
       "  '790221-2482217',\n",
       "  '학생',\n",
       "  '1',\n",
       "  '0'),\n",
       " ('100008',\n",
       "  '박민선',\n",
       "  '부산시 해운대구',\n",
       "  '347-9124',\n",
       "  '1985-04-04',\n",
       "  '850527-2123827',\n",
       "  '학생',\n",
       "  '1',\n",
       "  '0'),\n",
       " ('100009',\n",
       "  '노상수',\n",
       "  '전북 군산시',\n",
       "  '547-2984',\n",
       "  '1981-01-30',\n",
       "  '741025-1441282',\n",
       "  '공무원',\n",
       "  '0',\n",
       "  '1'),\n",
       " ('100010',\n",
       "  '이민석',\n",
       "  '경기도 수원시',\n",
       "  '354-2723',\n",
       "  '1972-08-02',\n",
       "  '720802-1481395',\n",
       "  '회사원',\n",
       "  '0',\n",
       "  '1'),\n",
       " ('100011',\n",
       "  '정영미',\n",
       "  '서울시 관악구',\n",
       "  '272-6745',\n",
       "  '1974-09-21',\n",
       "  '740921-2782216',\n",
       "  '주부',\n",
       "  '1',\n",
       "  '1')]"
      ]
     },
     "execution_count": 50,
     "metadata": {},
     "output_type": "execute_result"
    }
   ],
   "source": [
    "#[예제 4-12] 테이블 Customer_Info에서 전체 필드의 데이터를 검색해 보아라.\n",
    "sql = \"\"\"SELECT * FROM Customer_Info\"\"\" \n",
    "c.execute(sql)\n",
    "c.fetchall()\n",
    "sql = \"\"\"SELECT CID, Name, Address, Tel, Bday, SID, Job, Sex, Married FROM Customer_Info\"\"\"\n",
    "c.execute(sql) \n",
    "c.fetchall()\n"
   ]
  },
  {
   "cell_type": "code",
   "execution_count": 51,
   "metadata": {},
   "outputs": [
    {
     "data": {
      "text/plain": [
       "[('공무원',), ('회사원',), ('학생',), ('주부',)]"
      ]
     },
     "execution_count": 51,
     "metadata": {},
     "output_type": "execute_result"
    }
   ],
   "source": [
    "#[예제 4-13] 테이블 Customer_Info에는 Job 필드가 존재하며, 고객들의 직업은 중복해서 나타난다. 중 복을 제거하고 고객들의 직업을 검색해 보아라.\n",
    "sql = \"SELECT DISTINCT Job FROM Customer_Info\" \n",
    "c.execute(sql)\n",
    "c.fetchall()"
   ]
  },
  {
   "cell_type": "code",
   "execution_count": 52,
   "metadata": {},
   "outputs": [
    {
     "data": {
      "text/plain": [
       "[('공무원', '1'),\n",
       " ('회사원', '1'),\n",
       " ('학생', '1'),\n",
       " ('공무원', '0'),\n",
       " ('회사원', '0'),\n",
       " ('주부', '1')]"
      ]
     },
     "execution_count": 52,
     "metadata": {},
     "output_type": "execute_result"
    }
   ],
   "source": [
    "#[예제 4-14] 테이블 Customer_Info에는 Job, Sex 필드가 존재한다. 고객들의 직업, 성별을 중복을 제 거하고 검색해 보아라.\n",
    "sql = \"SELECT DISTINCT Job, Sex FROM Customer_Info\" \n",
    "c.execute(sql)\n",
    "c.fetchall()"
   ]
  },
  {
   "cell_type": "markdown",
   "metadata": {},
   "source": [
    "(3) 특정한 레코드의 조건 검색 : WHERE\n",
    "테이블에서 원하는 조건에 맞는 특정한 레코드만 검색하기 위해서는 WHERE 절을 이용한다. WHERE 절은 테이블의 필드 값을 다양한 연산자와 함수를 이용하여 그 조건을 만족하는 레코드만 선택되도록 한다. 일반적으로 WHERE 절에 나오는 조건식에는 비교연산자, 논리연산자 등이 많이 이용되며 IN, LIKE, IS NULL 등과 같은 SQL 연산자도 이용될 수 있다."
   ]
  },
  {
   "cell_type": "code",
   "execution_count": 54,
   "metadata": {},
   "outputs": [
    {
     "data": {
      "text/plain": [
       "[('100002', '정영미', '회사원', '1'),\n",
       " ('100005', '이순석', '회사원', '0'),\n",
       " ('100006', '박선희', '회사원', '0'),\n",
       " ('100010', '이민석', '회사원', '1')]"
      ]
     },
     "execution_count": 54,
     "metadata": {},
     "output_type": "execute_result"
    }
   ],
   "source": [
    "#[예제 4-15] Customer_Info 테이블에서 직업이 ‘회사원’인 고객의 고객번호(CID), 이름(Name), 직업 (Job), 결혼여부(Married)를 검색해 보아라.\n",
    "sql = \"\"\"SELECT CID, Name, Job, Married FROM Customer_Info WHERE Job = '회사원' \"\"\" \n",
    "c.execute(sql)\n",
    "c.fetchall()"
   ]
  },
  {
   "cell_type": "code",
   "execution_count": 57,
   "metadata": {},
   "outputs": [
    {
     "data": {
      "text/plain": [
       "[('100001', '김민주', '공무원', '0'),\n",
       " ('100003', '최소영', '학생', '0'),\n",
       " ('100004', '박진재', '공무원', '1'),\n",
       " ('100007', '김화연', '학생', '0'),\n",
       " ('100008', '박민선', '학생', '0'),\n",
       " ('100009', '노상수', '공무원', '1'),\n",
       " ('100011', '정영미', '주부', '1')]"
      ]
     },
     "execution_count": 57,
     "metadata": {},
     "output_type": "execute_result"
    }
   ],
   "source": [
    "#[예제 4-16] Customer_Info 테이블에서 직업이 ‘회사원’이 아닌 고객의 고객번호(CID), 이름(Name), 직업(Job), 결혼여부(Married)를 검색해 보아라.\n",
    "sql = \"\"\"SELECT CID, Name, Job, Married FROM Customer_Info WHERE Job != '회사원' \"\"\" \n",
    "c.execute(sql)\n",
    "c.fetchall()\n"
   ]
  },
  {
   "cell_type": "code",
   "execution_count": 58,
   "metadata": {},
   "outputs": [
    {
     "data": {
      "text/plain": [
       "[('100002', '정영미', '1', '1'), ('100011', '정영미', '1', '1')]"
      ]
     },
     "execution_count": 58,
     "metadata": {},
     "output_type": "execute_result"
    }
   ],
   "source": [
    "#[예제 4-17] Customer_Info 테이블에서 성별(Sex)과 결혼여부(Married)가 모두 1인 고객의 고객번호 (CID), 이름(Name), 성별(Sex), 결혼여부(Married)를 검색해 보아라.\n",
    "sql = \"\"\"SELECT CID, Name, Sex, Married FROM Customer_Info WHERE Sex='1' and Married='1' \"\"\" \n",
    "c.execute(sql)\n",
    "c.fetchall()"
   ]
  },
  {
   "cell_type": "code",
   "execution_count": 61,
   "metadata": {},
   "outputs": [
    {
     "data": {
      "text/plain": [
       "[('100001', '2013', 58), ('100002', '2013', 98), ('100006', '2013', 66)]"
      ]
     },
     "execution_count": 61,
     "metadata": {},
     "output_type": "execute_result"
    }
   ],
   "source": [
    "#[예제 4-18] Customer_Score 테이블에서 2013년의 온라인점수(On_Score)가 50 이상이고 100이하인레코드를 검색해 보아라.\n",
    "sql = \"\"\"SELECT CID, Year, On_Score FROM Customer_Score WHERE Year=2013 and\n",
    "On_Score>=50 and On_Score<=100 \"\"\"\n",
    "c.execute(sql) \n",
    "c.fetchall()"
   ]
  },
  {
   "cell_type": "code",
   "execution_count": 62,
   "metadata": {},
   "outputs": [
    {
     "data": {
      "text/plain": [
       "[('100001', '2013', 147),\n",
       " ('100002', '2013', 138),\n",
       " ('100003', '2013', 530),\n",
       " ('100004', '2013', 74),\n",
       " ('100005', '2013', 488),\n",
       " ('100006', '2013', 78),\n",
       " ('100007', '2013', 5),\n",
       " ('100008', '2013', 142),\n",
       " ('100009', '2013', 8),\n",
       " ('100010', '2013', 0),\n",
       " ('100011', '2013', 48)]"
      ]
     },
     "execution_count": 62,
     "metadata": {},
     "output_type": "execute_result"
    }
   ],
   "source": [
    "#[예제 4-19] Customer_Score 테이블에는 온라인점수(On_Score)와 오프라인점수(Off_Score)가 년도별 로 집계되어 있다. 2013년의 온라인 고객점수와 오프라인 고객점수의 합(TotalScore)을 검 색해 보아라.\n",
    "sql = \"\"\"SELECT CID, Year, On_Score+Off_Score TotalScore FROM Customer_Score\n",
    "WHERE Year=2013 \"\"\" \n",
    "c.execute(sql)\n",
    "c.fetchall()"
   ]
  },
  {
   "cell_type": "code",
   "execution_count": 63,
   "metadata": {},
   "outputs": [
    {
     "data": {
      "text/plain": [
       "[('100001', '2013', 147),\n",
       " ('100002', '2013', 138),\n",
       " ('100003', '2013', 530),\n",
       " ('100005', '2013', 488),\n",
       " ('100008', '2013', 142)]"
      ]
     },
     "execution_count": 63,
     "metadata": {},
     "output_type": "execute_result"
    }
   ],
   "source": [
    "#[예제 4-20] Customer_Score 테이블에서 2013년의 온라인 고객점수와 오프라인 고객점수의 합 (TotalScore)이 100 이상인 고객을 검색해 보아라.\n",
    "sql = \"\"\"SELECT CID, Year, On_Score+Off_Score TotalScore FROM Customer_Score\n",
    "WHERE Year=2013 and TotalScore>100 \"\"\"\n",
    "c.execute(sql)\n",
    "c.fetchall()"
   ]
  },
  {
   "cell_type": "code",
   "execution_count": 64,
   "metadata": {},
   "outputs": [
    {
     "data": {
      "text/plain": [
       "[('100001',\n",
       "  '김민주',\n",
       "  '서울시 광진구',\n",
       "  '423-8627',\n",
       "  '1975-07-01',\n",
       "  '750701-2534218',\n",
       "  '공무원',\n",
       "  '1',\n",
       "  '0'),\n",
       " ('100002',\n",
       "  '정영미',\n",
       "  '경기도 수원시',\n",
       "  '321-4568',\n",
       "  '1977-02-01',\n",
       "  '770201-2834721',\n",
       "  '회사원',\n",
       "  '1',\n",
       "  '1'),\n",
       " ('100003',\n",
       "  '최소영',\n",
       "  '제주도 서귀포시',\n",
       "  '624-2172',\n",
       "  '1980-01-25',\n",
       "  '800125-2432712',\n",
       "  '학생',\n",
       "  '1',\n",
       "  '0'),\n",
       " ('100004',\n",
       "  '박진재',\n",
       "  '강원도 속초시',\n",
       "  '543-9467',\n",
       "  '1960-05-02',\n",
       "  '600502-1645394',\n",
       "  '공무원',\n",
       "  '0',\n",
       "  '1'),\n",
       " ('100005',\n",
       "  '이순석',\n",
       "  '충남 보령시',\n",
       "  '254-9124',\n",
       "  '1982-06-01',\n",
       "  '820601-1543714',\n",
       "  '회사원',\n",
       "  '0',\n",
       "  '0'),\n",
       " ('100006',\n",
       "  '박선희',\n",
       "  '서울시 강남구',\n",
       "  '459-2187',\n",
       "  '1975-04-05',\n",
       "  '801220-2487416',\n",
       "  '회사원',\n",
       "  '1',\n",
       "  '0'),\n",
       " ('100007',\n",
       "  '김화연',\n",
       "  '경남 경주시',\n",
       "  '284-8147',\n",
       "  '1980-01-04',\n",
       "  '790221-2482217',\n",
       "  '학생',\n",
       "  '1',\n",
       "  '0'),\n",
       " ('100008',\n",
       "  '박민선',\n",
       "  '부산시 해운대구',\n",
       "  '347-9124',\n",
       "  '1985-04-04',\n",
       "  '850527-2123827',\n",
       "  '학생',\n",
       "  '1',\n",
       "  '0'),\n",
       " ('100009',\n",
       "  '노상수',\n",
       "  '전북 군산시',\n",
       "  '547-2984',\n",
       "  '1981-01-30',\n",
       "  '741025-1441282',\n",
       "  '공무원',\n",
       "  '0',\n",
       "  '1'),\n",
       " ('100010',\n",
       "  '이민석',\n",
       "  '경기도 수원시',\n",
       "  '354-2723',\n",
       "  '1972-08-02',\n",
       "  '720802-1481395',\n",
       "  '회사원',\n",
       "  '0',\n",
       "  '1'),\n",
       " ('100011',\n",
       "  '정영미',\n",
       "  '서울시 관악구',\n",
       "  '272-6745',\n",
       "  '1974-09-21',\n",
       "  '740921-2782216',\n",
       "  '주부',\n",
       "  '1',\n",
       "  '1')]"
      ]
     },
     "execution_count": 64,
     "metadata": {},
     "output_type": "execute_result"
    }
   ],
   "source": [
    "#[예제 4-21] Customer_Info 테이블에서 주소(Address)가 널 값이 아닌 레코드를 검색해 보아라.\n",
    "sql = \"\"\"SELECT *\n",
    "FROM Customer_Info\n",
    "WHERE Address IS NOT NULL \"\"\" \n",
    "c.execute(sql)\n",
    "c.fetchall()"
   ]
  },
  {
   "cell_type": "code",
   "execution_count": 65,
   "metadata": {},
   "outputs": [
    {
     "data": {
      "text/plain": [
       "[('100001', '김민주', '1975-07-01', '공무원'),\n",
       " ('100002', '정영미', '1977-02-01', '회사원'),\n",
       " ('100006', '박선희', '1975-04-05', '회사원'),\n",
       " ('100010', '이민석', '1972-08-02', '회사원'),\n",
       " ('100011', '정영미', '1974-09-21', '주부')]"
      ]
     },
     "execution_count": 65,
     "metadata": {},
     "output_type": "execute_result"
    }
   ],
   "source": [
    "#[예제 4-22] Customer_Info 테이블에서 생년월일이 1970년 1월 1일부터 1970년 12월 31일 사이에 있는 고객들을 검색해 보아라.\n",
    "sql = \"\"\"SELECT CID, Name, BDay, Job FROM Customer_Info\n",
    "WHERE BDay between '1970-01-01' and '1979-12-31' \"\"\" \n",
    "c.execute(sql)\n",
    "c.fetchall()\n"
   ]
  },
  {
   "cell_type": "code",
   "execution_count": 66,
   "metadata": {},
   "outputs": [
    {
     "data": {
      "text/plain": [
       "[('100001', '2013', 147),\n",
       " ('100002', '2013', 138),\n",
       " ('100005', '2013', 488),\n",
       " ('100008', '2013', 142)]"
      ]
     },
     "execution_count": 66,
     "metadata": {},
     "output_type": "execute_result"
    }
   ],
   "source": [
    "#[예제 4-23] Customer_Score 테이블에서 2013년의 온라인 고객점수와 오프라인 고객점수의 합 (TotalScore)이 100 이상, 500이하인 고객을 검색해 보아라.\n",
    "sql = \"\"\"SELECT CID, Year, On_Score+Off_Score TotalScore FROM Customer_Score\n",
    "WHERE Year=2013 and\n",
    "TotalScore BETWEEN 100 AND 500 \"\"\"\n",
    "c.execute(sql) \n",
    "c.fetchall()"
   ]
  },
  {
   "cell_type": "code",
   "execution_count": 67,
   "metadata": {},
   "outputs": [
    {
     "data": {
      "text/plain": [
       "[('100001', '김민주', '서울시 광진구'), ('100007', '김화연', '경남 경주시')]"
      ]
     },
     "execution_count": 67,
     "metadata": {},
     "output_type": "execute_result"
    }
   ],
   "source": [
    "#[예제 4-24] Customer_Info 테이블에서 ‘김’씨 성을 가진 고객의 고객번호, 이름, 주소를 검색해 보아 라.\n",
    "sql = \"\"\"SELECT CID, Name, Address FROM Customer_Info\n",
    "WHERE Name LIKE '김%' \"\"\" \n",
    "c.execute(sql)\n",
    "c.fetchall()"
   ]
  },
  {
   "cell_type": "code",
   "execution_count": 68,
   "metadata": {},
   "outputs": [
    {
     "data": {
      "text/plain": [
       "[('100003',\n",
       "  '최소영',\n",
       "  '제주도 서귀포시',\n",
       "  '624-2172',\n",
       "  '1980-01-25',\n",
       "  '800125-2432712',\n",
       "  '학생',\n",
       "  '1',\n",
       "  '0')]"
      ]
     },
     "execution_count": 68,
     "metadata": {},
     "output_type": "execute_result"
    }
   ],
   "source": [
    "#[예제 4-25] Customer_Info 테이블에서 주소가 제주도 ‘서귀포’인 고객을 검색해 보아라.\n",
    "sql = \"\"\"SELECT *\n",
    "FROM Customer_Info\n",
    "WHERE Address LIKE '%서귀포%' \"\"\" \n",
    "c.execute(sql)\n",
    "c.fetchall()"
   ]
  },
  {
   "cell_type": "code",
   "execution_count": 69,
   "metadata": {},
   "outputs": [
    {
     "data": {
      "text/plain": [
       "[('100001', '김민주', '공무원'),\n",
       " ('100002', '정영미', '회사원'),\n",
       " ('100004', '박진재', '공무원'),\n",
       " ('100005', '이순석', '회사원'),\n",
       " ('100006', '박선희', '회사원'),\n",
       " ('100009', '노상수', '공무원'),\n",
       " ('100010', '이민석', '회사원')]"
      ]
     },
     "execution_count": 69,
     "metadata": {},
     "output_type": "execute_result"
    }
   ],
   "source": [
    "#[예제 4-26] Customer_Info 테이블에서 직업이 ‘회사원’, ‘공무원’인 고객을 검색해 보아라.\n",
    "sql = \"\"\"SELECT CID, Name, Job FROM Customer_Info\n",
    "WHERE Job IN ('회사원', '공무원') \"\"\" \n",
    "c.execute(sql)\n",
    "c.fetchall()"
   ]
  },
  {
   "cell_type": "code",
   "execution_count": 70,
   "metadata": {},
   "outputs": [
    {
     "data": {
      "text/plain": [
       "[('공무원', 3), ('주부', 1), ('학생', 3), ('회사원', 4)]"
      ]
     },
     "execution_count": 70,
     "metadata": {},
     "output_type": "execute_result"
    }
   ],
   "source": [
    "#(4) 데이터의 그룹화 : GROUP BY\n",
    "#GROUP BY 절은 특정 필드 값에 따라 데이터들을 그룹 짓는 연산자이다. GROUP BY는 일반적으로 SQL에서 제공하는 함수와 함께 사용하게 된다.\n",
    "#[예제 4-27] Customer_Info 테이블에서 직업별 고객 빈도를 파악해 보아라.\n",
    "sql = \"\"\"SELECT Job, COUNT(*) freq FROM Customer_Info\n",
    "GROUP BY Job \"\"\" \n",
    "c.execute(sql)\n",
    "c.fetchall()\n"
   ]
  },
  {
   "cell_type": "code",
   "execution_count": 71,
   "metadata": {},
   "outputs": [
    {
     "data": {
      "text/plain": [
       "[('100001', 100),\n",
       " ('100002', 110),\n",
       " ('100003', 488),\n",
       " ('100005', 478),\n",
       " ('100006', 164),\n",
       " ('100008', 100),\n",
       " ('100009', 26)]"
      ]
     },
     "execution_count": 71,
     "metadata": {},
     "output_type": "execute_result"
    }
   ],
   "source": [
    "#[예제 4-28] Customer_Score 테이블에는 고객들의 2012년과 2013년 점수가 들어있다. On_Score가 모두 0보다 큰 고객들의 On_Score의 합을 구해 보아라.\n",
    "sql = \"\"\"SELECT CID, sum(On_Score) FROM Customer_Score WHERE On_Score > 0\n",
    "GROUP BY CID \"\"\" \n",
    "c.execute(sql)\n",
    "c.fetchall()"
   ]
  },
  {
   "cell_type": "code",
   "execution_count": 72,
   "metadata": {},
   "outputs": [
    {
     "data": {
      "text/plain": [
       "[('100001', 100.0),\n",
       " ('100002', 35.0),\n",
       " ('100003', 128.0),\n",
       " ('100004', 80.5),\n",
       " ('100005', 94.0),\n",
       " ('100006', 14.5),\n",
       " ('100007', 2.5),\n",
       " ('100008', 135.0),\n",
       " ('100009', 25.5),\n",
       " ('100010', 10.5),\n",
       " ('100011', 43.5)]"
      ]
     },
     "execution_count": 72,
     "metadata": {},
     "output_type": "execute_result"
    }
   ],
   "source": [
    "#[예제 4-29] Customer_Score 테이블에서 2012년과 2013년 자료의 고객별 Off_Score 평균 점수를 구 해 보아라.\n",
    "sql = \"\"\"SELECT CID, avg(Off_Score) FROM Customer_Score\n",
    "GROUP BY CID \"\"\" \n",
    "c.execute(sql)\n",
    "c.fetchall()\n"
   ]
  },
  {
   "cell_type": "markdown",
   "metadata": {},
   "source": [
    "(5) 데이터 그룹화의 조건 검색 : HAVING\n",
    "GROUP BY 절에서 명시된 그룹에 대한 검색 조건을 주고자 할 때 HAVING 절을 이용한다. HAVING 절은 GROUP BY 절이 없을 때에도 사용할 수 있지만 일반적으로 GROUP BY 절과 같이 이용한다. HAVING 절의 사용법은 WHERE 절과 비슷하지만 차이점은 HAVING 절 다음에는 SELECT 다음에 명 시된 필드(또는 함수)에 대해서만 조건을 줄 수 있다.\n"
   ]
  },
  {
   "cell_type": "code",
   "execution_count": 73,
   "metadata": {},
   "outputs": [
    {
     "data": {
      "text/plain": [
       "[('공무원', 3), ('학생', 3), ('회사원', 4)]"
      ]
     },
     "execution_count": 73,
     "metadata": {},
     "output_type": "execute_result"
    }
   ],
   "source": [
    "#[예제 4-30] Customer_Info 테이블에서 직업별 고객 빈도가 3이상인 직업을 파악해 보아라. \n",
    "sql = \"\"\"SELECT Job, COUNT(*) freq\n",
    "FROM Customer_Info GROUP BY Job HAVING freq >= 3 \"\"\"\n",
    "c.execute(sql) \n",
    "c.fetchall()"
   ]
  },
  {
   "cell_type": "code",
   "execution_count": 74,
   "metadata": {},
   "outputs": [
    {
     "data": {
      "text/plain": [
       "[('100002', 110), ('100003', 488), ('100005', 478), ('100006', 164)]"
      ]
     },
     "execution_count": 74,
     "metadata": {},
     "output_type": "execute_result"
    }
   ],
   "source": [
    "#[예제 4-31] Customer_Score 테이블에는 고객들의 2012년과 2013년 점수가 들어있다. 2012년과 2013년 On_Score의 합이 100보다 큰 고객들의 명단을 구해 보아라.\n",
    "sql = \"\"\"SELECT CID, sum(On_Score) totalScore FROM Customer_Score\n",
    "GROUP BY CID\n",
    "HAVING totalScore > 100 \"\"\" \n",
    "c.execute(sql)\n",
    "c.fetchall()\n"
   ]
  },
  {
   "cell_type": "markdown",
   "metadata": {},
   "source": [
    "(6) 출력 순서를 명시하는 검색 : ORDER BY\n",
    "질의 결과로 나오는 레코드들을 정렬시키고자 할 때 ORDER BY 절을 이용한다. ORDER BY 절에서 레 코드를 정렬할 때 기준을 삼고자 하는 필드 이름을 지정하면 기본적으로 해당 필드의 값에 따라 레코드 가 오름차순으로 정렬된다.\n"
   ]
  },
  {
   "cell_type": "code",
   "execution_count": 77,
   "metadata": {},
   "outputs": [
    {
     "data": {
      "text/plain": [
       "[('100001',\n",
       "  '김민주',\n",
       "  '서울시 광진구',\n",
       "  '423-8627',\n",
       "  '1975-07-01',\n",
       "  '750701-2534218',\n",
       "  '공무원',\n",
       "  '1',\n",
       "  '0'),\n",
       " ('100004',\n",
       "  '박진재',\n",
       "  '강원도 속초시',\n",
       "  '543-9467',\n",
       "  '1960-05-02',\n",
       "  '600502-1645394',\n",
       "  '공무원',\n",
       "  '0',\n",
       "  '1'),\n",
       " ('100009',\n",
       "  '노상수',\n",
       "  '전북 군산시',\n",
       "  '547-2984',\n",
       "  '1981-01-30',\n",
       "  '741025-1441282',\n",
       "  '공무원',\n",
       "  '0',\n",
       "  '1'),\n",
       " ('100011',\n",
       "  '정영미',\n",
       "  '서울시 관악구',\n",
       "  '272-6745',\n",
       "  '1974-09-21',\n",
       "  '740921-2782216',\n",
       "  '주부',\n",
       "  '1',\n",
       "  '1'),\n",
       " ('100003',\n",
       "  '최소영',\n",
       "  '제주도 서귀포시',\n",
       "  '624-2172',\n",
       "  '1980-01-25',\n",
       "  '800125-2432712',\n",
       "  '학생',\n",
       "  '1',\n",
       "  '0'),\n",
       " ('100007',\n",
       "  '김화연',\n",
       "  '경남 경주시',\n",
       "  '284-8147',\n",
       "  '1980-01-04',\n",
       "  '790221-2482217',\n",
       "  '학생',\n",
       "  '1',\n",
       "  '0'),\n",
       " ('100008',\n",
       "  '박민선',\n",
       "  '부산시 해운대구',\n",
       "  '347-9124',\n",
       "  '1985-04-04',\n",
       "  '850527-2123827',\n",
       "  '학생',\n",
       "  '1',\n",
       "  '0'),\n",
       " ('100002',\n",
       "  '정영미',\n",
       "  '경기도 수원시',\n",
       "  '321-4568',\n",
       "  '1977-02-01',\n",
       "  '770201-2834721',\n",
       "  '회사원',\n",
       "  '1',\n",
       "  '1'),\n",
       " ('100005',\n",
       "  '이순석',\n",
       "  '충남 보령시',\n",
       "  '254-9124',\n",
       "  '1982-06-01',\n",
       "  '820601-1543714',\n",
       "  '회사원',\n",
       "  '0',\n",
       "  '0'),\n",
       " ('100006',\n",
       "  '박선희',\n",
       "  '서울시 강남구',\n",
       "  '459-2187',\n",
       "  '1975-04-05',\n",
       "  '801220-2487416',\n",
       "  '회사원',\n",
       "  '1',\n",
       "  '0'),\n",
       " ('100010',\n",
       "  '이민석',\n",
       "  '경기도 수원시',\n",
       "  '354-2723',\n",
       "  '1972-08-02',\n",
       "  '720802-1481395',\n",
       "  '회사원',\n",
       "  '0',\n",
       "  '1')]"
      ]
     },
     "execution_count": 77,
     "metadata": {},
     "output_type": "execute_result"
    }
   ],
   "source": [
    "#[예제 4-32] Customer_Info 테이블에서 고객들의 직업을 정렬하여 출력해 보아라. \n",
    "sql = \"\"\"SELECT *FROM Customer_Info\n",
    "ORDER BY Job \"\"\" \n",
    "c.execute(sql)\n",
    "c.fetchall()"
   ]
  },
  {
   "cell_type": "code",
   "execution_count": 78,
   "metadata": {},
   "outputs": [
    {
     "data": {
      "text/plain": [
       "[('100008', 135.0),\n",
       " ('100003', 128.0),\n",
       " ('100001', 100.0),\n",
       " ('100005', 94.0),\n",
       " ('100004', 80.5)]"
      ]
     },
     "execution_count": 78,
     "metadata": {},
     "output_type": "execute_result"
    }
   ],
   "source": [
    "#[예제 4-33] Customer_Score 테이블에서 2012년과 2013년 자료의 고객별 Off_Score 평균이 50보다 큰 점수들을 내림차순으로 출력해 보아라.\n",
    "sql = \"\"\"SELECT CID, avg(Off_Score) mean FROM Customer_Score\n",
    "GROUP BY CID\n",
    "HAVING mean > 50 ORDER BY mean DESC\"\"\"\n",
    "c.execute(sql) \n",
    "c.fetchall()"
   ]
  },
  {
   "cell_type": "code",
   "execution_count": 79,
   "metadata": {},
   "outputs": [
    {
     "data": {
      "text/plain": [
       "[('100001', '김민주', 58),\n",
       " ('100002', '정영미', 98),\n",
       " ('100003', '최소영', 402),\n",
       " ('100004', '박진재', 0),\n",
       " ('100005', '이순석', 356),\n",
       " ('100006', '박선희', 66),\n",
       " ('100007', '김화연', 0),\n",
       " ('100008', '박민선', 44),\n",
       " ('100009', '노상수', 2),\n",
       " ('100010', '이민석', 0),\n",
       " ('100011', '정영미', 0)]"
      ]
     },
     "execution_count": 79,
     "metadata": {},
     "output_type": "execute_result"
    }
   ],
   "source": [
    "#(7) 둘 이상의 테이블에서 데이터 검색 : JOIN\n",
    "#둘 이상의 테이블에서 원하는 데이터를 검색하고자 할 때는 조인(JOIN) 문장을 이용한다.\n",
    "#[예제 4-34] 테이블 Customer_Info와 Customer_Score에서 고객번호(CID)와 이름(Name), 2013년 온 라인 점수(On_Score)를 고객번호 순으로 검색해 보아라.\n",
    "sql = \"\"\"SELECT C.CID, C.Name, CS.On_Score FROM Customer_Info C\n",
    "JOIN Customer_Score CS\n",
    "ON C.CID = CS.CID\n",
    "WHERE CS.Year=2013 \"\"\" \n",
    "c.execute(sql)\n",
    "c.fetchall()\n"
   ]
  },
  {
   "cell_type": "code",
   "execution_count": 80,
   "metadata": {},
   "outputs": [
    {
     "data": {
      "text/plain": [
       "[('100003', '최소영', 744),\n",
       " ('100005', '이순석', 666),\n",
       " ('100008', '박민선', 370),\n",
       " ('100001', '김민주', 300),\n",
       " ('100006', '박선희', 193),\n",
       " ('100002', '정영미', 180),\n",
       " ('100004', '박진재', 161),\n",
       " ('100011', '정영미', 87),\n",
       " ('100009', '노상수', 77),\n",
       " ('100010', '이민석', 21),\n",
       " ('100007', '김화연', 5)]"
      ]
     },
     "execution_count": 80,
     "metadata": {},
     "output_type": "execute_result"
    }
   ],
   "source": [
    "#[예제 4-35] 테이블 Customer_Score와 Customer_Info에서 고객번호(CID), 이름(Name), 2012년과 2013년 자료의 고객별 온라인 점수(On_Score)와 오프라인 점수(Off_Score)의 합을 점수의 합 순으로 검색해 보아라.\n",
    "sql = \"\"\"SELECT CS.CID, C.Name, sum(On_Score+Off_Score) total FROM Customer_Score CS\n",
    "JOIN Customer_Info C\n",
    "ON CS.CID = C.CID\n",
    "GROUP BY CS.CID, C.Name\n",
    "ORDER BY total DESC \"\"\" \n",
    "c.execute(sql)\n",
    "c.fetchall()\n"
   ]
  },
  {
   "cell_type": "markdown",
   "metadata": {},
   "source": [
    "\n",
    "(8) 중첩 질의 : IN\n",
    "일부 질의들은 데이터베이스 내에 존재하는 값들을 검색한 다음 이를 비교 조건에서 사용한다. 이러한 질의들은 중첩 질의를 사용해서 편리하게 나타낼 수가 있다. 중첩 질의는 어떤 질의의 WHERE 문에 완 전한 하나의 SELECT 질의가 포함되어 있는 형태의 질의이다.\n"
   ]
  },
  {
   "cell_type": "code",
   "execution_count": 81,
   "metadata": {},
   "outputs": [
    {
     "data": {
      "text/plain": [
       "[('100001', '김민주'),\n",
       " ('100002', '정영미'),\n",
       " ('100003', '최소영'),\n",
       " ('100005', '이순석'),\n",
       " ('100006', '박선희'),\n",
       " ('100008', '박민선'),\n",
       " ('100009', '노상수')]"
      ]
     },
     "execution_count": 81,
     "metadata": {},
     "output_type": "execute_result"
    }
   ],
   "source": [
    "#[예제 4-36] Customer_Score 테이블에 있는 고객들 중에서 2013년 On_Score가 0보다 큰 고객의 명 단을 Customer_Info에서 검색해 보아라.\n",
    "sql = \"\"\"SELECT CID, Name FROM Customer_Info\n",
    "WHERE CID IN ( SELECT CID\n",
    "FROM Customer_Score\n",
    "WHERE Year=2013 and On_Score > 0 ) \"\"\"\n",
    "c.execute(sql) \n",
    "c.fetchall()\n"
   ]
  },
  {
   "cell_type": "code",
   "execution_count": 82,
   "metadata": {},
   "outputs": [
    {
     "data": {
      "text/plain": [
       "[('100001', 58),\n",
       " ('100002', 98),\n",
       " ('100003', 402),\n",
       " ('100005', 356),\n",
       " ('100006', 66),\n",
       " ('100008', 44),\n",
       " ('100009', 2)]"
      ]
     },
     "execution_count": 82,
     "metadata": {},
     "output_type": "execute_result"
    }
   ],
   "source": [
    "#[예제 4-37] Customer_Info 테이블에 있는 고객들 중에서 Customer_Score 테이블의 2013년 On_Score가 0보다 큰 고객번호와 점수를 검색해 보아라.\n",
    "sql = \"\"\"SELECT CID, On_Score FROM Customer_Score\n",
    "WHERE CID IN ( SELECT CID\n",
    "FROM Customer_Info )\n",
    "and Year=2013 and On_Score > 0 \"\"\" \n",
    "c.execute(sql)\n",
    "c.fetchall()"
   ]
  },
  {
   "cell_type": "code",
   "execution_count": null,
   "metadata": {},
   "outputs": [],
   "source": []
  }
 ],
 "metadata": {
  "kernelspec": {
   "display_name": "Python 3",
   "language": "python",
   "name": "python3"
  },
  "language_info": {
   "codemirror_mode": {
    "name": "ipython",
    "version": 3
   },
   "file_extension": ".py",
   "mimetype": "text/x-python",
   "name": "python",
   "nbconvert_exporter": "python",
   "pygments_lexer": "ipython3",
   "version": "3.8.5"
  }
 },
 "nbformat": 4,
 "nbformat_minor": 4
}
